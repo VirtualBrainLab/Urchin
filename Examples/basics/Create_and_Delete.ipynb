{
 "cells": [
  {
   "cell_type": "code",
   "execution_count": 1,
   "id": "9fc82176-1f3f-4c14-8ec2-cb09cc064aac",
   "metadata": {},
   "outputs": [],
   "source": [
    "import unityneuro.render as urn"
   ]
  },
  {
   "cell_type": "code",
   "execution_count": 2,
   "id": "7578da67-1239-4cc0-af5b-20cd6bf34ce1",
   "metadata": {},
   "outputs": [
    {
     "name": "stdout",
     "output_type": "stream",
     "text": [
      "(URN) connected to server\n",
      "Login sent with ID: Dan\n"
     ]
    }
   ],
   "source": [
    "urn.setup()"
   ]
  },
  {
   "cell_type": "code",
   "execution_count": 13,
   "id": "716d8e31-05bd-4351-90bb-75363811ba7e",
   "metadata": {},
   "outputs": [],
   "source": [
    "urn.create_neurons(['n1','n2'])\n",
    "urn.set_neuron_sizes({'n1':1,'n2':1})\n",
    "urn.set_neuron_colors({'n1':\"#FF0000\",'n2':\"#00ff00\"})\n",
    "urn.set_neuron_positions({'n1':[0,0,0],'n2':[500,0,0]})"
   ]
  },
  {
   "cell_type": "code",
   "execution_count": 14,
   "id": "6e577107-fe68-4846-90b5-4665fa7ea7aa",
   "metadata": {},
   "outputs": [],
   "source": [
    "urn.delete_neurons(['n1'])"
   ]
  },
  {
   "cell_type": "code",
   "execution_count": 15,
   "id": "82f24773-dd94-4573-8c72-a99f1ebe7ff0",
   "metadata": {},
   "outputs": [],
   "source": [
    "urn.clear()"
   ]
  },
  {
   "cell_type": "code",
   "execution_count": 16,
   "id": "a468378e-6c8b-4d6e-922b-59dd462256bd",
   "metadata": {},
   "outputs": [],
   "source": [
    "urn.create_probes(['p1'])\n",
    "urn.set_probe_positions({'p1':[0,5000,0]})"
   ]
  },
  {
   "cell_type": "code",
   "execution_count": 17,
   "id": "c24afa3d-908d-46a5-9c64-bdee6d05d603",
   "metadata": {},
   "outputs": [],
   "source": [
    "urn.delete_probes(['p1'])"
   ]
  },
  {
   "cell_type": "code",
   "execution_count": null,
   "id": "3defac68-e33d-40ae-a247-84406a194b5c",
   "metadata": {},
   "outputs": [],
   "source": []
  }
 ],
 "metadata": {
  "kernelspec": {
   "display_name": "Python 3 (ipykernel)",
   "language": "python",
   "name": "python3"
  },
  "language_info": {
   "codemirror_mode": {
    "name": "ipython",
    "version": 3
   },
   "file_extension": ".py",
   "mimetype": "text/x-python",
   "name": "python",
   "nbconvert_exporter": "python",
   "pygments_lexer": "ipython3",
   "version": "3.9.0"
  }
 },
 "nbformat": 4,
 "nbformat_minor": 5
}
