{
 "cells": [
  {
   "cell_type": "code",
   "execution_count": null,
   "id": "ffccfa79-9e51-4159-a8e3-4d38e0d69cd2",
   "metadata": {},
   "outputs": [],
   "source": [
    "import unityneuro.render as urn"
   ]
  },
  {
   "cell_type": "code",
   "execution_count": null,
   "id": "76973a23-f3a2-4932-85d7-c9a1554ec240",
   "metadata": {},
   "outputs": [],
   "source": [
    "urn.setup()"
   ]
  },
  {
   "cell_type": "code",
   "execution_count": null,
   "id": "f2545933-e1d8-47bb-aa5e-6285324e02ca",
   "metadata": {},
   "outputs": [],
   "source": [
    "urn.create_text(['tl','bl','tr','br','center'])"
   ]
  },
  {
   "cell_type": "code",
   "execution_count": null,
   "id": "7beb8367-c70c-456f-9c82-fd66ce6687c5",
   "metadata": {},
   "outputs": [],
   "source": [
    "urn.set_text({'tl':'top left',\n",
    "            'bl':'bottom left',\n",
    "            'tr':'top right',\n",
    "            'br':'bottom right',\n",
    "            'center':'center'})"
   ]
  },
  {
   "cell_type": "code",
   "execution_count": null,
   "id": "a8eb5485-35e9-4df5-a3bd-633e466d2f46",
   "metadata": {},
   "outputs": [],
   "source": [
    "urn.set_text_positions({'tl':[-1,1],\n",
    "                        'bl':[-1,-0.9],\n",
    "                        'tr':[0.85,1],\n",
    "                        'br':[0.85,-0.9],\n",
    "                        'center':[0,0]})"
   ]
  },
  {
   "cell_type": "code",
   "execution_count": null,
   "id": "9ac44a3f-fccd-4205-aa93-24259f521dfc",
   "metadata": {},
   "outputs": [],
   "source": [
    "urn.set_text_colors({'tl':\"#FF0000\"})"
   ]
  },
  {
   "cell_type": "code",
   "execution_count": null,
   "id": "2e31c5aa-ee7e-47d9-bfd7-3c69e55c86da",
   "metadata": {},
   "outputs": [],
   "source": [
    "urn.set_text_sizes({'tl':100})"
   ]
  },
  {
   "cell_type": "code",
   "execution_count": null,
   "id": "79971f71-aa2d-4606-97b9-961cd27970d8",
   "metadata": {},
   "outputs": [],
   "source": []
  }
 ],
 "metadata": {
  "kernelspec": {
   "display_name": "Python 3 (ipykernel)",
   "language": "python",
   "name": "python3"
  },
  "language_info": {
   "codemirror_mode": {
    "name": "ipython",
    "version": 3
   },
   "file_extension": ".py",
   "mimetype": "text/x-python",
   "name": "python",
   "nbconvert_exporter": "python",
   "pygments_lexer": "ipython3",
   "version": "3.9.0"
  }
 },
 "nbformat": 4,
 "nbformat_minor": 5
}
