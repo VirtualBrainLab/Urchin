{
 "cells": [
  {
   "cell_type": "code",
   "execution_count": 1,
   "id": "32c8d5ba-0dc6-4e23-a076-a512bdb83dee",
   "metadata": {},
   "outputs": [
    {
     "name": "stderr",
     "output_type": "stream",
     "text": [
      "c:\\Users\\Dan\\.conda\\envs\\iblenv\\lib\\site-packages\\numpy\\_distributor_init.py:30: UserWarning: loaded more than 1 DLL from .libs:\n",
      "c:\\Users\\Dan\\.conda\\envs\\iblenv\\lib\\site-packages\\numpy\\.libs\\libopenblas.FB5AE2TYXYH2IJRDKGDGQ3XBKLKTF43H.gfortran-win_amd64.dll\n",
      "c:\\Users\\Dan\\.conda\\envs\\iblenv\\lib\\site-packages\\numpy\\.libs\\libopenblas.GK7GX5KEQ4F6UYO3P26ULGBQYHGQO7J4.gfortran-win_amd64.dll\n",
      "  warnings.warn(\"loaded more than 1 DLL from .libs:\"\n"
     ]
    }
   ],
   "source": [
    "import json\n",
    "import sys\n",
    "import os\n",
    "import oursin as urchin"
   ]
  },
  {
   "cell_type": "code",
   "execution_count": 2,
   "id": "a956711a-aa6e-46da-accd-1d1e412e57b6",
   "metadata": {},
   "outputs": [
    {
     "name": "stdout",
     "output_type": "stream",
     "text": [
      "(URN) connected to server\n",
      "Login sent with ID: Dan\n"
     ]
    }
   ],
   "source": [
    "urchin.setup(localhost= True, standalone = True)"
   ]
  },
  {
   "cell_type": "code",
   "execution_count": 3,
   "id": "e9bc75e9-8f70-4938-bfca-bab212c8b08b",
   "metadata": {},
   "outputs": [],
   "source": [
    "urchin.clear()\n",
    "\n",
    "# Load some areas so that we have a reference frame for rotations\n",
    "\n",
    "urchin.ccf.set_visibility({'grey-rh':True})\n",
    "urchin.ccf.set_material({'grey-rh':'transparent-unlit'})\n",
    "urchin.ccf.set_alpha({'grey-rh':0.5})\n",
    "\n",
    "areas = ['MRN','SCm', 'SCs', 'APN']\n",
    "for area in areas:\n",
    "    urchin.ccf.set_visibility({area:True})\n",
    "    urchin.ccf.set_material({area:'default'})"
   ]
  },
  {
   "cell_type": "code",
   "execution_count": 4,
   "id": "9ec1b93f-6f51-45f6-bea7-3e63804767f5",
   "metadata": {},
   "outputs": [],
   "source": [
    "urchin.camera.set_rotation(0,0,0)"
   ]
  },
  {
   "cell_type": "code",
   "execution_count": 5,
   "id": "d40743cd-d50c-4ce4-a25b-e20cc2a44f6d",
   "metadata": {},
   "outputs": [],
   "source": [
    "urchin.camera.set_rotation(45,0,0)"
   ]
  },
  {
   "cell_type": "code",
   "execution_count": 6,
   "id": "a744a56d-89d7-4f1b-85f1-4c7d1427977d",
   "metadata": {},
   "outputs": [],
   "source": [
    "urchin.camera.set_rotation(90,0,0)"
   ]
  },
  {
   "cell_type": "code",
   "execution_count": 7,
   "id": "d8940676-42ea-4292-8bc7-c9bea73cdb87",
   "metadata": {},
   "outputs": [],
   "source": [
    "urchin.camera.set_rotation(0,0,0)"
   ]
  },
  {
   "cell_type": "code",
   "execution_count": 8,
   "id": "8e4fc135-2bf5-48c0-a569-75bc17fc8e94",
   "metadata": {},
   "outputs": [],
   "source": [
    "urchin.camera.set_rotation(0,45,0)"
   ]
  },
  {
   "cell_type": "code",
   "execution_count": 9,
   "id": "a02e5284-f905-4893-ba09-adbee0bf3411",
   "metadata": {},
   "outputs": [],
   "source": [
    "urchin.camera.set_rotation(0,90,0)"
   ]
  },
  {
   "cell_type": "code",
   "execution_count": 10,
   "id": "35402029-e4db-4a9d-abde-0a30b5a6ed6e",
   "metadata": {},
   "outputs": [],
   "source": [
    "urchin.camera.set_rotation(0,0,0)"
   ]
  },
  {
   "cell_type": "code",
   "execution_count": 11,
   "id": "ec891e1b-96b0-4d0f-b178-fd9d7cc0fbb4",
   "metadata": {},
   "outputs": [],
   "source": [
    "urchin.camera.set_rotation(0,0,45)"
   ]
  },
  {
   "cell_type": "code",
   "execution_count": 12,
   "id": "648303f3-8cc8-41fa-ae85-f10ff57f86e7",
   "metadata": {},
   "outputs": [],
   "source": [
    "urchin.camera.set_rotation(0,0,90)"
   ]
  },
  {
   "cell_type": "code",
   "execution_count": 13,
   "id": "0475c086-a621-4299-a5ae-56d252851d17",
   "metadata": {},
   "outputs": [],
   "source": [
    "urchin.camera.set_target([0,0,0])"
   ]
  },
  {
   "cell_type": "code",
   "execution_count": 14,
   "id": "c8364f16-4f9c-426b-89b8-a46dff01ae23",
   "metadata": {},
   "outputs": [],
   "source": [
    "urchin.camera.set_target([5700,0,0])"
   ]
  },
  {
   "cell_type": "code",
   "execution_count": 15,
   "id": "674f9bb0-d62e-4379-9b0a-8ee0dc1f1d19",
   "metadata": {},
   "outputs": [],
   "source": [
    "urchin.camera.set_target([11400,0,0])"
   ]
  },
  {
   "cell_type": "code",
   "execution_count": 16,
   "id": "5d6ff7e3-d25c-48c6-919c-0a62ba79ff5d",
   "metadata": {},
   "outputs": [],
   "source": [
    "urchin.camera.set_target([0,0,0])"
   ]
  },
  {
   "cell_type": "code",
   "execution_count": 17,
   "id": "66d38e7e-fcd4-49ff-bdec-26f751270bec",
   "metadata": {},
   "outputs": [],
   "source": [
    "urchin.camera.set_target([0,6600,0])"
   ]
  },
  {
   "cell_type": "code",
   "execution_count": 22,
   "id": "b19bed2f-f08c-4495-91aa-7ef16b129c51",
   "metadata": {},
   "outputs": [],
   "source": [
    "urchin.camera.set_target([0,13200,0])"
   ]
  },
  {
   "cell_type": "code",
   "execution_count": 23,
   "id": "3119235c-b8f7-4c06-86a7-f7144fa6f5e6",
   "metadata": {},
   "outputs": [],
   "source": [
    "# set the camera to be roughly centered on MRN\n",
    "urchin.camera.set_target_area('MRN')"
   ]
  },
  {
   "cell_type": "code",
   "execution_count": 20,
   "id": "bc273dc4-17c4-4bf3-9f03-39a39274ccfc",
   "metadata": {},
   "outputs": [],
   "source": [
    "# set the camera to be roughly centered on the left hemisphere\n",
    "urchin.camera.set_target_area('grey-l')"
   ]
  },
  {
   "cell_type": "code",
   "execution_count": 21,
   "id": "a950bdb7-2928-45a0-bc08-78914cf92a85",
   "metadata": {},
   "outputs": [],
   "source": [
    "# set the camera to be roughly centered on MRN\n",
    "urchin.camera.set_target_area('grey-r')"
   ]
  },
  {
   "attachments": {},
   "cell_type": "markdown",
   "id": "8dc91545",
   "metadata": {},
   "source": [
    "# Camera mode"
   ]
  },
  {
   "cell_type": "code",
   "execution_count": 6,
   "id": "e8000521",
   "metadata": {},
   "outputs": [],
   "source": [
    "urchin.ccf.set_visibility({'grey': True})"
   ]
  },
  {
   "cell_type": "code",
   "execution_count": 7,
   "id": "fd812b69",
   "metadata": {},
   "outputs": [],
   "source": [
    "urchin.camera.set_mode('perspective')"
   ]
  },
  {
   "cell_type": "code",
   "execution_count": 8,
   "id": "cb9143d5",
   "metadata": {},
   "outputs": [],
   "source": [
    "urchin.camera.set_mode('orthographic')"
   ]
  },
  {
   "attachments": {},
   "cell_type": "markdown",
   "id": "7f03d997",
   "metadata": {},
   "source": [
    "# Screenshot"
   ]
  },
  {
   "cell_type": "code",
   "execution_count": 3,
   "id": "a6914d28",
   "metadata": {},
   "outputs": [
    {
     "name": "stdout",
     "output_type": "stream",
     "text": [
      "(Camera receive meta) 1\n",
      "(Camera) received 125516 bytes\n"
     ]
    }
   ],
   "source": [
    "urchin.camera.capture_image()"
   ]
  },
  {
   "cell_type": "code",
   "execution_count": 14,
   "id": "e3e7adb3",
   "metadata": {},
   "outputs": [],
   "source": [
    "from PIL import Image"
   ]
  },
  {
   "cell_type": "code",
   "execution_count": null,
   "id": "a4896565",
   "metadata": {},
   "outputs": [],
   "source": []
  }
 ],
 "metadata": {
  "kernelspec": {
   "display_name": "iblenv",
   "language": "python",
   "name": "python3"
  },
  "language_info": {
   "codemirror_mode": {
    "name": "ipython",
    "version": 3
   },
   "file_extension": ".py",
   "mimetype": "text/x-python",
   "name": "python",
   "nbconvert_exporter": "python",
   "pygments_lexer": "ipython3",
   "version": "3.9.10"
  },
  "vscode": {
   "interpreter": {
    "hash": "e571d860348ccccbb87c9afaea3b8de5dc8c1513265a6c0fcfe6ac69a4d3ce4b"
   }
  }
 },
 "nbformat": 4,
 "nbformat_minor": 5
}
