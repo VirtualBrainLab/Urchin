{
 "cells": [
  {
   "cell_type": "code",
   "execution_count": 1,
   "id": "32c8d5ba-0dc6-4e23-a076-a512bdb83dee",
   "metadata": {},
   "outputs": [],
   "source": [
    "import json\n",
    "import sys\n",
    "import os\n",
    "import unityneuro.render as urn"
   ]
  },
  {
   "cell_type": "code",
   "execution_count": 2,
   "id": "a956711a-aa6e-46da-accd-1d1e412e57b6",
   "metadata": {},
   "outputs": [
    {
     "name": "stdout",
     "output_type": "stream",
     "text": [
      "(URN) connected to server\n",
      "Login sent with ID: Dan\n"
     ]
    }
   ],
   "source": [
    "urn.setup()"
   ]
  },
  {
   "cell_type": "code",
   "execution_count": 7,
   "id": "ea54578f-7860-4886-9809-b1b2b49914eb",
   "metadata": {},
   "outputs": [],
   "source": [
    "urn.clear()\n",
    "\n",
    "urn.set_area_visibility({'grey':True})\n",
    "urn.set_area_material({'grey':'transparent-unlit'})\n",
    "urn.set_area_alpha({'grey':0.5})\n",
    "\n",
    "areas = ['MRN','SCm', 'SCs', 'APN']\n",
    "for area in areas:\n",
    "    urn.set_area_visibility({area:True})\n",
    "    urn.set_area_material({area:'default'})"
   ]
  },
  {
   "cell_type": "code",
   "execution_count": 8,
   "id": "9ec1b93f-6f51-45f6-bea7-3e63804767f5",
   "metadata": {},
   "outputs": [],
   "source": [
    "urn.set_camera_rotation(0,0,0)"
   ]
  },
  {
   "cell_type": "code",
   "execution_count": 9,
   "id": "d40743cd-d50c-4ce4-a25b-e20cc2a44f6d",
   "metadata": {},
   "outputs": [],
   "source": [
    "urn.set_camera_rotation(45,0,0)"
   ]
  },
  {
   "cell_type": "code",
   "execution_count": 37,
   "id": "a744a56d-89d7-4f1b-85f1-4c7d1427977d",
   "metadata": {},
   "outputs": [],
   "source": [
    "urn.set_camera_rotation(90,0,0)"
   ]
  },
  {
   "cell_type": "code",
   "execution_count": 10,
   "id": "d8940676-42ea-4292-8bc7-c9bea73cdb87",
   "metadata": {},
   "outputs": [],
   "source": [
    "urn.set_camera_rotation(0,0,0)"
   ]
  },
  {
   "cell_type": "code",
   "execution_count": 39,
   "id": "8e4fc135-2bf5-48c0-a569-75bc17fc8e94",
   "metadata": {},
   "outputs": [],
   "source": [
    "urn.set_camera_rotation(0,45,0)"
   ]
  },
  {
   "cell_type": "code",
   "execution_count": 40,
   "id": "a02e5284-f905-4893-ba09-adbee0bf3411",
   "metadata": {},
   "outputs": [],
   "source": [
    "urn.set_camera_rotation(0,90,0)"
   ]
  },
  {
   "cell_type": "code",
   "execution_count": 44,
   "id": "35402029-e4db-4a9d-abde-0a30b5a6ed6e",
   "metadata": {},
   "outputs": [],
   "source": [
    "urn.set_camera_rotation(0,0,0)"
   ]
  },
  {
   "cell_type": "code",
   "execution_count": 11,
   "id": "ec891e1b-96b0-4d0f-b178-fd9d7cc0fbb4",
   "metadata": {},
   "outputs": [],
   "source": [
    "urn.set_camera_rotation(0,0,45)"
   ]
  },
  {
   "cell_type": "code",
   "execution_count": 12,
   "id": "648303f3-8cc8-41fa-ae85-f10ff57f86e7",
   "metadata": {},
   "outputs": [],
   "source": [
    "urn.set_camera_rotation(0,0,90)"
   ]
  },
  {
   "cell_type": "code",
   "execution_count": 14,
   "id": "0475c086-a621-4299-a5ae-56d252851d17",
   "metadata": {},
   "outputs": [],
   "source": [
    "urn.set_camera_target([0,0,0])"
   ]
  },
  {
   "cell_type": "code",
   "execution_count": 16,
   "id": "c8364f16-4f9c-426b-89b8-a46dff01ae23",
   "metadata": {},
   "outputs": [],
   "source": [
    "urn.set_camera_target([5700,0,0])"
   ]
  },
  {
   "cell_type": "code",
   "execution_count": 17,
   "id": "674f9bb0-d62e-4379-9b0a-8ee0dc1f1d19",
   "metadata": {},
   "outputs": [],
   "source": [
    "urn.set_camera_target([11400,0,0])"
   ]
  },
  {
   "cell_type": "code",
   "execution_count": 90,
   "id": "5d6ff7e3-d25c-48c6-919c-0a62ba79ff5d",
   "metadata": {},
   "outputs": [],
   "source": [
    "urn.set_camera_target([0,0,0])"
   ]
  },
  {
   "cell_type": "code",
   "execution_count": 91,
   "id": "66d38e7e-fcd4-49ff-bdec-26f751270bec",
   "metadata": {},
   "outputs": [],
   "source": [
    "urn.set_camera_target([0,6600,0])"
   ]
  },
  {
   "cell_type": "code",
   "execution_count": 92,
   "id": "b19bed2f-f08c-4495-91aa-7ef16b129c51",
   "metadata": {},
   "outputs": [],
   "source": [
    "urn.set_camera_target([0,13200,0])"
   ]
  },
  {
   "cell_type": "code",
   "execution_count": 96,
   "id": "b2774c81-16de-4e02-aeff-3f8f7e9bce11",
   "metadata": {},
   "outputs": [],
   "source": [
    "urn.set_camera_target([0,0,0])\n",
    "urn.set_camera_rotation(90,0,0)"
   ]
  },
  {
   "cell_type": "code",
   "execution_count": 97,
   "id": "1cb2333f-60d2-438c-9d51-ff9d124a5042",
   "metadata": {},
   "outputs": [],
   "source": [
    "urn.set_camera_target([0,0,4000])"
   ]
  },
  {
   "cell_type": "code",
   "execution_count": 98,
   "id": "0aa8b06b-edc8-4483-8a41-72e02d3a44e8",
   "metadata": {},
   "outputs": [],
   "source": [
    "urn.set_camera_target([0,0,8000])"
   ]
  },
  {
   "cell_type": "code",
   "execution_count": 18,
   "id": "3119235c-b8f7-4c06-86a7-f7144fa6f5e6",
   "metadata": {},
   "outputs": [],
   "source": [
    "# set the camera to be roughly centered on MRN\n",
    "urn.set_camera_target_area('MRN')"
   ]
  },
  {
   "cell_type": "code",
   "execution_count": 158,
   "id": "bc273dc4-17c4-4bf3-9f03-39a39274ccfc",
   "metadata": {},
   "outputs": [],
   "source": [
    "# set the camera to be roughly centered on the left hemisphere\n",
    "urn.set_camera_target_area('grey-l')"
   ]
  },
  {
   "cell_type": "code",
   "execution_count": 159,
   "id": "a950bdb7-2928-45a0-bc08-78914cf92a85",
   "metadata": {},
   "outputs": [],
   "source": [
    "# set the camera to be roughly centered on MRN\n",
    "urn.set_camera_target_area('grey-r')"
   ]
  }
 ],
 "metadata": {
  "kernelspec": {
   "display_name": "Python 3 (ipykernel)",
   "language": "python",
   "name": "python3"
  },
  "language_info": {
   "codemirror_mode": {
    "name": "ipython",
    "version": 3
   },
   "file_extension": ".py",
   "mimetype": "text/x-python",
   "name": "python",
   "nbconvert_exporter": "python",
   "pygments_lexer": "ipython3",
   "version": "3.9.0"
  }
 },
 "nbformat": 4,
 "nbformat_minor": 5
}
