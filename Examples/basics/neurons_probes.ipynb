{
 "cells": [
  {
   "cell_type": "code",
   "execution_count": 3,
   "id": "9fc82176-1f3f-4c14-8ec2-cb09cc064aac",
   "metadata": {},
   "outputs": [],
   "source": [
    "import oursin as urchin\n",
    "\n",
    "# alternatively:\n",
    "# from oursin import neurons as neurons"
   ]
  },
  {
   "cell_type": "code",
   "execution_count": 2,
   "id": "958f644b",
   "metadata": {},
   "outputs": [
    {
     "name": "stdout",
     "output_type": "stream",
     "text": [
      "(URN) connected to server\n",
      "Login sent with ID: Dan\n"
     ]
    }
   ],
   "source": [
    "urchin.setup()"
   ]
  },
  {
   "cell_type": "code",
   "execution_count": 3,
   "id": "716d8e31-05bd-4351-90bb-75363811ba7e",
   "metadata": {},
   "outputs": [],
   "source": [
    "urchin.neurons.create(['n1','n2'])\n",
    "urchin.neurons.set_size({'n1':1,'n2':1})\n",
    "urchin.neurons.set_color({'n1':\"#FF0000\",'n2':\"#00ff00\"})\n",
    "urchin.neurons.set_position({'n1':[0,0,0],'n2':[500,0,0]})"
   ]
  },
  {
   "cell_type": "code",
   "execution_count": 4,
   "id": "6e577107-fe68-4846-90b5-4665fa7ea7aa",
   "metadata": {},
   "outputs": [
    {
     "name": "stderr",
     "output_type": "stream",
     "text": [
      "packet queue is empty, aborting\n"
     ]
    },
    {
     "name": "stdout",
     "output_type": "stream",
     "text": [
      "(URN) disconnected from server\n",
      "(URN) connected to server\n",
      "Login sent with ID: Dan\n"
     ]
    },
    {
     "name": "stderr",
     "output_type": "stream",
     "text": [
      "packet queue is empty, aborting\n"
     ]
    },
    {
     "name": "stdout",
     "output_type": "stream",
     "text": [
      "(URN) disconnected from server\n",
      "(URN) connected to server\n",
      "Login sent with ID: Dan\n"
     ]
    },
    {
     "name": "stderr",
     "output_type": "stream",
     "text": [
      "packet queue is empty, aborting\n"
     ]
    },
    {
     "name": "stdout",
     "output_type": "stream",
     "text": [
      "(URN) disconnected from server\n",
      "(URN) connected to server\n",
      "Login sent with ID: Dan\n"
     ]
    },
    {
     "name": "stderr",
     "output_type": "stream",
     "text": [
      "packet queue is empty, aborting\n"
     ]
    },
    {
     "name": "stdout",
     "output_type": "stream",
     "text": [
      "(URN) disconnected from server\n",
      "(URN) connected to server\n",
      "Login sent with ID: Dan\n",
      "(URN) disconnected from server\n",
      "(URN) connected to server\n",
      "Login sent with ID: Dan\n"
     ]
    }
   ],
   "source": [
    "urchin.neurons.delete(['n1'])"
   ]
  },
  {
   "cell_type": "code",
   "execution_count": null,
   "id": "e7b44dac-cf0c-478e-ad75-fd11aa97b49e",
   "metadata": {},
   "outputs": [],
   "source": [
    "urchin.neurons.set_shape({'n2':'sphere'})"
   ]
  },
  {
   "cell_type": "code",
   "execution_count": null,
   "id": "82f24773-dd94-4573-8c72-a99f1ebe7ff0",
   "metadata": {},
   "outputs": [],
   "source": [
    "urchin.clear()"
   ]
  },
  {
   "cell_type": "code",
   "execution_count": null,
   "id": "a468378e-6c8b-4d6e-922b-59dd462256bd",
   "metadata": {},
   "outputs": [],
   "source": [
    "urchin.probes.create(['p1'])\n",
    "urchin.probes.set_position({'p1':[0,5000,0]})\n",
    "urchin.probes.set_color({'p1':'#ff0000'})"
   ]
  },
  {
   "cell_type": "code",
   "execution_count": null,
   "id": "c24afa3d-908d-46a5-9c64-bdee6d05d603",
   "metadata": {},
   "outputs": [],
   "source": [
    "urchin.probes.delete(['p1'])"
   ]
  },
  {
   "cell_type": "code",
   "execution_count": null,
   "id": "3defac68-e33d-40ae-a247-84406a194b5c",
   "metadata": {},
   "outputs": [],
   "source": [
    "# show that probes of different sizes are placed at the same tip position\n",
    "urchin.clear_probes()\n",
    "urchin.probes.create(['p1','p2'])\n",
    "urchin.probes.set_angle({'p2':[0,15,0]})\n",
    "urchin.probes.set_position({'p1':[0,0,0],\n",
    "                        'p2':[0,0,0]})\n",
    "urchin.probes.set_color({'p1':'#ff0000',\n",
    "                     'p2':'#00ff00'})\n",
    "urchin.probes.set_size({'p1':[0.07, 5, 0.02],\n",
    "                    'p2':[0.07, 2, 0.02]})"
   ]
  },
  {
   "cell_type": "code",
   "execution_count": null,
   "id": "68fdbf35-63ee-46f6-ad9f-ca49c2cc01a5",
   "metadata": {},
   "outputs": [],
   "source": [
    "urchin.probes.set_size({'p2':[0.07,4,0.02]})"
   ]
  },
  {
   "cell_type": "code",
   "execution_count": null,
   "id": "6fb1f96c-1e62-4e48-9895-9990d242becb",
   "metadata": {},
   "outputs": [],
   "source": []
  }
 ],
 "metadata": {
  "kernelspec": {
   "display_name": "iblenv",
   "language": "python",
   "name": "python3"
  },
  "language_info": {
   "codemirror_mode": {
    "name": "ipython",
    "version": 3
   },
   "file_extension": ".py",
   "mimetype": "text/x-python",
   "name": "python",
   "nbconvert_exporter": "python",
   "pygments_lexer": "ipython3",
   "version": "3.9.0"
  },
  "vscode": {
   "interpreter": {
    "hash": "e571d860348ccccbb87c9afaea3b8de5dc8c1513265a6c0fcfe6ac69a4d3ce4b"
   }
  }
 },
 "nbformat": 4,
 "nbformat_minor": 5
}
