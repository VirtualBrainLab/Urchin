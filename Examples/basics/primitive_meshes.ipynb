{
 "cells": [
  {
   "cell_type": "code",
   "execution_count": 1,
   "metadata": {},
   "outputs": [
    {
     "name": "stdout",
     "output_type": "stream",
     "text": [
      "(URN) connected to server\n",
      "Login sent with ID: Jasmine Schoch\n"
     ]
    }
   ],
   "source": [
    "import unityneuro.render as urn\n",
    "urn.setup(localhost = True, standalone= True)"
   ]
  },
  {
   "cell_type": "code",
   "execution_count": 7,
   "metadata": {},
   "outputs": [],
   "source": [
    "urn.create_prim_mesh([\"cube1\", \"cube2\"])"
   ]
  },
  {
   "cell_type": "code",
   "execution_count": 8,
   "metadata": {},
   "outputs": [],
   "source": [
    "urn.delete_prim_mesh([\"cube1\"])"
   ]
  },
  {
   "cell_type": "code",
   "execution_count": 10,
   "metadata": {},
   "outputs": [],
   "source": [
    "tempPositions = [4,4,4]\n",
    "temp = {\"cube2\": tempPositions}\n",
    "\n",
    "urn.set_mesh_position(temp)\n",
    "//urn.set_mesh_position(\"cube2\":[4,4,4])"
   ]
  },
  {
   "cell_type": "code",
   "execution_count": 12,
   "metadata": {},
   "outputs": [],
   "source": [
    "tempScale = {\"cube2\" : [2,2,2]}\n",
    "urn.set_mesh_scale(tempScale)"
   ]
  },
  {
   "cell_type": "code",
   "execution_count": 15,
   "metadata": {},
   "outputs": [],
   "source": [
    "urn.set_mesh_color({\"cube2\":\"#000000\"})"
   ]
  },
  {
   "cell_type": "code",
   "execution_count": null,
   "metadata": {},
   "outputs": [],
   "source": []
  }
 ],
 "metadata": {
  "kernelspec": {
   "display_name": "Python 3.8.0 ('urchin-venv': venv)",
   "language": "python",
   "name": "python3"
  },
  "language_info": {
   "codemirror_mode": {
    "name": "ipython",
    "version": 3
   },
   "file_extension": ".py",
   "mimetype": "text/x-python",
   "name": "python",
   "nbconvert_exporter": "python",
   "pygments_lexer": "ipython3",
   "version": "3.8.0"
  },
  "orig_nbformat": 4,
  "vscode": {
   "interpreter": {
    "hash": "65fbda99ef506b46cf85649fb72f0ee183d37808244220e77502e0b504315282"
   }
  }
 },
 "nbformat": 4,
 "nbformat_minor": 2
}
