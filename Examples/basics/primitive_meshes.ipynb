{
 "cells": [
  {
   "cell_type": "code",
   "execution_count": 1,
   "metadata": {},
   "outputs": [
    {
     "name": "stdout",
     "output_type": "stream",
     "text": [
      "(URN) connected to server\n",
      "Login sent with ID: jasmineschoch\n"
     ]
    }
   ],
   "source": [
    "import oursin as urchin\n",
    "urchin.setup(localhost= True)\n",
    "from oursin import client"
   ]
  },
  {
   "cell_type": "markdown",
   "metadata": {},
   "source": [
    "Running code with just an individual mesh:"
   ]
  },
  {
   "cell_type": "code",
   "execution_count": null,
   "metadata": {},
   "outputs": [],
   "source": [
    "# Creating:\n",
    "cube_obj = urchin.primitives.Primitive()"
   ]
  },
  {
   "cell_type": "code",
   "execution_count": null,
   "metadata": {},
   "outputs": [],
   "source": [
    "# Set position:\n",
    "cube_obj.set_position([2,2,2])"
   ]
  },
  {
   "cell_type": "code",
   "execution_count": null,
   "metadata": {},
   "outputs": [],
   "source": [
    "# Scale:\n",
    "cube_obj.set_scale([3,2,3])"
   ]
  },
  {
   "cell_type": "code",
   "execution_count": null,
   "metadata": {},
   "outputs": [],
   "source": [
    "# Color:\n",
    "cube_obj.set_color(\"#000000\")"
   ]
  },
  {
   "cell_type": "code",
   "execution_count": null,
   "metadata": {},
   "outputs": [],
   "source": [
    "# Material:\n",
    "cube_obj.set_material('opaque-lit')"
   ]
  },
  {
   "cell_type": "code",
   "execution_count": null,
   "metadata": {},
   "outputs": [],
   "source": [
    "# Deleting:\n",
    "cube_obj.delete() "
   ]
  },
  {
   "cell_type": "markdown",
   "metadata": {},
   "source": [
    "Running code with multiple meshes:"
   ]
  },
  {
   "cell_type": "code",
   "execution_count": null,
   "metadata": {},
   "outputs": [],
   "source": [
    "# Creating:\n",
    "cubes = urchin.primitives.create(2) #should return list of 2 primitive objects"
   ]
  },
  {
   "cell_type": "code",
   "execution_count": null,
   "metadata": {},
   "outputs": [],
   "source": [
    "# Deleting:\n",
    "cubes[0].delete()#deletes first cube made above\n",
    "cubes[0] =[] #in theory removes PYTHON item at spot 0"
   ]
  },
  {
   "cell_type": "code",
   "execution_count": 4,
   "metadata": {},
   "outputs": [
    {
     "ename": "AttributeError",
     "evalue": "'str' object has no attribute 'in_unity'",
     "output_type": "error",
     "traceback": [
      "\u001b[1;31m---------------------------------------------------------------------------\u001b[0m",
      "\u001b[1;31mAttributeError\u001b[0m                            Traceback (most recent call last)",
      "Cell \u001b[1;32mIn[4], line 2\u001b[0m\n\u001b[0;32m      1\u001b[0m \u001b[39m# Position:\u001b[39;00m\n\u001b[1;32m----> 2\u001b[0m urchin\u001b[39m.\u001b[39;49mprimitives\u001b[39m.\u001b[39;49mset_positions(cubes,[[\u001b[39m3\u001b[39;49m,\u001b[39m3\u001b[39;49m,\u001b[39m3\u001b[39;49m],[\u001b[39m2\u001b[39;49m,\u001b[39m2\u001b[39;49m,\u001b[39m2\u001b[39;49m]])\n",
      "File \u001b[1;32m~\\Documents\\proj\\Urchin\\API\\oursin\\primitives.py:91\u001b[0m, in \u001b[0;36mset_positions\u001b[1;34m(meshes_list, positions_list)\u001b[0m\n\u001b[0;32m     89\u001b[0m \u001b[39mfor\u001b[39;00m i \u001b[39min\u001b[39;00m \u001b[39mrange\u001b[39m(\u001b[39mlen\u001b[39m(meshes_list)):\n\u001b[0;32m     90\u001b[0m   mesh \u001b[39m=\u001b[39m meshes_list[i]\u001b[39m.\u001b[39mid\n\u001b[1;32m---> 91\u001b[0m   \u001b[39mif\u001b[39;00m mesh[i]\u001b[39m.\u001b[39;49min_unity:\n\u001b[0;32m     92\u001b[0m     mesh_pos[mesh[i]] \u001b[39m=\u001b[39m positions_list[i]\n\u001b[0;32m     93\u001b[0m   \u001b[39melse\u001b[39;00m:\n",
      "\u001b[1;31mAttributeError\u001b[0m: 'str' object has no attribute 'in_unity'"
     ]
    }
   ],
   "source": [
    "# Position:\n",
    "urchin.primitives.set_positions(cubes,[[3,3,3],[2,2,2]])"
   ]
  },
  {
   "cell_type": "code",
   "execution_count": null,
   "metadata": {},
   "outputs": [],
   "source": [
    "# Scale\n",
    "urchin.primitives.set_scales(cubes,[[3,3,3],[2,2,2]])"
   ]
  },
  {
   "cell_type": "code",
   "execution_count": null,
   "metadata": {},
   "outputs": [],
   "source": [
    "# Color\n",
    "urchin.primitives.set_colors(cubes,[\"#000000\",\"#000000\"])"
   ]
  },
  {
   "cell_type": "code",
   "execution_count": null,
   "metadata": {},
   "outputs": [],
   "source": [
    "# Material\n",
    "urchin.primitives.set_materials(cubes,['opaque-lit','opaque-lit'])"
   ]
  },
  {
   "attachments": {},
   "cell_type": "markdown",
   "metadata": {},
   "source": [
    "Test code below:"
   ]
  },
  {
   "cell_type": "code",
   "execution_count": null,
   "metadata": {},
   "outputs": [],
   "source": [
    "cube_obj = urchin.primitives.Primitive()\n",
    "cube_obj.delete()"
   ]
  },
  {
   "cell_type": "code",
   "execution_count": 2,
   "metadata": {},
   "outputs": [],
   "source": [
    "cubes = urchin.primitives.create(2) #should return list of 2 primitive objects\n",
    "cubes[0].delete()#deletes first cube made above\n",
    "#cubes[0] =[] #in theory removes PYTHON item at spot 0"
   ]
  },
  {
   "cell_type": "code",
   "execution_count": 3,
   "metadata": {},
   "outputs": [
    {
     "ename": "NameError",
     "evalue": "name 'cube_obj' is not defined",
     "output_type": "error",
     "traceback": [
      "\u001b[1;31m---------------------------------------------------------------------------\u001b[0m",
      "\u001b[1;31mNameError\u001b[0m                                 Traceback (most recent call last)",
      "Cell \u001b[1;32mIn[3], line 1\u001b[0m\n\u001b[1;32m----> 1\u001b[0m cube_obj\u001b[39m.\u001b[39mset_position([\u001b[39m2\u001b[39m,\u001b[39m2\u001b[39m,\u001b[39m2\u001b[39m])\n",
      "\u001b[1;31mNameError\u001b[0m: name 'cube_obj' is not defined"
     ]
    }
   ],
   "source": [
    "# Position:\n",
    "urchin.primitives.set_positions(cubes,[[3,3,3],[2,2,2]])"
   ]
  },
  {
   "cell_type": "code",
   "execution_count": null,
   "metadata": {},
   "outputs": [],
   "source": []
  }
 ],
 "metadata": {
  "kernelspec": {
   "display_name": "Python 3.8.0 ('urchin-venv': venv)",
   "language": "python",
   "name": "python3"
  },
  "language_info": {
   "codemirror_mode": {
    "name": "ipython",
    "version": 3
   },
   "file_extension": ".py",
   "mimetype": "text/x-python",
   "name": "python",
   "nbconvert_exporter": "python",
   "pygments_lexer": "ipython3",
   "version": "3.8.10"
  },
  "orig_nbformat": 4,
  "vscode": {
   "interpreter": {
    "hash": "65fbda99ef506b46cf85649fb72f0ee183d37808244220e77502e0b504315282"
   }
  }
 },
 "nbformat": 4,
 "nbformat_minor": 2
}
