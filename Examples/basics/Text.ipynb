{
 "cells": [
  {
   "cell_type": "code",
   "execution_count": 1,
   "id": "ffccfa79-9e51-4159-a8e3-4d38e0d69cd2",
   "metadata": {},
   "outputs": [],
   "source": [
    "import unityneuro.render as urn"
   ]
  },
  {
   "cell_type": "code",
   "execution_count": 2,
   "id": "76973a23-f3a2-4932-85d7-c9a1554ec240",
   "metadata": {},
   "outputs": [
    {
     "name": "stdout",
     "output_type": "stream",
     "text": [
      "(URN) connected to server\n",
      "Login sent with ID: Dan\n"
     ]
    }
   ],
   "source": [
    "urn.setup()"
   ]
  },
  {
   "cell_type": "code",
   "execution_count": 3,
   "id": "f2545933-e1d8-47bb-aa5e-6285324e02ca",
   "metadata": {},
   "outputs": [],
   "source": [
    "urn.create_text(['t1','t2'])"
   ]
  },
  {
   "cell_type": "code",
   "execution_count": 4,
   "id": "a8eb5485-35e9-4df5-a3bd-633e466d2f46",
   "metadata": {},
   "outputs": [],
   "source": [
    "urn.set_text_positions({'t1':[500,-200]})"
   ]
  },
  {
   "cell_type": "code",
   "execution_count": 5,
   "id": "2a982a1c-52a7-49d2-aa49-de468dd27356",
   "metadata": {},
   "outputs": [],
   "source": [
    "urn.set_text({'t1':'hello world','t2':'urchin is great'})"
   ]
  },
  {
   "cell_type": "code",
   "execution_count": 6,
   "id": "9ac44a3f-fccd-4205-aa93-24259f521dfc",
   "metadata": {},
   "outputs": [],
   "source": [
    "urn.set_text_colors({'t1':\"#FF0000\"})"
   ]
  },
  {
   "cell_type": "code",
   "execution_count": 7,
   "id": "2e31c5aa-ee7e-47d9-bfd7-3c69e55c86da",
   "metadata": {},
   "outputs": [],
   "source": [
    "urn.set_text_sizes({'t1':100})"
   ]
  }
 ],
 "metadata": {
  "kernelspec": {
   "display_name": "Python 3 (ipykernel)",
   "language": "python",
   "name": "python3"
  },
  "language_info": {
   "codemirror_mode": {
    "name": "ipython",
    "version": 3
   },
   "file_extension": ".py",
   "mimetype": "text/x-python",
   "name": "python",
   "nbconvert_exporter": "python",
   "pygments_lexer": "ipython3",
   "version": "3.9.0"
  }
 },
 "nbformat": 4,
 "nbformat_minor": 5
}
