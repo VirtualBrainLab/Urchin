{
 "cells": [
  {
   "cell_type": "code",
   "execution_count": 1,
   "id": "ffccfa79-9e51-4159-a8e3-4d38e0d69cd2",
   "metadata": {},
   "outputs": [],
   "source": [
    "import oursin as urchin"
   ]
  },
  {
   "cell_type": "code",
   "execution_count": null,
   "id": "76973a23-f3a2-4932-85d7-c9a1554ec240",
   "metadata": {},
   "outputs": [],
   "source": [
    "urchin.setup()"
   ]
  },
  {
   "cell_type": "code",
   "execution_count": null,
   "id": "f2545933-e1d8-47bb-aa5e-6285324e02ca",
   "metadata": {},
   "outputs": [],
   "source": [
    "urchin.text.create(['tl','bl','tr','br','center'])"
   ]
  },
  {
   "cell_type": "code",
   "execution_count": null,
   "id": "7beb8367-c70c-456f-9c82-fd66ce6687c5",
   "metadata": {},
   "outputs": [],
   "source": [
    "urchin.text.set_text({'tl':'top left',\n",
    "            'bl':'bottom left',\n",
    "            'tr':'top right',\n",
    "            'br':'bottom right',\n",
    "            'center':'center'})"
   ]
  },
  {
   "cell_type": "code",
   "execution_count": null,
   "id": "a8eb5485-35e9-4df5-a3bd-633e466d2f46",
   "metadata": {},
   "outputs": [],
   "source": [
    "urchin.text.set_position({'tl':[-1,1],\n",
    "                        'bl':[-1,-0.9],\n",
    "                        'tr':[0.85,1],\n",
    "                        'br':[0.85,-0.9],\n",
    "                        'center':[0,0]})"
   ]
  },
  {
   "cell_type": "code",
   "execution_count": null,
   "id": "9ac44a3f-fccd-4205-aa93-24259f521dfc",
   "metadata": {},
   "outputs": [],
   "source": [
    "urchin.text.set_color({'tl':\"#FF0000\"})"
   ]
  },
  {
   "cell_type": "code",
   "execution_count": null,
   "id": "2e31c5aa-ee7e-47d9-bfd7-3c69e55c86da",
   "metadata": {},
   "outputs": [],
   "source": [
    "urchin.text.set_size({'tl':100})"
   ]
  }
 ],
 "metadata": {
  "kernelspec": {
   "display_name": "iblenv",
   "language": "python",
   "name": "python3"
  },
  "language_info": {
   "codemirror_mode": {
    "name": "ipython",
    "version": 3
   },
   "file_extension": ".py",
   "mimetype": "text/x-python",
   "name": "python",
   "nbconvert_exporter": "python",
   "pygments_lexer": "ipython3",
   "version": "3.9.0"
  },
  "vscode": {
   "interpreter": {
    "hash": "e571d860348ccccbb87c9afaea3b8de5dc8c1513265a6c0fcfe6ac69a4d3ce4b"
   }
  }
 },
 "nbformat": 4,
 "nbformat_minor": 5
}
