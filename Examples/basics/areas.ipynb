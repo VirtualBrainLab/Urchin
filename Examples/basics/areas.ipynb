{
 "cells": [
  {
   "cell_type": "code",
   "execution_count": 1,
   "id": "0091ecc4-d9db-4597-b691-281d147c3c65",
   "metadata": {},
   "outputs": [],
   "source": [
    "import json\n",
    "import sys\n",
    "import os\n",
    "import oursin as urchin"
   ]
  },
  {
   "cell_type": "code",
   "execution_count": null,
   "id": "86e1f1a3-385e-4110-b0d0-4d2d296dcdc9",
   "metadata": {},
   "outputs": [],
   "source": [
    "urchin.setup()"
   ]
  },
  {
   "cell_type": "code",
   "execution_count": 67,
   "id": "6125d144-6605-411c-9196-e41a5c67678d",
   "metadata": {},
   "outputs": [],
   "source": [
    "# load a single area\n",
    "urchin.ccf.set_visibility({'grey':True})\n",
    "urchin.ccf.set_material({'grey':'transparent-unlit'})\n",
    "urchin.ccf.set_alpha({'grey':0.5})"
   ]
  },
  {
   "cell_type": "code",
   "execution_count": 64,
   "id": "6e866709-e8ac-431e-bbb3-5fa21d497d5e",
   "metadata": {},
   "outputs": [],
   "source": [
    "# load just left hemisphere\n",
    "\n",
    "urchin.clear()\n",
    "\n",
    "urchin.ccf.set_material({'grey-lh':True})\n",
    "urchin.ccf.set_material({'grey-lh':'transparent-unlit'})\n",
    "urchin.ccf.set_alpha({'grey-lh':0.5})\n",
    "\n",
    "# same pattern for right hemisphere with \"-rh\" suffix"
   ]
  },
  {
   "cell_type": "code",
   "execution_count": null,
   "id": "52f00c15",
   "metadata": {},
   "outputs": [],
   "source": [
    "# load all the beryl areas\n",
    "\n",
    "urchin.clear()\n",
    "\n",
    "urchin.ccf.load_beryl()"
   ]
  }
 ],
 "metadata": {
  "kernelspec": {
   "display_name": "iblenv",
   "language": "python",
   "name": "python3"
  },
  "language_info": {
   "codemirror_mode": {
    "name": "ipython",
    "version": 3
   },
   "file_extension": ".py",
   "mimetype": "text/x-python",
   "name": "python",
   "nbconvert_exporter": "python",
   "pygments_lexer": "ipython3",
   "version": "3.9.0"
  },
  "vscode": {
   "interpreter": {
    "hash": "e571d860348ccccbb87c9afaea3b8de5dc8c1513265a6c0fcfe6ac69a4d3ce4b"
   }
  }
 },
 "nbformat": 4,
 "nbformat_minor": 5
}
