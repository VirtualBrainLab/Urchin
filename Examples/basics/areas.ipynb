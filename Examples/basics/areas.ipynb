{
 "cells": [
  {
   "cell_type": "code",
   "execution_count": null,
   "id": "0091ecc4-d9db-4597-b691-281d147c3c65",
   "metadata": {},
   "outputs": [],
   "source": [
    "import json\n",
    "import sys\n",
    "import os\n",
    "import unityneuro.render as urn"
   ]
  },
  {
   "cell_type": "code",
   "execution_count": null,
   "id": "86e1f1a3-385e-4110-b0d0-4d2d296dcdc9",
   "metadata": {},
   "outputs": [],
   "source": [
    "urn.setup(standalone=True)"
   ]
  },
  {
   "cell_type": "code",
   "execution_count": 67,
   "id": "6125d144-6605-411c-9196-e41a5c67678d",
   "metadata": {},
   "outputs": [],
   "source": [
    "# load a single area\n",
    "\n",
    "urn.clear()\n",
    "\n",
    "urn.set_area_visibility({'grey':True})\n",
    "urn.set_area_material({'grey':'transparent-unlit'})\n",
    "urn.set_area_alpha({'grey':0.5})"
   ]
  },
  {
   "cell_type": "code",
   "execution_count": 64,
   "id": "6e866709-e8ac-431e-bbb3-5fa21d497d5e",
   "metadata": {},
   "outputs": [],
   "source": [
    "# load just left hemisphere\n",
    "\n",
    "urn.clear()\n",
    "\n",
    "urn.set_area_visibility({'grey-lh':True})\n",
    "urn.set_area_material({'grey-lh':'transparent-unlit'})\n",
    "urn.set_area_alpha({'grey-lh':0.5})"
   ]
  },
  {
   "cell_type": "code",
   "execution_count": 55,
   "id": "ea6bd2a1-5ffa-415a-907e-27c28e8138e5",
   "metadata": {},
   "outputs": [],
   "source": [
    "urn.clear()\n",
    "\n",
    "urn.set_area_visibility({'grey-rh':True})\n",
    "urn.set_area_material({'grey-rh':'transparent-unlit'})\n",
    "urn.set_area_alpha({'grey-rh':0.5})"
   ]
  },
  {
   "cell_type": "code",
   "execution_count": 68,
   "id": "e6536b48-d58f-4029-af57-40846234f561",
   "metadata": {},
   "outputs": [],
   "source": [
    "urn.clear()\n",
    "\n",
    "\n",
    "urn.set_area_visibility({'grey-lh':True})\n",
    "urn.set_area_material({'grey-lh':'transparent-unlit'})\n",
    "urn.set_area_alpha({'grey-lh':0.5})\n",
    "urn.set_area_visibility({'grey-rh':True})\n",
    "urn.set_area_material({'grey-rh':'transparent-unlit'})\n",
    "urn.set_area_alpha({'grey-rh':0.5})"
   ]
  },
  {
   "cell_type": "code",
   "execution_count": 62,
   "id": "d178dc29-f53b-4b68-915d-ed93cc8303bf",
   "metadata": {},
   "outputs": [],
   "source": [
    "urn.clear_areas()\n"
   ]
  },
  {
   "cell_type": "code",
   "execution_count": null,
   "id": "62a753f9-5787-4447-a6c7-4f1d7e81dee9",
   "metadata": {},
   "outputs": [],
   "source": []
  }
 ],
 "metadata": {
  "kernelspec": {
   "display_name": "Python 3 (ipykernel)",
   "language": "python",
   "name": "python3"
  },
  "language_info": {
   "codemirror_mode": {
    "name": "ipython",
    "version": 3
   },
   "file_extension": ".py",
   "mimetype": "text/x-python",
   "name": "python",
   "nbconvert_exporter": "python",
   "pygments_lexer": "ipython3",
   "version": "3.9.0"
  }
 },
 "nbformat": 4,
 "nbformat_minor": 5
}
