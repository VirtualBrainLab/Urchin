{
 "cells": [
  {
   "cell_type": "code",
   "execution_count": 1,
   "id": "b7ff1ce8-6642-4eb0-a829-92fbc2a83c6c",
   "metadata": {},
   "outputs": [],
   "source": [
    "import json\n",
    "import sys\n",
    "import os\n",
    "import numpy as np\n",
    "import unityneuro.render as urn\n",
    "\n",
    "SCALE = 0.100 # in um"
   ]
  },
  {
   "cell_type": "code",
   "execution_count": 2,
   "id": "674bcd8e-90ae-47ea-9e86-1dfdca428563",
   "metadata": {},
   "outputs": [
    {
     "name": "stdout",
     "output_type": "stream",
     "text": [
      "(URN) connected to server\n",
      "Login sent with ID: Dan\n"
     ]
    }
   ],
   "source": [
    "urn.setup()"
   ]
  },
  {
   "cell_type": "code",
   "execution_count": 3,
   "id": "94f6a8e8-372a-4399-bd39-1bf78e09eb4a",
   "metadata": {},
   "outputs": [],
   "source": [
    "files = os.listdir('./data/nick/')"
   ]
  },
  {
   "cell_type": "code",
   "execution_count": 4,
   "id": "a075ab32-3dc2-4fca-bf73-99b7349b19bf",
   "metadata": {},
   "outputs": [
    {
     "name": "stdout",
     "output_type": "stream",
     "text": [
      "['clusters.CCF_APDVLR.npy', 'clusters.isSmall.npy']\n"
     ]
    }
   ],
   "source": [
    "print(files)"
   ]
  },
  {
   "cell_type": "code",
   "execution_count": 5,
   "id": "0c54eaba-f506-454e-aded-2bc1dcc17af8",
   "metadata": {},
   "outputs": [],
   "source": [
    "# Load the data files\n",
    "ccf_apdvlr = np.load('./data/nick/clusters.CCF_APDVLR.npy')\n",
    "cluster_color = np.load('./data/nick/clusters.isSmall.npy')"
   ]
  },
  {
   "cell_type": "code",
   "execution_count": 6,
   "id": "4ee34f1c-f499-40df-8cb3-6a3c049dcf75",
   "metadata": {},
   "outputs": [],
   "source": [
    "# Create dictionaries for cluster pos/scale\n",
    "neuronName = []\n",
    "neuronPos = {}\n",
    "neuronShape = {}\n",
    "neuronSize = {}\n",
    "neuronColor = {}\n",
    "for i,apdvlr in enumerate(ccf_apdvlr):\n",
    "    name = 'n'+str(i)\n",
    "    neuronName.append(name)\n",
    "    # now build the info\n",
    "    neuronPos[name] = [apdvlr[2],apdvlr[0],apdvlr[1]]\n",
    "    neuronShape[name] = 'sphere'\n",
    "    if cluster_color[i]:\n",
    "        neuronSize[name] = SCALE*2\n",
    "        neuronColor[name] = \"#FF0000\"\n",
    "    else:\n",
    "        neuronSize[name] = SCALE\n",
    "        neuronColor[name] = \"#808080\""
   ]
  },
  {
   "cell_type": "code",
   "execution_count": 8,
   "id": "93bb8b0f-1e88-4016-b4dd-4174cd79c779",
   "metadata": {},
   "outputs": [],
   "source": [
    "urn.clear()\n",
    "\n",
    "# show the full brain as a transparent view\n",
    "urn.set_area_visibility({8:True})\n",
    "urn.set_area_material({8:'transparent-unlit'})\n",
    "urn.set_area_alpha({8:0.15})\n",
    "\n",
    "# create neurons \n",
    "urn.create_neurons(neuronName)\n",
    "urn.set_neuron_positions(neuronPos)\n",
    "urn.set_neuron_shapes(neuronShape)\n",
    "urn.set_neuron_sizes(neuronSize)\n",
    "urn.set_neuron_colors(neuronColor)\n",
    "    \n",
    "\n"
   ]
  },
  {
   "cell_type": "code",
   "execution_count": null,
   "id": "c500b273-f28f-4b08-b24d-66b4217ef5bf",
   "metadata": {},
   "outputs": [],
   "source": []
  }
 ],
 "metadata": {
  "kernelspec": {
   "display_name": "Python 3 (ipykernel)",
   "language": "python",
   "name": "python3"
  },
  "language_info": {
   "codemirror_mode": {
    "name": "ipython",
    "version": 3
   },
   "file_extension": ".py",
   "mimetype": "text/x-python",
   "name": "python",
   "nbconvert_exporter": "python",
   "pygments_lexer": "ipython3",
   "version": "3.9.0"
  }
 },
 "nbformat": 4,
 "nbformat_minor": 5
}
