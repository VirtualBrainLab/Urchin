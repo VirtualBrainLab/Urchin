{
 "cells": [
  {
   "cell_type": "code",
   "execution_count": 1,
   "id": "ceb71692-8ef9-4ec7-b56a-90a7b3e742d4",
   "metadata": {},
   "outputs": [],
   "source": [
    "import numpy as np\n",
    "import unityneuro.render as urn"
   ]
  },
  {
   "cell_type": "code",
   "execution_count": 54,
   "id": "0e492724-0b22-4a86-8e3d-75d89aa6c346",
   "metadata": {},
   "outputs": [
    {
     "name": "stdout",
     "output_type": "stream",
     "text": [
      "(URN) disconnected from server\n"
     ]
    }
   ],
   "source": [
    "urn.close()"
   ]
  },
  {
   "cell_type": "code",
   "execution_count": 55,
   "id": "61378016-1c43-426a-91ac-95d6a0a43d0a",
   "metadata": {},
   "outputs": [
    {
     "name": "stdout",
     "output_type": "stream",
     "text": [
      "(URN) connected to server\n",
      "Login sent with ID: Dan\n"
     ]
    }
   ],
   "source": [
    "urn.setup()"
   ]
  },
  {
   "cell_type": "code",
   "execution_count": 13,
   "id": "566f1b4e-bcaf-43b7-97f5-24f5389bc2be",
   "metadata": {},
   "outputs": [],
   "source": [
    "bregma = [5400, 5739, 332]"
   ]
  },
  {
   "cell_type": "code",
   "execution_count": 12,
   "id": "964e1124-0d32-43bc-ad90-9f26314fd023",
   "metadata": {},
   "outputs": [],
   "source": [
    "def convertAPML2CCF(ml,ap,dv,iblBregma):\n",
    "    ml = iblBregma[0] + ml\n",
    "    ap = iblBregma[1] - ap \n",
    "    dv = iblBregma[2] - dv\n",
    "    return (ml,ap,dv)"
   ]
  },
  {
   "cell_type": "code",
   "execution_count": 74,
   "id": "ada264a7-32e2-4739-860a-95cdb720fcf3",
   "metadata": {},
   "outputs": [],
   "source": [
    "def constructChannelDict(neuronLocs,iblBregma):\n",
    "    outName = []\n",
    "    outPos = {}\n",
    "    outSize = {}\n",
    "    outShape = {}\n",
    "    outColors = {}\n",
    "    for i in np.arange(0,neuronLocs.shape[0]):\n",
    "        name = 'n'+str(i)\n",
    "        row = neuronLocs[i]\n",
    "        outName.append(name)\n",
    "        outPos[name] = convertAPML2CCF(row[0],row[1],row[2],iblBregma)\n",
    "        outSize[name] = 0.05\n",
    "        outShape[name] = 'cube'\n",
    "        outColors[name] = '#f49ac2'\n",
    "    return (outName, outPos, outShape, outSize, outColors)"
   ]
  },
  {
   "cell_type": "code",
   "execution_count": 75,
   "id": "f2604b5e-71b4-4f81-95e8-f299eae85bf8",
   "metadata": {},
   "outputs": [],
   "source": [
    "data = np.load('ML_AP_DV_fromBregma.npy')"
   ]
  },
  {
   "cell_type": "code",
   "execution_count": 76,
   "id": "e90f7735-9dd7-45e3-84e5-8d62d7d13ca7",
   "metadata": {},
   "outputs": [],
   "source": [
    "(names,pos,shapes,size,colors) = constructChannelDict(data,bregma)"
   ]
  },
  {
   "cell_type": "code",
   "execution_count": 77,
   "id": "9835dad9-cdde-4c6f-b3b4-c1fb7d992801",
   "metadata": {},
   "outputs": [],
   "source": [
    "urn.clear()\n",
    "# urn.set_allen_volume_visibility(True)\n",
    "# urn.load_beryl_areas()"
   ]
  },
  {
   "cell_type": "code",
   "execution_count": 78,
   "id": "73d5117e-77d1-46cc-b50c-829871c9b624",
   "metadata": {},
   "outputs": [],
   "source": [
    "\n",
    "urn.set_area_visibility({'grey':True})\n",
    "urn.set_area_material({'grey':'transparent-unlit'})\n",
    "urn.set_area_alpha({'grey':0.15})"
   ]
  },
  {
   "cell_type": "code",
   "execution_count": 79,
   "id": "9db83f56-34c7-4ebd-9da1-305cd3585051",
   "metadata": {},
   "outputs": [],
   "source": [
    "\n",
    "urn.create_neurons(names)\n",
    "urn.set_neuron_positions(pos)\n",
    "urn.set_neuron_shapes(shapes)\n",
    "urn.set_neuron_sizes(size)\n",
    "urn.set_neuron_colors(colors)"
   ]
  },
  {
   "cell_type": "code",
   "execution_count": 81,
   "id": "85cdd4e4-c078-406e-bf3b-db67043769a6",
   "metadata": {},
   "outputs": [],
   "source": [
    "urn.set_camera_rotation(45,0,135)"
   ]
  },
  {
   "cell_type": "code",
   "execution_count": null,
   "id": "4a2424a1-7c76-4024-8496-4d2cb8e8c4b2",
   "metadata": {},
   "outputs": [],
   "source": []
  }
 ],
 "metadata": {
  "kernelspec": {
   "display_name": "Python 3 (ipykernel)",
   "language": "python",
   "name": "python3"
  },
  "language_info": {
   "codemirror_mode": {
    "name": "ipython",
    "version": 3
   },
   "file_extension": ".py",
   "mimetype": "text/x-python",
   "name": "python",
   "nbconvert_exporter": "python",
   "pygments_lexer": "ipython3",
   "version": "3.9.0"
  }
 },
 "nbformat": 4,
 "nbformat_minor": 5
}
