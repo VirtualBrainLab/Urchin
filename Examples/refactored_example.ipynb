{
 "cells": [
  {
   "attachments": {},
   "cell_type": "markdown",
   "metadata": {},
   "source": [
    "Basic Urchin setup:"
   ]
  },
  {
   "cell_type": "code",
   "execution_count": null,
   "metadata": {},
   "outputs": [
    {
     "name": "stdout",
     "output_type": "stream",
     "text": [
      "(URN) disconnected from server\n",
      "(URN) connected to server\n",
      "Login sent with ID: root\n",
      "(URN) disconnected from server\n",
      "(URN) connected to server\n",
      "Login sent with ID: root\n",
      "(URN) disconnected from server\n",
      "(URN) connected to server\n",
      "Login sent with ID: root\n",
      "(URN) disconnected from server\n",
      "(URN) connected to server\n",
      "Login sent with ID: root\n",
      "(URN) disconnected from server\n",
      "(URN) connected to server\n",
      "Login sent with ID: root\n",
      "(URN) disconnected from server\n",
      "(URN) connected to server\n",
      "Login sent with ID: root\n",
      "(URN) disconnected from server\n",
      "(URN) connected to server\n",
      "Login sent with ID: root\n",
      "(URN) disconnected from server\n",
      "(URN) connected to server\n",
      "Login sent with ID: root\n",
      "(URN) disconnected from server\n",
      "(URN) connected to server\n",
      "Login sent with ID: root\n",
      "(URN) disconnected from server\n",
      "(URN) connected to server\n",
      "Login sent with ID: root\n",
      "(URN) disconnected from server\n",
      "(URN) connected to server\n",
      "Login sent with ID: root\n",
      "(URN) disconnected from server\n",
      "(URN) connected to server\n",
      "Login sent with ID: root\n",
      "(URN) disconnected from server\n",
      "(URN) connected to server\n",
      "Login sent with ID: root\n",
      "(URN) disconnected from server\n",
      "(URN) connected to server\n",
      "Login sent with ID: root\n",
      "(URN) disconnected from server\n",
      "(URN) connected to server\n",
      "Login sent with ID: root\n"
     ]
    },
    {
     "name": "stderr",
     "output_type": "stream",
     "text": [
      "packet queue is empty, aborting\n"
     ]
    },
    {
     "name": "stdout",
     "output_type": "stream",
     "text": [
      "(URN) disconnected from server\n",
      "(URN) connected to server\n",
      "Login sent with ID: root\n",
      "(URN) disconnected from server\n",
      "(URN) connected to server\n",
      "Login sent with ID: root\n",
      "(URN) disconnected from server\n",
      "(URN) connected to server\n",
      "Login sent with ID: root\n",
      "(URN) disconnected from server\n",
      "(URN) connected to server\n",
      "Login sent with ID: root\n",
      "(URN) disconnected from server\n",
      "(URN) connected to server\n",
      "Login sent with ID: root\n"
     ]
    },
    {
     "name": "stderr",
     "output_type": "stream",
     "text": [
      "packet queue is empty, aborting\n"
     ]
    },
    {
     "name": "stdout",
     "output_type": "stream",
     "text": [
      "(URN) disconnected from server\n",
      "(URN) connected to server\n",
      "Login sent with ID: root\n",
      "(URN) disconnected from server\n",
      "(URN) connected to server\n",
      "Login sent with ID: root\n",
      "(URN) disconnected from server\n",
      "(URN) connected to server\n",
      "Login sent with ID: root\n"
     ]
    },
    {
     "name": "stderr",
     "output_type": "stream",
     "text": [
      "packet queue is empty, aborting\n"
     ]
    },
    {
     "name": "stdout",
     "output_type": "stream",
     "text": [
      "(URN) disconnected from server\n",
      "(URN) connected to server\n",
      "Login sent with ID: root\n",
      "(URN) disconnected from server\n",
      "(URN) connected to server\n",
      "Login sent with ID: root\n",
      "(URN) disconnected from server\n",
      "(URN) connected to server\n",
      "Login sent with ID: root\n"
     ]
    },
    {
     "name": "stderr",
     "output_type": "stream",
     "text": [
      "packet queue is empty, aborting\n"
     ]
    },
    {
     "name": "stdout",
     "output_type": "stream",
     "text": [
      "(URN) disconnected from server\n",
      "(URN) connected to server\n",
      "Login sent with ID: root\n"
     ]
    },
    {
     "name": "stderr",
     "output_type": "stream",
     "text": [
      "packet queue is empty, aborting\n"
     ]
    },
    {
     "name": "stdout",
     "output_type": "stream",
     "text": [
      "(URN) disconnected from server\n",
      "(URN) connected to server\n",
      "Login sent with ID: root\n",
      "(URN) disconnected from server\n",
      "(URN) connected to server\n",
      "Login sent with ID: root\n",
      "(URN) disconnected from server\n",
      "(URN) connected to server\n",
      "Login sent with ID: root\n",
      "(URN) disconnected from server\n",
      "(URN) connected to server\n",
      "Login sent with ID: root\n",
      "(URN) disconnected from server\n",
      "(URN) connected to server\n",
      "Login sent with ID: root\n",
      "(URN) disconnected from server\n",
      "(URN) connected to server\n",
      "Login sent with ID: root\n",
      "(URN) disconnected from server\n",
      "(URN) connected to server\n",
      "Login sent with ID: root\n",
      "(URN) disconnected from server\n",
      "(URN) connected to server\n",
      "Login sent with ID: root\n",
      "(URN) disconnected from server\n",
      "(URN) connected to server\n",
      "Login sent with ID: root\n",
      "(URN) disconnected from server\n",
      "(URN) connected to server\n",
      "Login sent with ID: root\n",
      "(URN) disconnected from server\n",
      "(URN) connected to server\n",
      "Login sent with ID: root\n",
      "(URN) disconnected from server\n",
      "(URN) connected to server\n",
      "Login sent with ID: root\n"
     ]
    },
    {
     "name": "stderr",
     "output_type": "stream",
     "text": [
      "packet queue is empty, aborting\n"
     ]
    },
    {
     "name": "stdout",
     "output_type": "stream",
     "text": [
      "(URN) disconnected from server\n",
      "(URN) connected to server\n",
      "Login sent with ID: root\n"
     ]
    },
    {
     "name": "stderr",
     "output_type": "stream",
     "text": [
      "packet queue is empty, aborting\n"
     ]
    },
    {
     "name": "stdout",
     "output_type": "stream",
     "text": [
      "(URN) disconnected from server\n",
      "(URN) connected to server\n",
      "Login sent with ID: root\n",
      "(URN) disconnected from server\n",
      "(URN) connected to server\n",
      "Login sent with ID: root\n",
      "(URN) disconnected from server\n",
      "(URN) connected to server\n",
      "Login sent with ID: root\n"
     ]
    },
    {
     "name": "stderr",
     "output_type": "stream",
     "text": [
      "packet queue is empty, aborting\n"
     ]
    },
    {
     "name": "stdout",
     "output_type": "stream",
     "text": [
      "(URN) disconnected from server\n",
      "(URN) connected to server\n",
      "Login sent with ID: root\n"
     ]
    },
    {
     "name": "stderr",
     "output_type": "stream",
     "text": [
      "packet queue is empty, aborting\n"
     ]
    },
    {
     "name": "stdout",
     "output_type": "stream",
     "text": [
      "(URN) disconnected from server\n",
      "(URN) connected to server\n",
      "Login sent with ID: root\n"
     ]
    }
   ],
   "source": [
    "import oursin as urchin\n",
    "urchin.setup()"
   ]
  },
  {
   "attachments": {},
   "cell_type": "markdown",
   "metadata": {},
   "source": [
    "Rendering Probes:"
   ]
  },
  {
   "cell_type": "code",
   "execution_count": null,
   "metadata": {},
   "outputs": [],
   "source": [
    "probes = urchin.probes.create(2)\n",
    "urchin.probes.set_colors(probes,['#FFFFFF','#000000'])\n",
    "urchin.probes.set_angles(probes,[82,45,0],[297, 32, 0])\n",
    "urchin.probes.set_positions(probes,[[5700,6600,4000],[5693, 6409, 936]])"
   ]
  },
  {
   "attachments": {},
   "cell_type": "markdown",
   "metadata": {},
   "source": [
    "Rendering Neurons:"
   ]
  },
  {
   "cell_type": "code",
   "execution_count": null,
   "metadata": {},
   "outputs": [],
   "source": [
    "neurons = urchin.neurons.create(3)\n",
    "urchin.neurons.set_size(neurons, [0.1,0.5,1])\n",
    "urchin.neurons.set_positions(neurons, [[5700,4000,0],[5700,4500,0],[5700,4000,500]])\n",
    "urchin.neurons.set_colors(neurons, ['#FF0000','#00FF00','#FFFFFF'])"
   ]
  },
  {
   "cell_type": "code",
   "execution_count": null,
   "metadata": {},
   "outputs": [],
   "source": []
  },
  {
   "cell_type": "code",
   "execution_count": null,
   "metadata": {},
   "outputs": [],
   "source": []
  }
 ],
 "metadata": {
  "kernelspec": {
   "display_name": "Python 3",
   "language": "python",
   "name": "python3"
  },
  "language_info": {
   "codemirror_mode": {
    "name": "ipython",
    "version": 3
   },
   "file_extension": ".py",
   "mimetype": "text/x-python",
   "name": "python",
   "nbconvert_exporter": "python",
   "pygments_lexer": "ipython3",
   "version": "3.9.7"
  },
  "orig_nbformat": 4
 },
 "nbformat": 4,
 "nbformat_minor": 2
}
