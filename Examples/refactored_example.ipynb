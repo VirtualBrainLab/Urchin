{
 "cells": [
  {
   "cell_type": "code",
   "execution_count": null,
   "metadata": {},
   "outputs": [],
   "source": [
    "import oursin as urchin\n",
    "urchin.setup()"
   ]
  },
  {
   "cell_type": "code",
   "execution_count": null,
   "metadata": {},
   "outputs": [],
   "source": [
    "probes = urchin.probes.create(2)\n",
    "urchin.probes.set_colors(probes,['#FFFFFF','#000000'])\n",
    "urchin.probes.set_angles(probes,[0,90])"
   ]
  },
  {
   "cell_type": "code",
   "execution_count": null,
   "metadata": {},
   "outputs": [],
   "source": [
    "neurons = urchin.neurons.create(3)\n",
    "urchin.neurons.set_size(neurons, [0.1,0.5,1])\n",
    "urchin.neurons.set_positions(neurons, [[5700,4000,0],[5700,4500,0],[5700,4000,500]])\n",
    "urchin.neurons.set_colors(neurons, ['#FF0000','#00FF00','#FFFFFF'])"
   ]
  },
  {
   "cell_type": "code",
   "execution_count": null,
   "metadata": {},
   "outputs": [],
   "source": []
  }
 ],
 "metadata": {
  "language_info": {
   "name": "python"
  },
  "orig_nbformat": 4
 },
 "nbformat": 4,
 "nbformat_minor": 2
}
