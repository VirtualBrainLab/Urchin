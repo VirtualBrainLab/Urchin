{
 "cells": [
  {
   "cell_type": "code",
   "execution_count": 4,
   "id": "00dbddcf-ef6e-416f-90fb-152575852df5",
   "metadata": {},
   "outputs": [],
   "source": [
    "import unityneuro.render as urn"
   ]
  },
  {
   "cell_type": "code",
   "execution_count": null,
   "id": "5cff3bac-5d21-4cda-a9a7-c738557131ce",
   "metadata": {},
   "outputs": [],
   "source": [
    "urn.setup()"
   ]
  },
  {
   "cell_type": "code",
   "execution_count": 6,
   "id": "517161cb-3126-4e89-a291-dba6e663131e",
   "metadata": {},
   "outputs": [],
   "source": [
    "urn.load_beryl_areas()"
   ]
  },
  {
   "cell_type": "code",
   "execution_count": null,
   "id": "51c89b9d-38af-4eac-88af-fc1b06738b1d",
   "metadata": {},
   "outputs": [],
   "source": [
    "# In the viewer use the \"explode\" slider"
   ]
  },
  {
   "cell_type": "code",
   "execution_count": 11,
   "id": "73cf948c-0e5c-45c5-ba36-2d0c000b34c3",
   "metadata": {},
   "outputs": [],
   "source": [
    "urn.clear()\n",
    "urn.load_cosmos_areas()"
   ]
  }
 ],
 "metadata": {
  "kernelspec": {
   "display_name": "Python 3 (ipykernel)",
   "language": "python",
   "name": "python3"
  },
  "language_info": {
   "codemirror_mode": {
    "name": "ipython",
    "version": 3
   },
   "file_extension": ".py",
   "mimetype": "text/x-python",
   "name": "python",
   "nbconvert_exporter": "python",
   "pygments_lexer": "ipython3",
   "version": "3.9.0"
  }
 },
 "nbformat": 4,
 "nbformat_minor": 5
}
