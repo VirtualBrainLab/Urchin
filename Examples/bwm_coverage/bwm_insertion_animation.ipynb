{
 "cells": [
  {
   "cell_type": "code",
   "execution_count": 54,
   "metadata": {},
   "outputs": [],
   "source": [
    "import unityneuro.render as urn\n",
    "import pandas as pd\n",
    "import numpy as np\n",
    "import seaborn as sns\n",
    "import time as time"
   ]
  },
  {
   "cell_type": "code",
   "execution_count": 57,
   "metadata": {},
   "outputs": [],
   "source": [
    "def labs():\n",
    "    lab_number_map = {'cortexlab': 'Lab 1', 'mainenlab': 'Lab 2', 'churchlandlab': 'Lab 3',\n",
    "                      'angelakilab': 'Lab 4', 'wittenlab': 'Lab 5', 'hoferlab': 'Lab 6',\n",
    "                      'mrsicflogellab': 'Lab 6', 'danlab': 'Lab 7', 'zadorlab': 'Lab 8',\n",
    "                      'steinmetzlab': 'Lab 9', 'churchlandlab_ucla': 'Lab 10', 'hausserlab': 'Lab 11'}\n",
    "    institution_map = {'cortexlab': 'UCL', 'mainenlab': 'CCU', 'zadorlab': 'CSHL (Z)',\n",
    "                       'churchlandlab': 'CSHL (C)', 'angelakilab': 'NYU',\n",
    "                       'wittenlab': 'Princeton', 'hoferlab': 'SWC', 'mrsicflogellab': 'SWC',\n",
    "                       'danlab': 'Berkeley', 'steinmetzlab': 'UW', 'churchlandlab_ucla': 'UCLA', 'hausserlab': 'UCL'}\n",
    "    colors = np.concatenate([sns.color_palette(\"Dark2\"), sns.color_palette('Set2')[0:2]])\n",
    "    institutions = ['UCL', 'CCU', 'CSHL (C)', 'NYU', 'Princeton', 'SWC', 'Berkeley', 'CSHL (Z)',\n",
    "                    'UW', 'UCLA']\n",
    "    institution_colors = {}\n",
    "    for i, inst in enumerate(institutions):\n",
    "        institution_colors[inst] = colors[i]\n",
    "    return lab_number_map, institution_map, institution_colors"
   ]
  },
  {
   "cell_type": "code",
   "execution_count": 86,
   "metadata": {},
   "outputs": [],
   "source": [
    "inst2text = {'cortexlab': 'Cortex Lab (UCL)', 'mainenlab': 'Mainen Lab (CCU)', 'zadorlab': 'Zador Lab (CSHL)',\n",
    "                       'churchlandlab': 'Churchland Lab (CSHL)', 'angelakilab': 'Angelaki Lab (NYU)',\n",
    "                       'wittenlab': 'Witten Lab (Princeton)', 'hoferlab': 'Hofer Lab (SWC)', 'mrsicflogellab': 'Mrsic-Flogel Lab (SWC)',\n",
    "                       'danlab': 'Dan Lab (Berkeley)', 'steinmetzlab': 'Steinmetz Lab (UW)', 'churchlandlab_ucla': 'Churchland Lab (UCLA)', 'hausserlab': 'Hausser Lab (UCL)'}"
   ]
  },
  {
   "cell_type": "code",
   "execution_count": 58,
   "metadata": {},
   "outputs": [],
   "source": [
    "lab_number_map, institution_map, institution_colors = labs()"
   ]
  },
  {
   "cell_type": "code",
   "execution_count": 44,
   "metadata": {},
   "outputs": [],
   "source": [
    "def lab2color(lab):\n",
    "    color_array = institution_colors[institution_map[lab]]\n",
    "    return '#%02x%02x%02x' % (int(color_array[0]*255), int(color_array[1]*255), int(color_array[2]*255))"
   ]
  },
  {
   "cell_type": "code",
   "execution_count": 2,
   "metadata": {},
   "outputs": [
    {
     "name": "stdout",
     "output_type": "stream",
     "text": [
      "(32766, 7)\n"
     ]
    }
   ],
   "source": [
    "data = pd.read_csv('./lab_clusters.csv', index_col=0)\n",
    "data = data[data['label']==1]\n",
    "print(data.shape)"
   ]
  },
  {
   "cell_type": "code",
   "execution_count": 3,
   "metadata": {},
   "outputs": [
    {
     "data": {
      "text/html": [
       "<div>\n",
       "<style scoped>\n",
       "    .dataframe tbody tr th:only-of-type {\n",
       "        vertical-align: middle;\n",
       "    }\n",
       "\n",
       "    .dataframe tbody tr th {\n",
       "        vertical-align: top;\n",
       "    }\n",
       "\n",
       "    .dataframe thead th {\n",
       "        text-align: right;\n",
       "    }\n",
       "</style>\n",
       "<table border=\"1\" class=\"dataframe\">\n",
       "  <thead>\n",
       "    <tr style=\"text-align: right;\">\n",
       "      <th></th>\n",
       "      <th>eid</th>\n",
       "      <th>pid</th>\n",
       "      <th>ml_ccf</th>\n",
       "      <th>ap_ccf</th>\n",
       "      <th>dv_ccf</th>\n",
       "      <th>lab</th>\n",
       "      <th>label</th>\n",
       "    </tr>\n",
       "  </thead>\n",
       "  <tbody>\n",
       "    <tr>\n",
       "      <th>1</th>\n",
       "      <td>6713a4a7-faed-4df2-acab-ee4e63326f8d</td>\n",
       "      <td>56f2a378-78d2-4132-b3c8-8c1ba82be598</td>\n",
       "      <td>3450.0</td>\n",
       "      <td>7937.0</td>\n",
       "      <td>3927.0</td>\n",
       "      <td>angelakilab</td>\n",
       "      <td>1.0</td>\n",
       "    </tr>\n",
       "    <tr>\n",
       "      <th>3</th>\n",
       "      <td>6713a4a7-faed-4df2-acab-ee4e63326f8d</td>\n",
       "      <td>56f2a378-78d2-4132-b3c8-8c1ba82be598</td>\n",
       "      <td>3450.0</td>\n",
       "      <td>7937.0</td>\n",
       "      <td>3927.0</td>\n",
       "      <td>angelakilab</td>\n",
       "      <td>1.0</td>\n",
       "    </tr>\n",
       "    <tr>\n",
       "      <th>10</th>\n",
       "      <td>6713a4a7-faed-4df2-acab-ee4e63326f8d</td>\n",
       "      <td>56f2a378-78d2-4132-b3c8-8c1ba82be598</td>\n",
       "      <td>3450.0</td>\n",
       "      <td>7933.0</td>\n",
       "      <td>3908.0</td>\n",
       "      <td>angelakilab</td>\n",
       "      <td>1.0</td>\n",
       "    </tr>\n",
       "    <tr>\n",
       "      <th>13</th>\n",
       "      <td>6713a4a7-faed-4df2-acab-ee4e63326f8d</td>\n",
       "      <td>56f2a378-78d2-4132-b3c8-8c1ba82be598</td>\n",
       "      <td>3450.0</td>\n",
       "      <td>7928.0</td>\n",
       "      <td>3888.0</td>\n",
       "      <td>angelakilab</td>\n",
       "      <td>1.0</td>\n",
       "    </tr>\n",
       "    <tr>\n",
       "      <th>16</th>\n",
       "      <td>6713a4a7-faed-4df2-acab-ee4e63326f8d</td>\n",
       "      <td>56f2a378-78d2-4132-b3c8-8c1ba82be598</td>\n",
       "      <td>3450.0</td>\n",
       "      <td>7928.0</td>\n",
       "      <td>3888.0</td>\n",
       "      <td>angelakilab</td>\n",
       "      <td>1.0</td>\n",
       "    </tr>\n",
       "  </tbody>\n",
       "</table>\n",
       "</div>"
      ],
      "text/plain": [
       "                                     eid  \\\n",
       "1   6713a4a7-faed-4df2-acab-ee4e63326f8d   \n",
       "3   6713a4a7-faed-4df2-acab-ee4e63326f8d   \n",
       "10  6713a4a7-faed-4df2-acab-ee4e63326f8d   \n",
       "13  6713a4a7-faed-4df2-acab-ee4e63326f8d   \n",
       "16  6713a4a7-faed-4df2-acab-ee4e63326f8d   \n",
       "\n",
       "                                     pid  ml_ccf  ap_ccf  dv_ccf          lab  \\\n",
       "1   56f2a378-78d2-4132-b3c8-8c1ba82be598  3450.0  7937.0  3927.0  angelakilab   \n",
       "3   56f2a378-78d2-4132-b3c8-8c1ba82be598  3450.0  7937.0  3927.0  angelakilab   \n",
       "10  56f2a378-78d2-4132-b3c8-8c1ba82be598  3450.0  7933.0  3908.0  angelakilab   \n",
       "13  56f2a378-78d2-4132-b3c8-8c1ba82be598  3450.0  7928.0  3888.0  angelakilab   \n",
       "16  56f2a378-78d2-4132-b3c8-8c1ba82be598  3450.0  7928.0  3888.0  angelakilab   \n",
       "\n",
       "    label  \n",
       "1     1.0  \n",
       "3     1.0  \n",
       "10    1.0  \n",
       "13    1.0  \n",
       "16    1.0  "
      ]
     },
     "execution_count": 3,
     "metadata": {},
     "output_type": "execute_result"
    }
   ],
   "source": [
    "data.head()"
   ]
  },
  {
   "cell_type": "code",
   "execution_count": 4,
   "metadata": {},
   "outputs": [
    {
     "name": "stdout",
     "output_type": "stream",
     "text": [
      "(URN) connected to server\n",
      "Login sent with ID: Dan\n"
     ]
    }
   ],
   "source": [
    "urn.setup()"
   ]
  },
  {
   "cell_type": "code",
   "execution_count": 82,
   "metadata": {},
   "outputs": [],
   "source": [
    "urn.clear()\n",
    "\n",
    "areas = [22, 31, 44, 95, 184, 247, 254, 343, 453, 500, 512, 541, 623, 669, 677, 698, 703, 714, 895, 922, 972, 1057, 1089]\n",
    "\n",
    "area_vis = {}\n",
    "area_mat = {}\n",
    "area_alpha = {}\n",
    "\n",
    "for area in areas:\n",
    "    area_vis[area] = True\n",
    "    area_mat[area] = 'transparent-unlit'\n",
    "    area_alpha[area] = 0.15\n",
    "\n",
    "\n",
    "# Load brain areas     \n",
    "urn.set_area_visibility(area_vis)\n",
    "urn.set_area_material(area_mat)\n",
    "urn.set_area_alpha(area_alpha)"
   ]
  },
  {
   "cell_type": "code",
   "execution_count": 60,
   "metadata": {},
   "outputs": [],
   "source": [
    "labs = np.unique(data['lab'])"
   ]
  },
  {
   "cell_type": "code",
   "execution_count": 92,
   "metadata": {},
   "outputs": [
    {
     "name": "stdout",
     "output_type": "stream",
     "text": [
      "(URN) disconnected from server\n",
      "(URN) connected to server\n",
      "Login sent with ID: Dan\n",
      "(URN) disconnected from server\n",
      "(URN) connected to server\n",
      "Login sent with ID: Dan\n"
     ]
    },
    {
     "name": "stderr",
     "output_type": "stream",
     "text": [
      "packet queue is empty, aborting\n"
     ]
    },
    {
     "name": "stdout",
     "output_type": "stream",
     "text": [
      "(URN) disconnected from server\n",
      "(URN) connected to server\n",
      "Login sent with ID: Dan\n"
     ]
    },
    {
     "name": "stderr",
     "output_type": "stream",
     "text": [
      "packet queue is empty, aborting\n"
     ]
    },
    {
     "name": "stdout",
     "output_type": "stream",
     "text": [
      "(URN) disconnected from server\n",
      "(URN) connected to server\n",
      "Login sent with ID: Dan\n"
     ]
    }
   ],
   "source": [
    "urn.set_camera_rotation(45,0,0)\n",
    "time.sleep(5)\n",
    "\n",
    "for lab in labs:\n",
    "    ldata = data[data['lab']==lab]\n",
    "    lab_color = lab2color(lab).upper()\n",
    "\n",
    "    anames = []\n",
    "    apos = []\n",
    "    acol = []\n",
    "    ashape = []\n",
    "\n",
    "    # we're going to prefill a bunch of dictionaries for each probe, then we'll pop them into view one at a time (less dramatic then making all neurons appear at once)\n",
    "    upid = np.unique(ldata['pid'].values)\n",
    "\n",
    "    for pid in upid:\n",
    "        pdata = ldata[ldata['pid']==pid]\n",
    "\n",
    "        neuron_names = []\n",
    "        neuron_pos = {}\n",
    "        neuron_col = {}\n",
    "        neuron_shape = {}\n",
    "\n",
    "        for i, row in pdata.iterrows():\n",
    "            name = 'n'+str(i)\n",
    "            neuron_names.append(name)\n",
    "            neuron_pos[name] = ([row['ml_ccf'], row['ap_ccf'], row['dv_ccf']])\n",
    "            neuron_shape[name] = 'sphere'\n",
    "            neuron_col[name] = lab_color\n",
    "\n",
    "        anames.append(neuron_names)\n",
    "        apos.append(neuron_pos)\n",
    "        acol.append(neuron_col)\n",
    "        ashape.append(neuron_shape)\n",
    "\n",
    "    urn.clear_texts()\n",
    "    # Setting the text names, positions, sizes, and colors\n",
    "    urn.create_text(['t1'])\n",
    "    urn.set_text({'t1':inst2text[lab]})\n",
    "    urn.set_text_positions({'t1':[-0.6,0.5]})\n",
    "    urn.set_text_colors({'t1':lab_color})\n",
    "\n",
    "    # now iterate through probes\n",
    "    urn.clear_neurons()\n",
    "    for i in np.arange(0,len(anames)):\n",
    "        urn.create_neurons(anames[i])\n",
    "        urn.set_neuron_positions(apos[i])\n",
    "        urn.set_neuron_shapes(ashape[i])\n",
    "        urn.set_neuron_colors(acol[i])\n",
    "        time.sleep(0.02)\n",
    "\n",
    "    time.sleep(2.5)"
   ]
  },
  {
   "cell_type": "code",
   "execution_count": 55,
   "metadata": {},
   "outputs": [],
   "source": [
    "\n"
   ]
  },
  {
   "cell_type": "code",
   "execution_count": 11,
   "metadata": {},
   "outputs": [
    {
     "name": "stdout",
     "output_type": "stream",
     "text": [
      "['angelakilab' 'churchlandlab' 'churchlandlab_ucla' 'cortexlab' 'danlab'\n",
      " 'hausserlab' 'hoferlab' 'mainenlab' 'mrsicflogellab' 'steinmetzlab'\n",
      " 'wittenlab' 'zadorlab']\n"
     ]
    }
   ],
   "source": [
    "print(labs)"
   ]
  },
  {
   "cell_type": "code",
   "execution_count": null,
   "metadata": {},
   "outputs": [],
   "source": []
  }
 ],
 "metadata": {
  "kernelspec": {
   "display_name": "iblenv",
   "language": "python",
   "name": "python3"
  },
  "language_info": {
   "codemirror_mode": {
    "name": "ipython",
    "version": 3
   },
   "file_extension": ".py",
   "mimetype": "text/x-python",
   "name": "python",
   "nbconvert_exporter": "python",
   "pygments_lexer": "ipython3",
   "version": "3.9.0"
  },
  "orig_nbformat": 4,
  "vscode": {
   "interpreter": {
    "hash": "e571d860348ccccbb87c9afaea3b8de5dc8c1513265a6c0fcfe6ac69a4d3ce4b"
   }
  }
 },
 "nbformat": 4,
 "nbformat_minor": 2
}
