{
 "cells": [
  {
   "cell_type": "code",
   "execution_count": 83,
   "metadata": {},
   "outputs": [],
   "source": [
    "# requires iblenv\n",
    "\n",
    "import numpy as np\n",
    "import ibllib.atlas.atlas as atlas\n",
    "from ibllib.atlas.regions import BrainRegions\n",
    "import matplotlib.pyplot as plt\n",
    "import unityneuro.render as urn\n",
    "import pandas as pd\n",
    "\n",
    "br = BrainRegions()\n",
    "AllenAtlas = atlas.AllenAtlas()"
   ]
  },
  {
   "cell_type": "code",
   "execution_count": 107,
   "metadata": {},
   "outputs": [],
   "source": [
    "ccf_id = AllenAtlas.regions.id[AllenAtlas.label]"
   ]
  },
  {
   "cell_type": "code",
   "execution_count": 108,
   "metadata": {},
   "outputs": [],
   "source": [
    "ontology = pd.read_csv('./ontology_structure_minimal.csv')\n",
    "ids = ontology['id'].values\n",
    "beryl_ids = ontology['beryl_id'].values\n",
    "acronyms = ontology['acronym'].values\n",
    "\n",
    "# get the acronym for each beryl ID\n"
   ]
  },
  {
   "cell_type": "code",
   "execution_count": 177,
   "metadata": {},
   "outputs": [],
   "source": [
    "def id2beryl(id):\n",
    "    idx = np.nonzero(ids==id)\n",
    "    return beryl_ids[idx][0]"
   ]
  },
  {
   "cell_type": "code",
   "execution_count": 159,
   "metadata": {},
   "outputs": [],
   "source": [
    "ml_slice_coords_um = [-1800, -800, -200]\n",
    "ml_slice_coords = [-1800/25 + 456/2, -800/25 + 456/2, -200/25 + 456/2]\n"
   ]
  },
  {
   "cell_type": "code",
   "execution_count": 110,
   "metadata": {},
   "outputs": [
    {
     "data": {
      "text/plain": [
       "[156.0, 196.0, 220.0]"
      ]
     },
     "execution_count": 110,
     "metadata": {},
     "output_type": "execute_result"
    }
   ],
   "source": [
    "ml_slice_coords"
   ]
  },
  {
   "cell_type": "code",
   "execution_count": 206,
   "metadata": {},
   "outputs": [],
   "source": [
    "out = ccf_id[:,int(ml_slice_coords[0]),:]"
   ]
  },
  {
   "cell_type": "code",
   "execution_count": 207,
   "metadata": {},
   "outputs": [
    {
     "data": {
      "text/plain": [
       "<matplotlib.image.AxesImage at 0x20d94b1f8b0>"
      ]
     },
     "execution_count": 207,
     "metadata": {},
     "output_type": "execute_result"
    },
    {
     "data": {
      "image/png": "[encoded data removed]",
      "text/plain": [
       "<Figure size 432x288 with 1 Axes>"
      ]
     },
     "metadata": {
      "needs_background": "light"
     },
     "output_type": "display_data"
    }
   ],
   "source": [
    "plt.imshow(AllenAtlas.slice(ml_slice_coords_um[0]/1000000,0,volume='annotation'))"
   ]
  },
  {
   "cell_type": "code",
   "execution_count": 208,
   "metadata": {},
   "outputs": [],
   "source": [
    "out_unique = np.unique(out.flatten())"
   ]
  },
  {
   "cell_type": "code",
   "execution_count": 171,
   "metadata": {},
   "outputs": [
    {
     "name": "stdout",
     "output_type": "stream",
     "text": [
      "(urchin) Client is already connected\n"
     ]
    }
   ],
   "source": [
    "urn.setup()"
   ]
  },
  {
   "cell_type": "code",
   "execution_count": 209,
   "metadata": {},
   "outputs": [],
   "source": [
    "urn.clear_areas()\n",
    "\n",
    "area_names = []\n",
    "area_visibility = {}\n",
    "\n",
    "for area in out_unique:\n",
    "    if area != 0 and area != 8:\n",
    "        acronym = br.id2acronym(id2beryl(np.abs(area)))[0]\n",
    "        if acronym != 'root':\n",
    "            area_names.append(acronym)\n",
    "        \n",
    "area_names = np.unique(area_names)\n",
    "\n",
    "for area_name in area_names:\n",
    "    area_visibility[area_name] = True\n",
    "\n",
    "urn.set_area_visibility(area_visibility)"
   ]
  },
  {
   "cell_type": "code",
   "execution_count": 150,
   "metadata": {},
   "outputs": [
    {
     "data": {
      "text/plain": [
       "'MM'"
      ]
     },
     "execution_count": 150,
     "metadata": {},
     "output_type": "execute_result"
    }
   ],
   "source": [
    "area_names"
   ]
  },
  {
   "cell_type": "code",
   "execution_count": 188,
   "metadata": {},
   "outputs": [],
   "source": [
    "all_ids = []\n",
    "for i in np.arange(3):\n",
    "    out = ccf_id[:,int(ml_slice_coords[i]),:]\n",
    "    for id in np.unique(out.flatten()):\n",
    "        if id != 0:\n",
    "            all_ids.append(id)"
   ]
  },
  {
   "cell_type": "code",
   "execution_count": 191,
   "metadata": {},
   "outputs": [],
   "source": [
    "all_beryl_ids = []\n",
    "\n",
    "for id in all_ids:\n",
    "    all_beryl_ids.append(id2beryl(np.abs(id)))\n",
    "\n",
    "all_beryl_ids = np.unique(all_beryl_ids)"
   ]
  },
  {
   "cell_type": "code",
   "execution_count": 192,
   "metadata": {},
   "outputs": [],
   "source": [
    "missing_beryl_ids = list(set(beryl_ids) - set(all_beryl_ids))"
   ]
  },
  {
   "cell_type": "code",
   "execution_count": 196,
   "metadata": {},
   "outputs": [],
   "source": [
    "urn.clear_areas()\n",
    "\n",
    "area_names = []\n",
    "area_visibility = {}\n",
    "\n",
    "for area in missing_beryl_ids:\n",
    "    acronym = br.id2acronym(area)[0]\n",
    "    if acronym != 'root':\n",
    "        area_names.append(acronym)\n",
    "        \n",
    "area_names = np.unique(area_names)\n",
    "\n",
    "for area_name in area_names:\n",
    "    area_visibility[area_name] = True\n",
    "\n",
    "urn.set_area_visibility(area_visibility)"
   ]
  },
  {
   "cell_type": "code",
   "execution_count": 200,
   "metadata": {},
   "outputs": [
    {
     "data": {
      "text/plain": [
       "85"
      ]
     },
     "execution_count": 200,
     "metadata": {},
     "output_type": "execute_result"
    }
   ],
   "source": [
    "len(area_visibility)"
   ]
  },
  {
   "cell_type": "code",
   "execution_count": null,
   "metadata": {},
   "outputs": [],
   "source": []
  }
 ],
 "metadata": {
  "kernelspec": {
   "display_name": "iblenv",
   "language": "python",
   "name": "python3"
  },
  "language_info": {
   "codemirror_mode": {
    "name": "ipython",
    "version": 3
   },
   "file_extension": ".py",
   "mimetype": "text/x-python",
   "name": "python",
   "nbconvert_exporter": "python",
   "pygments_lexer": "ipython3",
   "version": "3.9.0"
  },
  "orig_nbformat": 4,
  "vscode": {
   "interpreter": {
    "hash": "e571d860348ccccbb87c9afaea3b8de5dc8c1513265a6c0fcfe6ac69a4d3ce4b"
   }
  }
 },
 "nbformat": 4,
 "nbformat_minor": 2
}
