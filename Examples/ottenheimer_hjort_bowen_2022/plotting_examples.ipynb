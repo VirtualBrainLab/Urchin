{
 "cells": [
  {
   "cell_type": "code",
   "execution_count": 1,
   "id": "b1612508-beb5-4641-8ddf-b62fb6ef3696",
   "metadata": {},
   "outputs": [],
   "source": [
    "import unityneuro.render as urn\n",
    "import numpy as np\n",
    "import matplotlib"
   ]
  },
  {
   "cell_type": "markdown",
   "id": "e546d635-0eb0-4525-b3d0-9ddb65c7bea8",
   "metadata": {},
   "source": [
    "# Load data"
   ]
  },
  {
   "cell_type": "code",
   "execution_count": 34,
   "id": "aa58495d-211d-41a6-8f77-f40e008e941f",
   "metadata": {
    "scrolled": true,
    "tags": []
   },
   "outputs": [],
   "source": [
    "cue = np.load('./data/neurons.cue.npy')\n",
    "lick = np.load('./data/neurons.lick.npy')\n",
    "mlapdv = np.load('./data/neurons.ML_AP_DV_fromBregma.npy')\n",
    "colors = np.load('./data/region.colors.npy')\n",
    "with open('./data/neurons.region.txt') as f:\n",
    "    regions = f.read().split('\\n')\n",
    "regions = regions[:len(regions)-1]\n",
    "areas = ['ALM','MOs','ACA','FRP','PL','ILA','ORB','CP','ACB','DP','TTd','AON','OLF']\n",
    "neuron_region_idx=[areas.index(e) for e in regions]"
   ]
  },
  {
   "cell_type": "code",
   "execution_count": 36,
   "id": "6525ad8b-428a-45bf-ae62-424a7b105106",
   "metadata": {},
   "outputs": [],
   "source": [
    "hex_colors = [matplotlib.colors.to_hex(col) for col in colors]"
   ]
  },
  {
   "cell_type": "code",
   "execution_count": 40,
   "id": "21db6f4f-1934-46ba-9b6b-30f4aa366a78",
   "metadata": {},
   "outputs": [],
   "source": [
    "bregma = [5400, 5739, 332]\n",
    "def convertAPML2CCF(ml,ap,dv,iblBregma):\n",
    "    ml = iblBregma[0] + ml\n",
    "    ap = iblBregma[1] - ap \n",
    "    dv = iblBregma[2] - dv\n",
    "    return (ml,ap,dv)"
   ]
  },
  {
   "cell_type": "markdown",
   "id": "2dad08ea-a923-4229-b5db-8ab7b4bf0ccd",
   "metadata": {},
   "source": [
    "# Setup scene"
   ]
  },
  {
   "cell_type": "code",
   "execution_count": 4,
   "id": "128d5bac-d168-44ac-92b3-474a6b504a05",
   "metadata": {},
   "outputs": [
    {
     "name": "stdout",
     "output_type": "stream",
     "text": [
      "(URN) connected to server\n",
      "Login sent with ID: Dan\n"
     ]
    }
   ],
   "source": [
    "urn.setup()"
   ]
  },
  {
   "cell_type": "code",
   "execution_count": 105,
   "id": "4ea55257-ef1e-40be-9a85-12e1c3cc1657",
   "metadata": {},
   "outputs": [],
   "source": [
    "urn.clear()"
   ]
  },
  {
   "cell_type": "code",
   "execution_count": 110,
   "id": "218af1f5-bda7-48d4-a4dc-4d9eeace7d9f",
   "metadata": {},
   "outputs": [],
   "source": [
    "# urn.set_area_visibility({'8':True})\n",
    "# urn.set_area_material({'8':'transparent-unlit'})\n",
    "# urn.set_area_alpha({'8':0.05})\n",
    "# urn.set_area_color({'8':'#add8e6'})\n",
    "\n",
    "areaVis = {}\n",
    "areaMat = {}\n",
    "areaAlpha = {}\n",
    "areaColor = {}\n",
    "for i,area in enumerate(areas):\n",
    "    areaName = area + ''\n",
    "    areaVis[areaName] = True\n",
    "    areaMat[areaName] = 'transparent-unlit'\n",
    "    areaAlpha[areaName] = 0.1\n",
    "    areaColor[areaName] = '#add8e6'\n",
    "    # areaColor[areaName] = matplotlib.colors.to_hex(colors[i,:])\n",
    "    \n",
    "urn.set_area_visibility(areaVis)\n",
    "urn.set_area_material(areaMat)\n",
    "urn.set_area_alpha(areaAlpha)\n",
    "urn.set_area_color(areaColor)"
   ]
  },
  {
   "cell_type": "code",
   "execution_count": 116,
   "id": "f3d69998-9a0a-47cc-99e0-1a1b896ce843",
   "metadata": {},
   "outputs": [],
   "source": [
    "urn.set_camera_rotation(45,0,135)\n",
    "urn.set_camera_target([11400/2,3000,4000])"
   ]
  },
  {
   "cell_type": "markdown",
   "id": "d9a42d4d-5dee-44f8-82d9-fe5f07dbe925",
   "metadata": {},
   "source": [
    "# Add neurons"
   ]
  },
  {
   "cell_type": "code",
   "execution_count": 99,
   "id": "a631c1f7-5b9e-4ec6-84cf-6010ae19b15e",
   "metadata": {},
   "outputs": [],
   "source": [
    "# color by area in the brain\n",
    "\n",
    "neurons = []\n",
    "neuronPos = {}\n",
    "neuronSize = {}\n",
    "neuronShape = {}\n",
    "neuronColors = {}\n",
    "\n",
    "for i, mlapdv_n in enumerate(mlapdv):\n",
    "    nn = 'n'+str(i)\n",
    "    \n",
    "    neurons.append(nn)\n",
    "    pos = convertAPML2CCF(mlapdv_n[0],mlapdv_n[1],mlapdv_n[2],bregma)\n",
    "    neuronPos[nn] = [pos[0],pos[1],pos[2]]\n",
    "    neuronSize[nn] = 0.04\n",
    "    neuronShape[nn] = 'sphere'\n",
    "    neuronColors[nn] = hex_colors[neuron_region_idx[i]]\n",
    "    \n",
    "urn.create_neurons(neurons)\n",
    "urn.set_neuron_positions(neuronPos)\n",
    "urn.set_neuron_sizes(neuronSize)\n",
    "urn.set_neuron_colors(neuronColors)"
   ]
  },
  {
   "cell_type": "code",
   "execution_count": 112,
   "id": "f433f136-e70c-47fe-b763-ab1639ce28be",
   "metadata": {},
   "outputs": [],
   "source": [
    "# re-olor by cue/lick condition\n",
    "\n",
    "neurons = []\n",
    "neuronPos = {}\n",
    "neuronSize = {}\n",
    "neuronShape = {}\n",
    "neuronColors = {}\n",
    "\n",
    "for i, mlapdv_n in enumerate(mlapdv):\n",
    "    nn = 'n'+str(i)\n",
    "    \n",
    "    neurons.append(nn)\n",
    "    pos = convertAPML2CCF(mlapdv_n[0],mlapdv_n[1],mlapdv_n[2],bregma)\n",
    "    neuronPos[nn] = [pos[0],pos[1],pos[2]]\n",
    "    neuronShape[nn] = 'sphere'\n",
    "    if cue[i]:\n",
    "        neuronColors[nn] = '#AC62F5'\n",
    "        neuronSize[nn] = 0.04\n",
    "    elif lick[i]:\n",
    "        neuronColors[nn] = '#F5A731'\n",
    "        neuronSize[nn] = 0.04\n",
    "    else:\n",
    "        neuronColors[nn] = '#000000'\n",
    "        neuronSize[nn] = 0.02\n",
    "    \n",
    "# urn.create_neurons(neurons)\n",
    "urn.set_neuron_positions(neuronPos)\n",
    "urn.set_neuron_sizes(neuronSize)\n",
    "urn.set_neuron_colors(neuronColors)"
   ]
  },
  {
   "cell_type": "code",
   "execution_count": null,
   "id": "bac94406-91f0-46ab-9817-724f4ba98b5b",
   "metadata": {},
   "outputs": [],
   "source": []
  }
 ],
 "metadata": {
  "kernelspec": {
   "display_name": "Python 3 (ipykernel)",
   "language": "python",
   "name": "python3"
  },
  "language_info": {
   "codemirror_mode": {
    "name": "ipython",
    "version": 3
   },
   "file_extension": ".py",
   "mimetype": "text/x-python",
   "name": "python",
   "nbconvert_exporter": "python",
   "pygments_lexer": "ipython3",
   "version": "3.10.6"
  }
 },
 "nbformat": 4,
 "nbformat_minor": 5
}
