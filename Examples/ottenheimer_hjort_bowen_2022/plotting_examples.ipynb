{
 "cells": [
  {
   "cell_type": "code",
   "execution_count": 1,
   "id": "b1612508-beb5-4641-8ddf-b62fb6ef3696",
   "metadata": {},
   "outputs": [],
   "source": [
    "import unityneuro.render as urn\n",
    "import numpy as np\n",
    "import matplotlib"
   ]
  },
  {
   "cell_type": "markdown",
   "id": "e546d635-0eb0-4525-b3d0-9ddb65c7bea8",
   "metadata": {},
   "source": [
    "# Load data"
   ]
  },
  {
   "cell_type": "code",
   "execution_count": 2,
   "id": "aa58495d-211d-41a6-8f77-f40e008e941f",
   "metadata": {
    "scrolled": true,
    "tags": []
   },
   "outputs": [],
   "source": [
    "cue = np.load('./data/neurons.cue.npy')\n",
    "lick = np.load('./data/neurons.lick.npy')\n",
    "mlapdv = np.load('./data/neurons.ML_AP_DV_fromBregma.npy')\n",
    "colors = np.load('./data/region.colors.npy')\n",
    "with open('./data/neurons.region.txt') as f:\n",
    "    regions = f.read().split('\\n')\n",
    "regions = regions[:len(regions)-1]\n",
    "areas = ['ALM','MOs','ACA','FRP','PL','ILA','ORB','CP','ACB','DP','TTd','AON','OLF']\n",
    "neuron_region_idx=[areas.index(e) for e in regions]"
   ]
  },
  {
   "cell_type": "code",
   "execution_count": 3,
   "id": "6525ad8b-428a-45bf-ae62-424a7b105106",
   "metadata": {},
   "outputs": [],
   "source": [
    "hex_colors = [matplotlib.colors.to_hex(col) for col in colors]"
   ]
  },
  {
   "cell_type": "code",
   "execution_count": 4,
   "id": "21db6f4f-1934-46ba-9b6b-30f4aa366a78",
   "metadata": {},
   "outputs": [],
   "source": [
    "bregma = [5400, 5739, 332]\n",
    "def convertAPML2CCF(ml,ap,dv,iblBregma):\n",
    "    ml = iblBregma[0] + ml\n",
    "    ap = iblBregma[1] - ap \n",
    "    dv = iblBregma[2] - dv\n",
    "    return (ml,ap,dv)"
   ]
  },
  {
   "cell_type": "markdown",
   "id": "2dad08ea-a923-4229-b5db-8ab7b4bf0ccd",
   "metadata": {},
   "source": [
    "# Setup scene"
   ]
  },
  {
   "cell_type": "code",
   "execution_count": 5,
   "id": "128d5bac-d168-44ac-92b3-474a6b504a05",
   "metadata": {},
   "outputs": [
    {
     "name": "stdout",
     "output_type": "stream",
     "text": [
      "(URN) connected to server\n",
      "Login sent with ID: Dan\n"
     ]
    }
   ],
   "source": [
    "urn.setup()"
   ]
  },
  {
   "cell_type": "markdown",
   "id": "de8f43d2-3f8c-4327-b38c-27010f7e8100",
   "metadata": {
    "tags": []
   },
   "source": [
    "# (1) Not lateralized brain areas, light blue color, brain coverage colors for neurons"
   ]
  },
  {
   "cell_type": "code",
   "execution_count": 14,
   "id": "4ea55257-ef1e-40be-9a85-12e1c3cc1657",
   "metadata": {},
   "outputs": [],
   "source": [
    "urn.clear()"
   ]
  },
  {
   "cell_type": "code",
   "execution_count": 15,
   "id": "86fd8cad-0d24-4f11-be57-f0a9d564ce30",
   "metadata": {},
   "outputs": [],
   "source": [
    "areaVis = {}\n",
    "areaMat = {}\n",
    "areaAlpha = {}\n",
    "areaColor = {}\n",
    "for i,area in enumerate(areas):\n",
    "    areaName = area\n",
    "    areaVis[areaName] = True\n",
    "    areaMat[areaName] = 'transparent-unlit'\n",
    "    areaAlpha[areaName] = 0.1\n",
    "    areaColor[areaName] = '#add8e6'\n",
    "    # areaColor[areaName] = matplotlib.colors.to_hex(colors[i,:])\n",
    "    \n",
    "urn.set_area_visibility(areaVis)\n",
    "urn.set_area_material(areaMat)\n",
    "urn.set_area_alpha(areaAlpha)\n",
    "urn.set_area_color(areaColor)"
   ]
  },
  {
   "cell_type": "code",
   "execution_count": 16,
   "id": "659e8dd1-c254-49d1-857e-e9aef167006e",
   "metadata": {},
   "outputs": [],
   "source": [
    "# color by area in the brain\n",
    "\n",
    "neurons = []\n",
    "neuronPos = {}\n",
    "neuronSize = {}\n",
    "neuronShape = {}\n",
    "neuronColors = {}\n",
    "\n",
    "for i, mlapdv_n in enumerate(mlapdv):\n",
    "    nn = 'n'+str(i)\n",
    "    \n",
    "    neurons.append(nn)\n",
    "    pos = convertAPML2CCF(mlapdv_n[0],mlapdv_n[1],mlapdv_n[2],bregma)\n",
    "    neuronPos[nn] = [pos[0],pos[1],pos[2]]\n",
    "    neuronSize[nn] = 0.04\n",
    "    neuronShape[nn] = 'sphere'\n",
    "    neuronColors[nn] = hex_colors[neuron_region_idx[i]]\n",
    "    \n",
    "urn.create_neurons(neurons)\n",
    "urn.set_neuron_positions(neuronPos)\n",
    "urn.set_neuron_sizes(neuronSize)\n",
    "urn.set_neuron_colors(neuronColors)"
   ]
  },
  {
   "cell_type": "code",
   "execution_count": 30,
   "id": "378771b4-6813-4d0a-a8af-73cac15af374",
   "metadata": {},
   "outputs": [],
   "source": [
    "urn.set_camera_rotation(45,0,135)\n",
    "urn.set_camera_target([11400/2,3000,4000])"
   ]
  },
  {
   "cell_type": "code",
   "execution_count": 26,
   "id": "af637d90-aced-4a68-beca-aed124f8a17e",
   "metadata": {},
   "outputs": [],
   "source": [
    "urn.set_camera_rotation(0,0,0)"
   ]
  },
  {
   "cell_type": "code",
   "execution_count": 28,
   "id": "4c7bc4c1-f4de-4aa9-9674-37a45595a40f",
   "metadata": {},
   "outputs": [],
   "source": [
    "urn.set_camera_rotation(90,-90,0)"
   ]
  },
  {
   "cell_type": "code",
   "execution_count": 29,
   "id": "b5569014-26ef-4578-bb3b-418c09255312",
   "metadata": {},
   "outputs": [],
   "source": [
    "urn.set_camera_rotation(90,180,0)"
   ]
  },
  {
   "cell_type": "markdown",
   "id": "7e98f8a2-ce05-410f-9b50-08a4558e5459",
   "metadata": {},
   "source": [
    "# (2) Lateralized and collapsed w/ brain area colors"
   ]
  },
  {
   "cell_type": "code",
   "execution_count": 61,
   "id": "abe7cf8b-d82c-4ac7-abe9-0d3bab22f635",
   "metadata": {},
   "outputs": [],
   "source": [
    "urn.clear()"
   ]
  },
  {
   "cell_type": "code",
   "execution_count": 62,
   "id": "2f3cb425-8ac3-4b79-b4e1-330827f833c0",
   "metadata": {},
   "outputs": [],
   "source": [
    "areaVis = {}\n",
    "areaMat = {}\n",
    "areaAlpha = {}\n",
    "areaColor = {}\n",
    "for i,area in enumerate(areas):\n",
    "    areaName = area + '-lh'\n",
    "    areaVis[areaName] = True\n",
    "    areaMat[areaName] = 'transparent-unlit'\n",
    "    areaAlpha[areaName] = 0.1\n",
    "    # areaColor[areaName] = '#add8e6'\n",
    "    areaColor[areaName] = matplotlib.colors.to_hex(colors[i,:])\n",
    "    \n",
    "urn.set_area_visibility(areaVis)\n",
    "urn.set_area_material(areaMat)\n",
    "urn.set_area_alpha(areaAlpha)\n",
    "urn.set_area_color(areaColor)"
   ]
  },
  {
   "cell_type": "code",
   "execution_count": 63,
   "id": "9e24bc1b-aaf2-4042-8d4d-9d58f2f57d27",
   "metadata": {},
   "outputs": [],
   "source": [
    "# color by area in the brain\n",
    "\n",
    "neurons = []\n",
    "neuronPos = {}\n",
    "neuronSize = {}\n",
    "neuronShape = {}\n",
    "neuronColors = {}\n",
    "neuronMaterials = {}\n",
    "\n",
    "for i, mlapdv_n in enumerate(mlapdv):\n",
    "    nn = 'n'+str(i)\n",
    "    \n",
    "    neurons.append(nn)\n",
    "    pos = convertAPML2CCF(mlapdv_n[0],mlapdv_n[1],mlapdv_n[2],bregma)\n",
    "    if pos[0]>5700:\n",
    "        pos = (11400-pos[0],pos[1],pos[2])\n",
    "    neuronPos[nn] = [pos[0],pos[1],pos[2]]\n",
    "    neuronSize[nn] = 0.04\n",
    "    neuronShape[nn] = 'sphere'\n",
    "    neuronColors[nn] = '#808080'\n",
    "    neuronMaterials[nn] = 'unlit'\n",
    "    \n",
    "urn.create_neurons(neurons)\n",
    "urn.set_neuron_positions(neuronPos)\n",
    "urn.set_neuron_shapes(neuronShape)\n",
    "urn.set_neuron_sizes(neuronSize)\n",
    "urn.set_neuron_colors(neuronColors)\n",
    "urn.set_neuron_materials(neuronMaterials)"
   ]
  },
  {
   "cell_type": "code",
   "execution_count": 97,
   "id": "381949a5-4fe8-4155-891f-8c84e2015586",
   "metadata": {},
   "outputs": [
    {
     "name": "stdout",
     "output_type": "stream",
     "text": [
      "(URN) disconnected from server\n",
      "(URN) connected to server\n",
      "Login sent with ID: Dan\n"
     ]
    }
   ],
   "source": [
    "urn.set_camera_rotation(45,0,135)\n",
    "urn.set_camera_target([4600,3000,4000])"
   ]
  },
  {
   "cell_type": "code",
   "execution_count": 89,
   "id": "196a229b-e776-472b-8b44-c7c25e6d5020",
   "metadata": {},
   "outputs": [],
   "source": [
    "urn.set_camera_rotation(0,0,0)"
   ]
  },
  {
   "cell_type": "code",
   "execution_count": 90,
   "id": "a9a707e1-3846-4d02-85f7-5591b393f801",
   "metadata": {},
   "outputs": [],
   "source": [
    "urn.set_camera_rotation(90,-90,0)"
   ]
  },
  {
   "cell_type": "code",
   "execution_count": 91,
   "id": "e4c7a743-c535-480b-86fc-fd58db135ffb",
   "metadata": {},
   "outputs": [],
   "source": [
    "urn.set_camera_rotation(90,180,0)"
   ]
  },
  {
   "cell_type": "markdown",
   "id": "eb7b1635-1d40-4892-95ec-5031f5b13288",
   "metadata": {},
   "source": [
    "# (3) Collapsed w/ cue+lick"
   ]
  },
  {
   "cell_type": "code",
   "execution_count": 85,
   "id": "db2811be-51e5-47be-be2c-b39376efd20b",
   "metadata": {},
   "outputs": [],
   "source": [
    "urn.clear()"
   ]
  },
  {
   "cell_type": "code",
   "execution_count": 86,
   "id": "5bbb960a-2120-40e1-a1cb-592dcc944eb9",
   "metadata": {},
   "outputs": [],
   "source": [
    "areaVis = {}\n",
    "areaMat = {}\n",
    "areaAlpha = {}\n",
    "areaColor = {}\n",
    "for i,area in enumerate(areas):\n",
    "    areaName = area + '-lh'\n",
    "    areaVis[areaName] = True\n",
    "    areaMat[areaName] = 'transparent-unlit'\n",
    "    areaAlpha[areaName] = 0.1\n",
    "    # areaColor[areaName] = '#add8e6'\n",
    "    areaColor[areaName] = matplotlib.colors.to_hex(colors[i,:])\n",
    "    \n",
    "urn.set_area_visibility(areaVis)\n",
    "urn.set_area_material(areaMat)\n",
    "urn.set_area_alpha(areaAlpha)\n",
    "urn.set_area_color(areaColor)"
   ]
  },
  {
   "cell_type": "code",
   "execution_count": 87,
   "id": "f433f136-e70c-47fe-b763-ab1639ce28be",
   "metadata": {},
   "outputs": [],
   "source": [
    "# re-olor by cue/lick condition\n",
    "\n",
    "neurons = []\n",
    "neuronPos = {}\n",
    "neuronSize = {}\n",
    "neuronShape = {}\n",
    "neuronColors = {}\n",
    "\n",
    "for i, mlapdv_n in enumerate(mlapdv):\n",
    "    nn = 'n'+str(i)\n",
    "    \n",
    "    neurons.append(nn)\n",
    "    pos = convertAPML2CCF(mlapdv_n[0],mlapdv_n[1],mlapdv_n[2],bregma)\n",
    "    if pos[0]>5700:\n",
    "        pos = (11400-pos[0],pos[1],pos[2])\n",
    "    neuronPos[nn] = [pos[0],pos[1],pos[2]]\n",
    "    neuronShape[nn] = 'sphere'\n",
    "    if cue[i]:\n",
    "        neuronColors[nn] = '#0066E6'\n",
    "        neuronSize[nn] = 0.04\n",
    "    elif lick[i]:\n",
    "        neuronColors[nn] = '#E63300'\n",
    "        neuronSize[nn] = 0.04\n",
    "    else:\n",
    "        neuronColors[nn] = '#808080'\n",
    "        neuronSize[nn] = 0.02\n",
    "    \n",
    "urn.create_neurons(neurons)\n",
    "urn.set_neuron_positions(neuronPos)\n",
    "urn.set_neuron_shapes(neuronShape)\n",
    "urn.set_neuron_sizes(neuronSize)\n",
    "urn.set_neuron_colors(neuronColors)"
   ]
  },
  {
   "cell_type": "code",
   "execution_count": 97,
   "id": "030c8dcd",
   "metadata": {},
   "outputs": [
    {
     "name": "stdout",
     "output_type": "stream",
     "text": [
      "(URN) disconnected from server\n",
      "(URN) connected to server\n",
      "Login sent with ID: Dan\n"
     ]
    }
   ],
   "source": [
    "urn.set_camera_rotation(45,0,135)\n",
    "urn.set_camera_target([4600,3000,4000])"
   ]
  },
  {
   "cell_type": "code",
   "execution_count": 89,
   "id": "6d95d92d",
   "metadata": {},
   "outputs": [],
   "source": [
    "urn.set_camera_rotation(0,0,0)"
   ]
  },
  {
   "cell_type": "code",
   "execution_count": 90,
   "id": "b497468f",
   "metadata": {},
   "outputs": [],
   "source": [
    "urn.set_camera_rotation(90,-90,0)"
   ]
  },
  {
   "cell_type": "code",
   "execution_count": 91,
   "id": "dfe87403",
   "metadata": {},
   "outputs": [],
   "source": [
    "urn.set_camera_rotation(90,180,0)"
   ]
  },
  {
   "cell_type": "code",
   "execution_count": null,
   "id": "bac94406-91f0-46ab-9817-724f4ba98b5b",
   "metadata": {},
   "outputs": [],
   "source": []
  }
 ],
 "metadata": {
  "kernelspec": {
   "display_name": "Python 3 (ipykernel)",
   "language": "python",
   "name": "python3"
  },
  "language_info": {
   "codemirror_mode": {
    "name": "ipython",
    "version": 3
   },
   "file_extension": ".py",
   "mimetype": "text/x-python",
   "name": "python",
   "nbconvert_exporter": "python",
   "pygments_lexer": "ipython3",
   "version": "3.9.0"
  }
 },
 "nbformat": 4,
 "nbformat_minor": 5
}
