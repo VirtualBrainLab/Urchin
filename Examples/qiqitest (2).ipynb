{
 "cells": [
  {
   "cell_type": "code",
   "execution_count": 1,
   "id": "45959b22",
   "metadata": {},
   "outputs": [],
   "source": [
    "import sys\n",
    "import os\n",
    "import unityneuro.render as urn\n",
    "import pandas as pd\n",
    "import time\n",
    "\n",
    "CHANNEL_COVERAGE_SCALE = 0.100 # in um"
   ]
  },
  {
   "cell_type": "code",
   "execution_count": 2,
   "id": "68c1b7e9",
   "metadata": {},
   "outputs": [
    {
     "name": "stdout",
     "output_type": "stream",
     "text": [
      "(URN) connected to server\n",
      "Login sent with ID: qiqiliang\n"
     ]
    }
   ],
   "source": [
    "urn.setup()"
   ]
  },
  {
   "cell_type": "code",
   "execution_count": 3,
   "id": "ca54e165",
   "metadata": {},
   "outputs": [],
   "source": [
    "# Read csv\n",
    "df = pd.read_csv('./data/qiqi/bwm_all_traj.csv')"
   ]
  },
  {
   "cell_type": "code",
   "execution_count": 22,
   "id": "3f2d7070",
   "metadata": {},
   "outputs": [],
   "source": [
    "# Create dictionaries for probe position and angle\n",
    "\n",
    "urn.clear()\n",
    "urn.set_area_visibility({8:True})\n",
    "urn.set_area_material({8:'transparent-unlit'})\n",
    "urn.set_area_alpha({8:0.15})\n",
    "urn.set_area_color({8:\"#FFFFFF\"})\n",
    "urn.set_camera_rotation(45,0,0)\n",
    "time.sleep(3)\n",
    "\n",
    "colorMap = {\n",
    "    #0: \"#a6cee3\",\n",
    "    1: \"#1f78b4\",\n",
    "    2: \"#b2df8a\",\n",
    "    3: \"#33a02c\",\n",
    "    4: \"#fb9a99\",\n",
    "    5: \"#e31a1c\",\n",
    "    6: \"#fdbf6f\",\n",
    "    7: \"#ff7f00\",\n",
    "    8: \"#cab2d6\",\n",
    "    9: \"#ffff33\",\n",
    "    10:\"#984ea3\"\n",
    "}\n",
    "\n",
    "labNames = {\n",
    "    #0: = \"Angelaki Lab (New York University)\",\n",
    "    1: \"Angelaki Lab (New York University)\",\n",
    "    2: \"Churchland Lab\",\n",
    "    3: \"Churchland Lab (University of California, Los Angeles)\",\n",
    "    4: \"Carandini Lab (University College London)\",\n",
    "    5: \"Dan Lab (University of California, Berkeley)\",\n",
    "    6: \"Hofer Lab (University College London)\",\n",
    "    7: \"Mainen Lab (Champalimaud Research)\",\n",
    "    8: \"Mrsic-Flogel Lab (University College London)\",\n",
    "    9: \"Witten Lab (Princeton University)\",\n",
    "    10: \"Zador Lab (Cold Spring Harbor Laboratory)\"\n",
    "}\n",
    "\n",
    "\n",
    "df['rnk'] = df['lab'].rank(method='dense')\n",
    "df['probeColors'] = df.apply(lambda x: colorMap.get(x.rnk), axis=1)\n",
    "df['labNames'] = df.apply(lambda y: labNames.get(y.rnk), axis = 1)\n",
    "\n",
    "\n",
    "groupedDf = df.groupby('lab')\n",
    "\n",
    "\n",
    "for name, group in groupedDf:\n",
    "    probeName = []\n",
    "    probePos = {}\n",
    "    probeAngle = {}\n",
    "    probeColors = {}\n",
    "    labNames = {}\n",
    "    textColors = {}\n",
    "    \n",
    "    for i,row in group.iterrows():\n",
    "        probeName.append(str(i))\n",
    "        probePos[str(i)] = [row['ml_t_e'], row['ap_t_e'], row['dv_t_e']]\n",
    "        probeAngle[str(i)] = [row['phi_e'], row['theta_e'], 0]\n",
    "        probeColors[str(i)] = row['probeColors']\n",
    "        labNames[str(i)] = row['labNames']\n",
    "        textColors[str(i)] = row['probeColors']\n",
    "        \n",
    "    \n",
    "    urn.clear_probes()\n",
    "    urn.create_probes(probeName)\n",
    "    urn.create_text(probeName)\n",
    "    urn.set_probe_positions(probePos)\n",
    "    urn.set_probe_angles(probeAngle)\n",
    "    urn.set_probe_colors(probeColors)\n",
    "    urn.set_text(labNames)\n",
    "    urn.set_text_colors(textColors)\n",
    "    \n",
    "    \n",
    "    #### sleep for 10\n",
    "    time.sleep(3.5)\n",
    "    urn.clear_texts()\n",
    "    \n",
    "    \n",
    "    \n",
    "\n"
   ]
  },
  {
   "cell_type": "code",
   "execution_count": null,
   "id": "3f19e0bc",
   "metadata": {},
   "outputs": [],
   "source": []
  }
 ],
 "metadata": {
  "kernelspec": {
   "display_name": "Python 3 (ipykernel)",
   "language": "python",
   "name": "python3"
  },
  "language_info": {
   "codemirror_mode": {
    "name": "ipython",
    "version": 3
   },
   "file_extension": ".py",
   "mimetype": "text/x-python",
   "name": "python",
   "nbconvert_exporter": "python",
   "pygments_lexer": "ipython3",
   "version": "3.9.7"
  }
 },
 "nbformat": 4,
 "nbformat_minor": 5
}
