{
 "cells": [
  {
   "cell_type": "code",
   "execution_count": 45,
   "metadata": {},
   "outputs": [],
   "source": [
    "import oursin as urchin\n",
    "import json\n",
    "import ibllib.atlas as atlas\n",
    "import numpy as np"
   ]
  },
  {
   "cell_type": "code",
   "execution_count": 35,
   "metadata": {},
   "outputs": [],
   "source": [
    "CCFAtlas = atlas.AllenAtlas()"
   ]
  },
  {
   "cell_type": "code",
   "execution_count": 2,
   "metadata": {},
   "outputs": [
    {
     "name": "stdout",
     "output_type": "stream",
     "text": [
      "(URN) connected to server\n",
      "Login sent with ID: Dan\n"
     ]
    }
   ],
   "source": [
    "urchin.setup()"
   ]
  },
  {
   "cell_type": "code",
   "execution_count": 6,
   "metadata": {},
   "outputs": [],
   "source": [
    "\n",
    "with open('channel_locations.json') as f:\n",
    "  data = json.loads(f.read())"
   ]
  },
  {
   "cell_type": "code",
   "execution_count": 86,
   "metadata": {},
   "outputs": [],
   "source": [
    "channel_names = []\n",
    "channel_pos = {}\n",
    "channel_color = {}\n",
    "\n",
    "bregma = data['origin']['bregma']\n",
    "\n",
    "areas = []\n",
    "\n",
    "for key in data.keys():\n",
    "    if 'channel' in key:\n",
    "        dat = data[key]\n",
    "        ccf = CCFAtlas.xyz2ccf([dat['x']/1000000, dat['y']/1000000, dat['z']/1000000], mode='wrap')\n",
    "        probe_name = 'p' + str(len(channel_names))\n",
    "        \n",
    "        channel_names.append(probe_name)\n",
    "        channel_pos[probe_name] = list([int(ccf[0]), int(ccf[1]), int(ccf[2])])\n",
    "        channel_color[probe_name] = '#ba4545'\n",
    "\n",
    "        areas.append(dat['brain_region'])"
   ]
  },
  {
   "cell_type": "code",
   "execution_count": 82,
   "metadata": {},
   "outputs": [],
   "source": [
    "urchin.clear()"
   ]
  },
  {
   "cell_type": "code",
   "execution_count": 83,
   "metadata": {},
   "outputs": [],
   "source": [
    "urchin.ccf.set_visibility({'grey': True})\n",
    "urchin.ccf.set_material({'grey':'transparent-lit'})\n",
    "urchin.ccf.set_alpha({'grey':0.15})"
   ]
  },
  {
   "cell_type": "code",
   "execution_count": 84,
   "metadata": {},
   "outputs": [],
   "source": [
    "urchin.neurons.create(channel_names)\n",
    "urchin.neurons.set_position(channel_pos)\n",
    "urchin.neurons.set_color(channel_color)"
   ]
  },
  {
   "cell_type": "code",
   "execution_count": 90,
   "metadata": {},
   "outputs": [],
   "source": [
    "urchin.clear()"
   ]
  },
  {
   "cell_type": "code",
   "execution_count": 91,
   "metadata": {},
   "outputs": [],
   "source": [
    "urchin.ccf.set_visibility({'grey': True})\n",
    "urchin.ccf.set_material({'grey':'transparent-unlit'})\n",
    "urchin.ccf.set_alpha({'grey':0.1})"
   ]
  },
  {
   "cell_type": "code",
   "execution_count": 92,
   "metadata": {},
   "outputs": [],
   "source": [
    "areas = np.unique(areas)"
   ]
  },
  {
   "cell_type": "code",
   "execution_count": 96,
   "metadata": {},
   "outputs": [],
   "source": [
    "area_vis = {}\n",
    "area_mat = {}\n",
    "area_alpha = {}\n",
    "\n",
    "for area in areas:\n",
    "    an = area + '-lh'\n",
    "    area_vis[an] = True\n",
    "    area_mat[an] = 'transparent-lit'\n",
    "    area_alpha[an] = 0.5\n",
    "\n",
    "urchin.ccf.set_visibility(area_vis)\n",
    "urchin.ccf.set_material(area_mat)\n",
    "urchin.ccf.set_alpha(area_alpha)"
   ]
  },
  {
   "cell_type": "code",
   "execution_count": 94,
   "metadata": {},
   "outputs": [],
   "source": [
    "urchin.neurons.create(channel_names)\n",
    "urchin.neurons.set_position(channel_pos)\n",
    "urchin.neurons.set_color(channel_color)"
   ]
  },
  {
   "cell_type": "code",
   "execution_count": 101,
   "metadata": {},
   "outputs": [],
   "source": [
    "urchin.camera.set_rotation(45,0,45)"
   ]
  },
  {
   "cell_type": "code",
   "execution_count": null,
   "metadata": {},
   "outputs": [],
   "source": []
  }
 ],
 "metadata": {
  "kernelspec": {
   "display_name": "iblenv",
   "language": "python",
   "name": "python3"
  },
  "language_info": {
   "codemirror_mode": {
    "name": "ipython",
    "version": 3
   },
   "file_extension": ".py",
   "mimetype": "text/x-python",
   "name": "python",
   "nbconvert_exporter": "python",
   "pygments_lexer": "ipython3",
   "version": "3.9.0"
  },
  "orig_nbformat": 4,
  "vscode": {
   "interpreter": {
    "hash": "e571d860348ccccbb87c9afaea3b8de5dc8c1513265a6c0fcfe6ac69a4d3ce4b"
   }
  }
 },
 "nbformat": 4,
 "nbformat_minor": 2
}
