{
 "cells": [
  {
   "cell_type": "markdown",
   "id": "5e09e0a9-9728-4711-a244-5ec72f3f8f8d",
   "metadata": {},
   "source": [
    "# Brain Wide Map Coverage Example\n",
    "In this example we will compute the coverage of the current Brain Wide Map dataset and then display it as a 3D volume. We'll also position the camera so that you can animate the scene and record the brain rotating."
   ]
  },
  {
   "cell_type": "code",
   "execution_count": 1,
   "id": "d216df9b-18e7-4a1a-b02d-456cf1cadf92",
   "metadata": {},
   "outputs": [],
   "source": [
    "import nrrd\n",
    "import numpy as np\n",
    "import matplotlib.pyplot as plt\n",
    "import sys\n",
    "import unityneuro.render as urn"
   ]
  },
  {
   "cell_type": "markdown",
   "id": "856a8fd3-db9e-4feb-af17-40cd7add1b2c",
   "metadata": {
    "tags": []
   },
   "source": [
    "## Set up the Unity Renderer for Neuroscience and open the renderer webpage"
   ]
  },
  {
   "cell_type": "code",
   "execution_count": 35,
   "id": "730e7128-02c0-42b1-934b-e36cdb502873",
   "metadata": {},
   "outputs": [
    {
     "name": "stdout",
     "output_type": "stream",
     "text": [
      "(URN) disconnected from server\n"
     ]
    }
   ],
   "source": [
    "urn.close()"
   ]
  },
  {
   "cell_type": "code",
   "execution_count": 2,
   "id": "bde53df2-6e85-416a-b163-c4c703b4c164",
   "metadata": {},
   "outputs": [
    {
     "name": "stdout",
     "output_type": "stream",
     "text": [
      "(URN) connected to server\n",
      "Login sent with ID: Dan\n"
     ]
    }
   ],
   "source": [
    "urn.setup()"
   ]
  },
  {
   "cell_type": "markdown",
   "id": "306de929-9459-4315-bc36-e404659246a4",
   "metadata": {},
   "source": [
    "## Build the coverage map"
   ]
  },
  {
   "cell_type": "code",
   "execution_count": 3,
   "id": "3e24d684-d973-4e35-803d-4d33619fb972",
   "metadata": {},
   "outputs": [
    {
     "name": "stdout",
     "output_type": "stream",
     "text": [
      "Downloading: C:\\Users\\Dan\\Downloads\\ONE\\alyx.internationalbrainlab.org\\tmp_prnjjn7\\cache.zip Bytes: 79492024\n"
     ]
    },
    {
     "name": "stderr",
     "output_type": "stream",
     "text": [
      "100%|████████████████████████████████████████████████████| 75.80950164794922/75.80950164794922 [00:06<00:00, 11.41it/s]\n"
     ]
    },
    {
     "name": "stdout",
     "output_type": "stream",
     "text": [
      "22.59950828552246\n",
      "12.87903118133545\n",
      "8.794328927993774\n",
      "21.091034412384033\n",
      "0.020504236221313477\n",
      "0.028515100479125977\n",
      "0.019003868103027344\n",
      "0.06009650230407715\n",
      "0.0\n",
      "0.036297640653357534\n",
      "0.07259528130671507\n",
      "0.1088929219600726\n",
      "0.14519056261343014\n",
      "0.18148820326678766\n",
      "0.2177858439201452\n",
      "0.2540834845735027\n",
      "0.29038112522686027\n",
      "0.32667876588021777\n",
      "0.3629764065335753\n",
      "0.3992740471869328\n",
      "0.4355716878402904\n",
      "0.47186932849364793\n",
      "0.5081669691470054\n",
      "0.5444646098003629\n",
      "0.5807622504537205\n",
      "0.617059891107078\n",
      "0.6533575317604355\n",
      "0.6896551724137931\n",
      "0.7259528130671506\n",
      "0.7622504537205081\n",
      "0.7985480943738656\n",
      "0.8348457350272233\n",
      "0.8711433756805808\n",
      "0.9074410163339383\n",
      "0.9437386569872959\n",
      "0.9800362976406534\n"
     ]
    }
   ],
   "source": [
    "from needles2.probe_model import ProbeModel\n",
    "\n",
    "# we'll use the 25um atlas\n",
    "res = 25\n",
    "pr = ProbeModel(res=res)\n",
    "pr.initialise()\n",
    "pr.compute_best_for_provenance(provenance='Histology track')\n",
    "# we'll compute coverage assuming each probe covers a 100um window?\n",
    "coverage = pr.report_coverage(provenance='Best', dist=100)\n",
    "# by default this comes out in ap/ml/dv, swap to ap/dv/lr\n",
    "coverage = coverage.swapaxes(1,2)"
   ]
  },
  {
   "cell_type": "markdown",
   "id": "69c70a53-c994-4bb0-97c4-00d837211df9",
   "metadata": {},
   "source": [
    "### Convenience functions to save/load the volume if you want to save time"
   ]
  },
  {
   "cell_type": "code",
   "execution_count": 38,
   "id": "3448f125-8c84-4074-97e5-49edeef9125b",
   "metadata": {},
   "outputs": [],
   "source": [
    "# np.save('./data/gaelle/coverage.npy',coverage)"
   ]
  },
  {
   "cell_type": "code",
   "execution_count": null,
   "id": "2f572392-c06d-4801-bb83-5f60e9d0825f",
   "metadata": {},
   "outputs": [],
   "source": [
    "#coverage = np.load('./data/gaelle/coverage.npy')"
   ]
  },
  {
   "cell_type": "markdown",
   "id": "69b82484-b1da-4969-ad04-1f74c66f363a",
   "metadata": {},
   "source": [
    "## Plot a test slice to make sure the coverage computed properly"
   ]
  },
  {
   "cell_type": "code",
   "execution_count": 4,
   "id": "48e23edf-2f27-4f92-8486-64c20835897e",
   "metadata": {
    "tags": []
   },
   "outputs": [
    {
     "data": {
      "text/plain": [
       "<matplotlib.image.AxesImage at 0x1f90b3b6580>"
      ]
     },
     "execution_count": 4,
     "metadata": {},
     "output_type": "execute_result"
    },
    {
     "data": {
      "image/png": "[encoded data removed]",
      "text/plain": [
       "<Figure size 432x288 with 1 Axes>"
      ]
     },
     "metadata": {
      "needs_background": "light"
     },
     "output_type": "display_data"
    }
   ],
   "source": [
    "plt.imshow(coverage[240,:,:])"
   ]
  },
  {
   "cell_type": "markdown",
   "id": "06639a0f-4fcf-4a45-8434-6bacd9250d54",
   "metadata": {},
   "source": [
    "## Send to URN for display (can take a minute or two)"
   ]
  },
  {
   "cell_type": "code",
   "execution_count": 5,
   "id": "56fae9b4-9f7c-484c-a9b8-38d8413ec83c",
   "metadata": {},
   "outputs": [],
   "source": [
    "urn.clear()\n",
    "urn.create_volume(\"coverage\")\n",
    "urn.set_volume_colormap(\"coverage\", [\"#00000080\", \"#FFFF00FF\", \"#00FF00FF\"])\n",
    "urn.set_volume_data(\"coverage\", coverage)\n",
    "urn.set_volume_visibility(\"coverage\",True)"
   ]
  },
  {
   "cell_type": "code",
   "execution_count": 7,
   "id": "d3eb48e0-8c03-4192-8621-cec740a5f9ae",
   "metadata": {},
   "outputs": [],
   "source": [
    "# set the camera angle for making a rotation video\n",
    "urn.set_camera_rotation(45,0,0)"
   ]
  },
  {
   "cell_type": "code",
   "execution_count": null,
   "id": "1d2df207-e090-48f3-8ad5-5f45086de4be",
   "metadata": {},
   "outputs": [],
   "source": []
  }
 ],
 "metadata": {
  "kernelspec": {
   "display_name": "Python 3 (ipykernel)",
   "language": "python",
   "name": "python3"
  },
  "language_info": {
   "codemirror_mode": {
    "name": "ipython",
    "version": 3
   },
   "file_extension": ".py",
   "mimetype": "text/x-python",
   "name": "python",
   "nbconvert_exporter": "python",
   "pygments_lexer": "ipython3",
   "version": "3.9.0"
  }
 },
 "nbformat": 4,
 "nbformat_minor": 5
}
