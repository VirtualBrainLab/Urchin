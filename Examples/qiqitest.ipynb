{
 "cells": [
  {
   "cell_type": "code",
   "execution_count": 1,
   "id": "45959b22",
   "metadata": {},
   "outputs": [],
   "source": [
    "import sys\n",
    "import os\n",
    "import unityneuro.render as urn\n",
    "import pandas as pd\n",
    "import time\n",
    "\n",
    "CHANNEL_COVERAGE_SCALE = 0.100 # in um"
   ]
  },
  {
   "cell_type": "code",
   "execution_count": 7,
   "id": "68c1b7e9",
   "metadata": {},
   "outputs": [
    {
     "ename": "ConnectionError",
     "evalue": "Already connected",
     "output_type": "error",
     "traceback": [
      "\u001b[0;31m---------------------------------------------------------------------------\u001b[0m",
      "\u001b[0;31mConnectionError\u001b[0m                           Traceback (most recent call last)",
      "\u001b[0;32m/var/folders/7r/31d9fld10kl7r5ghw2r4krnm0000gn/T/ipykernel_17494/3506862328.py\u001b[0m in \u001b[0;36m<module>\u001b[0;34m\u001b[0m\n\u001b[0;32m----> 1\u001b[0;31m \u001b[0murn\u001b[0m\u001b[0;34m.\u001b[0m\u001b[0msetup\u001b[0m\u001b[0;34m(\u001b[0m\u001b[0;34m)\u001b[0m\u001b[0;34m\u001b[0m\u001b[0;34m\u001b[0m\u001b[0m\n\u001b[0m",
      "\u001b[0;32m~/opt/anaconda3/lib/python3.9/site-packages/unityneuro/render.py\u001b[0m in \u001b[0;36msetup\u001b[0;34m(verbose, localhost, standalone)\u001b[0m\n\u001b[1;32m     21\u001b[0m                 \u001b[0msio\u001b[0m\u001b[0;34m.\u001b[0m\u001b[0mconnect\u001b[0m\u001b[0;34m(\u001b[0m\u001b[0;34m'http://localhost:5000'\u001b[0m\u001b[0;34m)\u001b[0m\u001b[0;34m\u001b[0m\u001b[0;34m\u001b[0m\u001b[0m\n\u001b[1;32m     22\u001b[0m         \u001b[0;32melse\u001b[0m\u001b[0;34m:\u001b[0m\u001b[0;34m\u001b[0m\u001b[0;34m\u001b[0m\u001b[0m\n\u001b[0;32m---> 23\u001b[0;31m                 \u001b[0msio\u001b[0m\u001b[0;34m.\u001b[0m\u001b[0mconnect\u001b[0m\u001b[0;34m(\u001b[0m\u001b[0;34m'https://um-commserver.herokuapp.com/'\u001b[0m\u001b[0;34m)\u001b[0m\u001b[0;34m\u001b[0m\u001b[0;34m\u001b[0m\u001b[0m\n\u001b[0m\u001b[1;32m     24\u001b[0m \u001b[0;34m\u001b[0m\u001b[0m\n\u001b[1;32m     25\u001b[0m         \u001b[0;32mif\u001b[0m \u001b[0;32mnot\u001b[0m \u001b[0mstandalone\u001b[0m\u001b[0;34m:\u001b[0m\u001b[0;34m\u001b[0m\u001b[0;34m\u001b[0m\u001b[0m\n",
      "\u001b[0;32m~/opt/anaconda3/lib/python3.9/site-packages/socketio/client.py\u001b[0m in \u001b[0;36mconnect\u001b[0;34m(self, url, headers, auth, transports, namespaces, socketio_path, wait, wait_timeout)\u001b[0m\n\u001b[1;32m    304\u001b[0m         \"\"\"\n\u001b[1;32m    305\u001b[0m         \u001b[0;32mif\u001b[0m \u001b[0mself\u001b[0m\u001b[0;34m.\u001b[0m\u001b[0mconnected\u001b[0m\u001b[0;34m:\u001b[0m\u001b[0;34m\u001b[0m\u001b[0;34m\u001b[0m\u001b[0m\n\u001b[0;32m--> 306\u001b[0;31m             \u001b[0;32mraise\u001b[0m \u001b[0mexceptions\u001b[0m\u001b[0;34m.\u001b[0m\u001b[0mConnectionError\u001b[0m\u001b[0;34m(\u001b[0m\u001b[0;34m'Already connected'\u001b[0m\u001b[0;34m)\u001b[0m\u001b[0;34m\u001b[0m\u001b[0;34m\u001b[0m\u001b[0m\n\u001b[0m\u001b[1;32m    307\u001b[0m \u001b[0;34m\u001b[0m\u001b[0m\n\u001b[1;32m    308\u001b[0m         \u001b[0mself\u001b[0m\u001b[0;34m.\u001b[0m\u001b[0mconnection_url\u001b[0m \u001b[0;34m=\u001b[0m \u001b[0murl\u001b[0m\u001b[0;34m\u001b[0m\u001b[0;34m\u001b[0m\u001b[0m\n",
      "\u001b[0;31mConnectionError\u001b[0m: Already connected"
     ]
    }
   ],
   "source": [
    "urn.setup()"
   ]
  },
  {
   "cell_type": "code",
   "execution_count": null,
   "id": "ca54e165",
   "metadata": {},
   "outputs": [],
   "source": [
    "# Read csv\n",
    "df = pd.read_csv('./data/qiqi/bwm_all_traj.csv')"
   ]
  },
  {
   "cell_type": "code",
   "execution_count": 25,
   "id": "3f2d7070",
   "metadata": {},
   "outputs": [],
   "source": [
    "# Create dictionaries for probe position and angle\n",
    "\n",
    "urn.clear()\n",
    "urn.set_area_visibility({8:True})\n",
    "urn.set_area_material({8:'transparent-lit'})\n",
    "urn.set_area_alpha({8:0.15})\n",
    "urn.set_area_color({8:\"#FFFFFF\"})\n",
    "urn.set_camera_rotation(45,0,0)\n",
    "time.sleep(5)\n",
    "\n",
    "colorMap = {\n",
    "    \n",
    "    1: \"#8dd3c7\",\n",
    "    2: \"#ffffb3\",\n",
    "    3: \"#bebada\",\n",
    "    4: \"#fb8072\",\n",
    "    5: \"#80b1d3\",\n",
    "    6: \"#fdb462\",\n",
    "    7: \"#b3de69\",\n",
    "    8: \"#fccde5\",\n",
    "    9: \"#d9d9d9\",\n",
    "    10:\"#bc80bd\"\n",
    "}\n",
    "\n",
    "\n",
    "labNames = {\n",
    "    \n",
    "    1: \"Angelaki Lab (New York University)\",\n",
    "    2: \"Churchland Lab\",\n",
    "    3: \"Churchland Lab (University of California, Los Angeles)\",\n",
    "    4: \"Carandini Lab (University College London)\",\n",
    "    5: \"Dan Lab (University of California, Berkeley)\",\n",
    "    6: \"Hofer Lab (University College London)\",\n",
    "    7: \"Mainen Lab (Champalimaud Research)\",\n",
    "    8: \"Mrsic-Flogel Lab (University College London)\",\n",
    "    9: \"Witten Lab (Princeton University)\",\n",
    "    10: \"Zador Lab (Cold Spring Harbor Laboratory)\"\n",
    "}\n",
    "\n",
    "\n",
    "df['rnk'] = df['lab'].rank(method='dense')\n",
    "df['probeColors'] = df.apply(lambda x: colorMap.get(x.rnk), axis=1)\n",
    "df['labNames'] = df.apply(lambda y: labNames.get(y.rnk), axis = 1)\n",
    "\n",
    "\n",
    "groupedDf = df.groupby('lab')\n",
    "\n",
    "\n",
    "for name, group in groupedDf:\n",
    "    probeName = []\n",
    "    probePos = {}\n",
    "    probeAngle = {}\n",
    "    probeColors = {}\n",
    "    labNames = {}\n",
    "    textColors = {}\n",
    "    textPositions = {}\n",
    "\n",
    "    \n",
    "    for i,row in group.iterrows():\n",
    "        probeName.append(str(i))\n",
    "        probePos[str(i)] = [row['ml_t_e'], row['ap_t_e'], row['dv_t_e']]\n",
    "        probeAngle[str(i)] = [row['phi_e'], row['theta_e'], 0]\n",
    "        probeColors[str(i)] = row['probeColors']\n",
    "        labNames[str(i)] = row['labNames']\n",
    "        textColors[str(i)] = row['probeColors']\n",
    "        textPositions[str(i)] = [-600, 600]\n",
    "   \n",
    "        \n",
    "    urn.create_probes(probeName)\n",
    "    urn.create_text(probeName)\n",
    "    \n",
    "    urn.set_probe_positions(probePos)\n",
    "    urn.set_probe_angles(probeAngle)\n",
    "    urn.set_probe_colors(probeColors)\n",
    "    urn.set_text(labNames)\n",
    "    urn.set_text_positions(textPositions)\n",
    "    urn.set_text_colors(textColors)\n",
    "    \n",
    "    \n",
    "    \n",
    "    \n",
    "    #### sleep\n",
    "    time.sleep(3)\n",
    "    urn.clear_probes()\n",
    "    urn.clear_texts()\n",
    "    \n",
    "    \n",
    "    \n",
    "    \n",
    "\n"
   ]
  },
  {
   "cell_type": "code",
   "execution_count": null,
   "id": "61915a80",
   "metadata": {},
   "outputs": [],
   "source": []
  }
 ],
 "metadata": {
  "kernelspec": {
   "display_name": "Python 3 (ipykernel)",
   "language": "python",
   "name": "python3"
  },
  "language_info": {
   "codemirror_mode": {
    "name": "ipython",
    "version": 3
   },
   "file_extension": ".py",
   "mimetype": "text/x-python",
   "name": "python",
   "nbconvert_exporter": "python",
   "pygments_lexer": "ipython3",
   "version": "3.9.7"
  }
 },
 "nbformat": 4,
 "nbformat_minor": 5
}
