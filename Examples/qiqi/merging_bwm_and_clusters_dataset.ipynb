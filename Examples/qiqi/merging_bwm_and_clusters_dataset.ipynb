{
 "cells": [
  {
   "cell_type": "code",
   "execution_count": 1,
   "metadata": {},
   "outputs": [],
   "source": [
    "import pandas as pd\n",
    "import sys\n",
    "import os\n",
    "import unityneuro.render as urn\n",
    "import time\n",
    "import numpy as np"
   ]
  },
  {
   "cell_type": "code",
   "execution_count": 2,
   "metadata": {},
   "outputs": [
    {
     "data": {
      "text/plain": [
       "'c:\\\\proj\\\\UnityNeuroscience\\\\Examples\\\\qiqi'"
      ]
     },
     "execution_count": 2,
     "metadata": {},
     "output_type": "execute_result"
    }
   ],
   "source": [
    "os.getcwd()"
   ]
  },
  {
   "cell_type": "code",
   "execution_count": 3,
   "metadata": {},
   "outputs": [],
   "source": [
    "bwm_df = pd.read_csv('bwm_all_traj.csv')\n",
    "clusters_df = pd.read_parquet('clusters.pqt 2')"
   ]
  },
  {
   "cell_type": "code",
   "execution_count": 4,
   "metadata": {},
   "outputs": [],
   "source": [
    "df = pd.merge(bwm_df,clusters_df, on = 'pid', how = 'inner')"
   ]
  },
  {
   "cell_type": "code",
   "execution_count": 7,
   "metadata": {},
   "outputs": [
    {
     "name": "stdout",
     "output_type": "stream",
     "text": [
      "(URN) connected to server\n",
      "Login sent with ID: Lab User\n"
     ]
    }
   ],
   "source": [
    "urn.setup(localhost=True, standalone = True)"
   ]
  },
  {
   "cell_type": "code",
   "execution_count": 21,
   "metadata": {},
   "outputs": [],
   "source": [
    "# Setting up the brain and creating colors for brain area\n",
    "\n",
    "urn.clear()\n",
    "urn.set_camera_rotation(45,0,0)\n",
    "\n",
    "# Load brain areas\n",
    "urn.set_area_visibility({22:True})\n",
    "urn.set_area_material({22:'transparent-unlit'})\n",
    "urn.set_area_alpha({22:0.15})\n",
    "\n",
    "urn.set_area_visibility({31:True})\n",
    "urn.set_area_material({31:'transparent-unlit'})\n",
    "urn.set_area_alpha({31:0.15})\n",
    "                   \n",
    "urn.set_area_visibility({44:True})\n",
    "urn.set_area_material({44:'transparent-unlit'})\n",
    "urn.set_area_alpha({44:0.15})\n",
    "                   \n",
    "urn.set_area_visibility({95:True})\n",
    "urn.set_area_material({95:'transparent-unlit'})\n",
    "urn.set_area_alpha({95:0.15})\n",
    "                   \n",
    "urn.set_area_visibility({184:True})\n",
    "urn.set_area_material({184:'transparent-unlit'})\n",
    "urn.set_area_alpha({184:0.15})\n",
    "                   \n",
    "urn.set_area_visibility({247:True})\n",
    "urn.set_area_material({247:'transparent-unlit'})\n",
    "urn.set_area_alpha({247:0.15})\n",
    "                   \n",
    "urn.set_area_visibility({254:True})\n",
    "urn.set_area_material({254:'transparent-unlit'})\n",
    "urn.set_area_alpha({254:0.15})\n",
    "                   \n",
    "urn.set_area_visibility({343:True})\n",
    "urn.set_area_material({343:'transparent-unlit'})\n",
    "urn.set_area_alpha({343:0.15})\n",
    "                   \n",
    "urn.set_area_visibility({453:True})\n",
    "urn.set_area_material({453:'transparent-unlit'})\n",
    "urn.set_area_alpha({453:0.15})\n",
    "                   \n",
    "urn.set_area_visibility({500:True})\n",
    "urn.set_area_material({500:'transparent-unlit'})\n",
    "urn.set_area_alpha({500:0.15})\n",
    "\n",
    "                   \n",
    "urn.set_area_visibility({512:True})\n",
    "urn.set_area_material({512:'transparent-unlit'})\n",
    "urn.set_area_alpha({512:0.15})\n",
    "                   \n",
    "urn.set_area_visibility({541:True})\n",
    "urn.set_area_material({541:'transparent-unlit'})\n",
    "urn.set_area_alpha({541:0.15})\n",
    "                   \n",
    "urn.set_area_visibility({623:True})\n",
    "urn.set_area_material({623:'transparent-unlit'})\n",
    "urn.set_area_alpha({623:0.15})\n",
    "                   \n",
    "urn.set_area_visibility({669:True})\n",
    "urn.set_area_material({669:'transparent-unlit'})\n",
    "urn.set_area_alpha({669:0.15})\n",
    "                   \n",
    "urn.set_area_visibility({677:True})\n",
    "urn.set_area_material({677:'transparent-unlit'})\n",
    "urn.set_area_alpha({677:0.15})\n",
    "                   \n",
    "urn.set_area_visibility({698:True})\n",
    "urn.set_area_material({698:'transparent-unlit'})\n",
    "urn.set_area_alpha({698:0.15})\n",
    "                   \n",
    "urn.set_area_visibility({703:True})\n",
    "urn.set_area_material({703:'transparent-unlit'})\n",
    "urn.set_area_alpha({703:0.15})\n",
    "                   \n",
    "urn.set_area_visibility({714:True})\n",
    "urn.set_area_material({714:'transparent-unlit'})\n",
    "urn.set_area_alpha({714:0.15})\n",
    "                   \n",
    "urn.set_area_visibility({895:True})\n",
    "urn.set_area_material({895:'transparent-unlit'})\n",
    "urn.set_area_alpha({895:0.15})\n",
    "                   \n",
    "urn.set_area_visibility({922:True})\n",
    "urn.set_area_material({922:'transparent-unlit'})\n",
    "urn.set_area_alpha({922:0.15})\n",
    "\n",
    "urn.set_area_visibility({972:True})\n",
    "urn.set_area_material({972:'transparent-unlit'})\n",
    "urn.set_area_alpha({972:0.15})\n",
    "                   \n",
    "urn.set_area_visibility({1057:True})\n",
    "urn.set_area_material({1057:'transparent-unlit'})\n",
    "urn.set_area_alpha({1057:0.15})\n",
    "                   \n",
    "urn.set_area_visibility({1089:True})\n",
    "urn.set_area_material({1089:'transparent-unlit'})\n",
    "urn.set_area_alpha({1089:0.15})"
   ]
  },
  {
   "cell_type": "code",
   "execution_count": 20,
   "metadata": {},
   "outputs": [
    {
     "ename": "KeyboardInterrupt",
     "evalue": "",
     "output_type": "error",
     "traceback": [
      "\u001b[1;31m---------------------------------------------------------------------------\u001b[0m",
      "\u001b[1;31mKeyboardInterrupt\u001b[0m                         Traceback (most recent call last)",
      "Cell \u001b[1;32mIn [20], line 50\u001b[0m\n\u001b[0;32m     47\u001b[0m     neuronColors \u001b[38;5;241m=\u001b[39m {}\n\u001b[0;32m     49\u001b[0m \u001b[38;5;66;03m# Creating dictinaries for neuron postions, colors\u001b[39;00m\n\u001b[1;32m---> 50\u001b[0m     \u001b[38;5;28;01mfor\u001b[39;00m i,row \u001b[38;5;129;01min\u001b[39;00m group\u001b[38;5;241m.\u001b[39miterrows():\n\u001b[0;32m     51\u001b[0m         nName \u001b[38;5;241m=\u001b[39m \u001b[38;5;28mstr\u001b[39m(n)\n\u001b[0;32m     52\u001b[0m         neuronName\u001b[38;5;241m.\u001b[39mappend(nName)\n",
      "File \u001b[1;32mc:\\proj\\UnityNeuroscience\\urchin-vn\\lib\\site-packages\\pandas\\core\\frame.py:1410\u001b[0m, in \u001b[0;36mDataFrame.iterrows\u001b[1;34m(self)\u001b[0m\n\u001b[0;32m   1408\u001b[0m klass \u001b[39m=\u001b[39m \u001b[39mself\u001b[39m\u001b[39m.\u001b[39m_constructor_sliced\n\u001b[0;32m   1409\u001b[0m \u001b[39mfor\u001b[39;00m k, v \u001b[39min\u001b[39;00m \u001b[39mzip\u001b[39m(\u001b[39mself\u001b[39m\u001b[39m.\u001b[39mindex, \u001b[39mself\u001b[39m\u001b[39m.\u001b[39mvalues):\n\u001b[1;32m-> 1410\u001b[0m     s \u001b[39m=\u001b[39m klass(v, index\u001b[39m=\u001b[39;49mcolumns, name\u001b[39m=\u001b[39;49mk)\u001b[39m.\u001b[39m__finalize__(\u001b[39mself\u001b[39m)\n\u001b[0;32m   1411\u001b[0m     \u001b[39myield\u001b[39;00m k, s\n",
      "File \u001b[1;32mc:\\proj\\UnityNeuroscience\\urchin-vn\\lib\\site-packages\\pandas\\core\\series.py:475\u001b[0m, in \u001b[0;36mSeries.__init__\u001b[1;34m(self, data, index, dtype, name, copy, fastpath)\u001b[0m\n\u001b[0;32m    473\u001b[0m manager \u001b[39m=\u001b[39m get_option(\u001b[39m\"\u001b[39m\u001b[39mmode.data_manager\u001b[39m\u001b[39m\"\u001b[39m)\n\u001b[0;32m    474\u001b[0m \u001b[39mif\u001b[39;00m manager \u001b[39m==\u001b[39m \u001b[39m\"\u001b[39m\u001b[39mblock\u001b[39m\u001b[39m\"\u001b[39m:\n\u001b[1;32m--> 475\u001b[0m     data \u001b[39m=\u001b[39m SingleBlockManager\u001b[39m.\u001b[39;49mfrom_array(data, index)\n\u001b[0;32m    476\u001b[0m \u001b[39melif\u001b[39;00m manager \u001b[39m==\u001b[39m \u001b[39m\"\u001b[39m\u001b[39marray\u001b[39m\u001b[39m\"\u001b[39m:\n\u001b[0;32m    477\u001b[0m     data \u001b[39m=\u001b[39m SingleArrayManager\u001b[39m.\u001b[39mfrom_array(data, index)\n",
      "File \u001b[1;32mc:\\proj\\UnityNeuroscience\\urchin-vn\\lib\\site-packages\\pandas\\core\\internals\\managers.py:1913\u001b[0m, in \u001b[0;36mSingleBlockManager.from_array\u001b[1;34m(cls, array, index)\u001b[0m\n\u001b[0;32m   1908\u001b[0m \u001b[39m@classmethod\u001b[39m\n\u001b[0;32m   1909\u001b[0m \u001b[39mdef\u001b[39;00m \u001b[39mfrom_array\u001b[39m(\u001b[39mcls\u001b[39m, array: ArrayLike, index: Index) \u001b[39m-\u001b[39m\u001b[39m>\u001b[39m SingleBlockManager:\n\u001b[0;32m   1910\u001b[0m     \u001b[39m\"\"\"\u001b[39;00m\n\u001b[0;32m   1911\u001b[0m \u001b[39m    Constructor for if we have an array that is not yet a Block.\u001b[39;00m\n\u001b[0;32m   1912\u001b[0m \u001b[39m    \"\"\"\u001b[39;00m\n\u001b[1;32m-> 1913\u001b[0m     block \u001b[39m=\u001b[39m new_block(array, placement\u001b[39m=\u001b[39;49m\u001b[39mslice\u001b[39;49m(\u001b[39m0\u001b[39;49m, \u001b[39mlen\u001b[39;49m(index)), ndim\u001b[39m=\u001b[39;49m\u001b[39m1\u001b[39;49m)\n\u001b[0;32m   1914\u001b[0m     \u001b[39mreturn\u001b[39;00m \u001b[39mcls\u001b[39m(block, index)\n",
      "File \u001b[1;32mc:\\proj\\UnityNeuroscience\\urchin-vn\\lib\\site-packages\\pandas\\core\\internals\\blocks.py:2180\u001b[0m, in \u001b[0;36mnew_block\u001b[1;34m(values, placement, ndim)\u001b[0m\n\u001b[0;32m   2177\u001b[0m klass \u001b[39m=\u001b[39m get_block_type(values\u001b[39m.\u001b[39mdtype)\n\u001b[0;32m   2179\u001b[0m values \u001b[39m=\u001b[39m maybe_coerce_values(values)\n\u001b[1;32m-> 2180\u001b[0m \u001b[39mreturn\u001b[39;00m klass(values, ndim\u001b[39m=\u001b[39;49mndim, placement\u001b[39m=\u001b[39;49mplacement)\n",
      "\u001b[1;31mKeyboardInterrupt\u001b[0m: "
     ]
    }
   ],
   "source": [
    "# Create dictionaries of neuron colors and lab names\n",
    "colorMap = {\n",
    "    \n",
    "    1: \"#8dd3c7\",\n",
    "    2: \"#b7b74a\",\n",
    "    3: \"#bebada\",\n",
    "    4: \"#fb8072\",\n",
    "    5: \"#80b1d3\",\n",
    "    6: \"#fdb462\",\n",
    "    7: \"#b3de69\",\n",
    "    8: \"#fccde5\",\n",
    "    9: \"#d9d9d9\",\n",
    "    10:\"#bc80bd\"\n",
    "}\n",
    "\n",
    "labNames = {\n",
    "    \n",
    "    1: \"Angelaki Lab (New York University)\",\n",
    "    2: \"Churchland Lab\",\n",
    "    3: \"Churchland Lab (University of California, Los Angeles)\",\n",
    "    4: \"Carandini Lab (University College London)\",\n",
    "    5: \"Dan Lab (University of California, Berkeley)\",\n",
    "    6: \"Hofer Lab (University College London)\",\n",
    "    7: \"Mainen Lab (Champalimaud Research)\",\n",
    "    8: \"Mrsic-Flogel Lab (University College London)\",\n",
    "    9: \"Witten Lab (Princeton University)\",\n",
    "    10: \"Zador Lab (Cold Spring Harbor Laboratory)\"\n",
    "}\n",
    "\n",
    "# New columns in dictionary for neuron colors and lab names\n",
    "df['rnk'] = df['lab'].rank(method='dense')\n",
    "df['neuronColors'] = df.apply(lambda x: colorMap.get(x.rnk), axis=1)\n",
    "df['labNames'] = df.apply(lambda y: labNames.get(y.rnk), axis = 1)\n",
    "\n",
    "groupedDf = df.groupby('lab')\n",
    "\n",
    "urn.clear_neurons()\n",
    "n = 0\n",
    "\n",
    "for name, group in groupedDf:\n",
    "\n",
    "    groupID =  group.groupby('pid')\n",
    "\n",
    "    for j, id in groupID:\n",
    "        neuronName = []\n",
    "        neuronPos = {}\n",
    "        neuronColors = {}\n",
    "\n",
    "    # Creating dictinaries for neuron postions, colors\n",
    "        for i,row in group.iterrows():\n",
    "            nName = str(n)\n",
    "            neuronName.append(nName)\n",
    "            neuronPos[nName] = [np.round(row['ml']), np.round(row['ap']), np.round(row['dv'])]\n",
    "            neuronColors[nName] = row['neuronColors']\n",
    "            n = n + 1\n",
    "\n",
    "            \n",
    "\n",
    "        # Creating the neurons\n",
    "        urn.create_neurons(neuronName)\n",
    "        # Setting neuron positions, angles, and colors\n",
    "        urn.set_neuron_positions(neuronPos)\n",
    "        urn.set_neuron_colors(neuronColors)\n"
   ]
  }
 ],
 "metadata": {
  "kernelspec": {
   "display_name": "Python 3.10.7 ('urchin-vn': venv)",
   "language": "python",
   "name": "python3"
  },
  "language_info": {
   "codemirror_mode": {
    "name": "ipython",
    "version": 3
   },
   "file_extension": ".py",
   "mimetype": "text/x-python",
   "name": "python",
   "nbconvert_exporter": "python",
   "pygments_lexer": "ipython3",
   "version": "3.10.7"
  },
  "orig_nbformat": 4,
  "vscode": {
   "interpreter": {
    "hash": "b4e6e4179dba23552a85bf269e859aec6a9270d3860f0b29545014bd07e0110c"
   }
  }
 },
 "nbformat": 4,
 "nbformat_minor": 2
}
