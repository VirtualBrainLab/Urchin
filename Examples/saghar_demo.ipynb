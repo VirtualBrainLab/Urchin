{
 "cells": [
  {
   "attachments": {},
   "cell_type": "markdown",
   "metadata": {},
   "source": [
    "Basic Urchin Setup:"
   ]
  },
  {
   "cell_type": "code",
   "execution_count": null,
   "metadata": {},
   "outputs": [],
   "source": [
    "#If using urchin for the first time:\n",
    "pip install oursin"
   ]
  },
  {
   "cell_type": "code",
   "execution_count": 1,
   "metadata": {},
   "outputs": [
    {
     "name": "stdout",
     "output_type": "stream",
     "text": [
      "(URN) connected to server\n",
      "Login sent with ID: root\n"
     ]
    }
   ],
   "source": [
    "import oursin as urchin\n",
    "urchin.setup()\n",
    "import numpy as np\n",
    "import pandas as pd\n",
    "import math\n",
    "#path = 'INSERT PATH OF FILE HERE'\n",
    "path = '/Users/jasmineschoch/Documents/UW/VBL/Urchin/Examples/data/jasmine/'"
   ]
  },
  {
   "attachments": {},
   "cell_type": "markdown",
   "metadata": {},
   "source": [
    "Loading Brain Regions:"
   ]
  },
  {
   "cell_type": "code",
   "execution_count": 2,
   "metadata": {},
   "outputs": [],
   "source": [
    "#Generating overall brain image:\n",
    "regions = pd.read_csv(path + 'region_colors.csv')\n",
    "regions.head()\n",
    "areas = regions.loc[:,\"Areas\"]\n",
    "colors = regions.loc[:,\"Color\"]\n",
    "urchin.ccf.set_visibility({'grey':True})\n",
    "urchin.ccf.set_material({'grey':'transparent-unlit'})\n",
    "urchin.ccf.set_alpha({'grey':0.1})"
   ]
  },
  {
   "cell_type": "code",
   "execution_count": 87,
   "metadata": {},
   "outputs": [],
   "source": [
    "#To set just one region to be visible:\n",
    "urchin.ccf.set_visibility({'VISpm':True})"
   ]
  },
  {
   "cell_type": "code",
   "execution_count": 8,
   "metadata": {},
   "outputs": [],
   "source": [
    "urchin.clear()"
   ]
  },
  {
   "cell_type": "code",
   "execution_count": 9,
   "metadata": {},
   "outputs": [],
   "source": [
    "#Generating specific regions (from Nick's paper) RIGHT HEMISPHERE:\n",
    "#To pull apart regions, clear Urchin before running. (background must be blank)\n",
    "area_colors = {}\n",
    "area_vis = {}\n",
    "area_material = {}\n",
    "for i in range(len(areas)):\n",
    "  # area = areas[i] + \"-lh\"\n",
    "  # area_vis[area] = True\n",
    "  # area_material = 'opaque-unlit'\n",
    "  # area_colors[area] = (colors[i])\n",
    "  area = areas[i] + \"-rh\"\n",
    "  area_vis[area] = True\n",
    "  area_material = 'opaque-unlit'\n",
    "  area_colors[area] = (colors[i])\n",
    "urchin.ccf.set_visibility(area_vis)\n",
    "urchin.ccf.set_material(area_material) \n",
    "urchin.ccf.set_color(area_colors)\n"
   ]
  },
  {
   "cell_type": "code",
   "execution_count": 10,
   "metadata": {},
   "outputs": [],
   "source": [
    "#Generating specific regions (from Nick's paper) LEFT HEMISPHERE:\n",
    "#To pull apart regions, clear Urchin before running. (background must be blank)\n",
    "area_colors = {}\n",
    "area_vis = {}\n",
    "area_material = {}\n",
    "for i in range(len(areas)):\n",
    "  area = areas[i] + \"-lh\"\n",
    "  area_vis[area] = True\n",
    "  area_material = 'opaque-unlit'\n",
    "  area_colors[area] = (colors[i])\n",
    "#   area = areas[i] + \"-rh\"\n",
    "#   area_vis[area] = True\n",
    "#   area_material = 'opaque-unlit'\n",
    "#   area_colors[area] = (colors[i])\n",
    "urchin.ccf.set_visibility(area_vis)\n",
    "urchin.ccf.set_material(area_material) \n",
    "urchin.ccf.set_color(area_colors)"
   ]
  },
  {
   "attachments": {},
   "cell_type": "markdown",
   "metadata": {},
   "source": [
    "Loading probes:"
   ]
  },
  {
   "cell_type": "code",
   "execution_count": 15,
   "metadata": {},
   "outputs": [
    {
     "data": {
      "text/html": [
       "<div>\n",
       "<style scoped>\n",
       "    .dataframe tbody tr th:only-of-type {\n",
       "        vertical-align: middle;\n",
       "    }\n",
       "\n",
       "    .dataframe tbody tr th {\n",
       "        vertical-align: top;\n",
       "    }\n",
       "\n",
       "    .dataframe thead th {\n",
       "        text-align: right;\n",
       "    }\n",
       "</style>\n",
       "<table border=\"1\" class=\"dataframe\">\n",
       "  <thead>\n",
       "    <tr style=\"text-align: right;\">\n",
       "      <th></th>\n",
       "      <th>session</th>\n",
       "      <th>ml</th>\n",
       "      <th>ap</th>\n",
       "      <th>dv</th>\n",
       "      <th>phi</th>\n",
       "      <th>theta</th>\n",
       "      <th>color</th>\n",
       "    </tr>\n",
       "  </thead>\n",
       "  <tbody>\n",
       "    <tr>\n",
       "      <th>0</th>\n",
       "      <td>1</td>\n",
       "      <td>4990.354988</td>\n",
       "      <td>4463.941496</td>\n",
       "      <td>4907.275550</td>\n",
       "      <td>-97.040203</td>\n",
       "      <td>-8.599869</td>\n",
       "      <td>#EE204D</td>\n",
       "    </tr>\n",
       "    <tr>\n",
       "      <th>1</th>\n",
       "      <td>1</td>\n",
       "      <td>3170.782413</td>\n",
       "      <td>8732.329581</td>\n",
       "      <td>4900.724878</td>\n",
       "      <td>52.485452</td>\n",
       "      <td>-15.903551</td>\n",
       "      <td>#EE204D</td>\n",
       "    </tr>\n",
       "    <tr>\n",
       "      <th>2</th>\n",
       "      <td>2</td>\n",
       "      <td>2562.465091</td>\n",
       "      <td>7686.413000</td>\n",
       "      <td>4851.170969</td>\n",
       "      <td>54.053181</td>\n",
       "      <td>-17.513591</td>\n",
       "      <td>#EE204D</td>\n",
       "    </tr>\n",
       "    <tr>\n",
       "      <th>3</th>\n",
       "      <td>2</td>\n",
       "      <td>3707.683990</td>\n",
       "      <td>9400.993675</td>\n",
       "      <td>4086.404032</td>\n",
       "      <td>-111.000255</td>\n",
       "      <td>-8.227467</td>\n",
       "      <td>#EE204D</td>\n",
       "    </tr>\n",
       "    <tr>\n",
       "      <th>4</th>\n",
       "      <td>3</td>\n",
       "      <td>3312.941208</td>\n",
       "      <td>8478.681979</td>\n",
       "      <td>4061.106429</td>\n",
       "      <td>-117.548431</td>\n",
       "      <td>-14.063265</td>\n",
       "      <td>#EE204D</td>\n",
       "    </tr>\n",
       "  </tbody>\n",
       "</table>\n",
       "</div>"
      ],
      "text/plain": [
       "   session           ml           ap           dv         phi      theta  \\\n",
       "0        1  4990.354988  4463.941496  4907.275550  -97.040203  -8.599869   \n",
       "1        1  3170.782413  8732.329581  4900.724878   52.485452 -15.903551   \n",
       "2        2  2562.465091  7686.413000  4851.170969   54.053181 -17.513591   \n",
       "3        2  3707.683990  9400.993675  4086.404032 -111.000255  -8.227467   \n",
       "4        3  3312.941208  8478.681979  4061.106429 -117.548431 -14.063265   \n",
       "\n",
       "     color  \n",
       "0  #EE204D  \n",
       "1  #EE204D  \n",
       "2  #EE204D  \n",
       "3  #EE204D  \n",
       "4  #EE204D  "
      ]
     },
     "execution_count": 15,
     "metadata": {},
     "output_type": "execute_result"
    }
   ],
   "source": [
    "probe_total = pd.read_csv(path + 'calculated_probe_data.csv')\n",
    "probe_total.head()"
   ]
  },
  {
   "cell_type": "code",
   "execution_count": 23,
   "metadata": {},
   "outputs": [],
   "source": [
    "session_id = 3\n",
    "probe_data = pd.DataFrame([\"session\",\"ml\", \"ap\", \"dv\", \"phi\", \"theta\", \"color\"])\n",
    "probe_data= probe_total.loc[probe_total['session'] == session_id]"
   ]
  },
  {
   "cell_type": "code",
   "execution_count": 24,
   "metadata": {},
   "outputs": [
    {
     "data": {
      "text/html": [
       "<div>\n",
       "<style scoped>\n",
       "    .dataframe tbody tr th:only-of-type {\n",
       "        vertical-align: middle;\n",
       "    }\n",
       "\n",
       "    .dataframe tbody tr th {\n",
       "        vertical-align: top;\n",
       "    }\n",
       "\n",
       "    .dataframe thead th {\n",
       "        text-align: right;\n",
       "    }\n",
       "</style>\n",
       "<table border=\"1\" class=\"dataframe\">\n",
       "  <thead>\n",
       "    <tr style=\"text-align: right;\">\n",
       "      <th></th>\n",
       "      <th>session</th>\n",
       "      <th>ml</th>\n",
       "      <th>ap</th>\n",
       "      <th>dv</th>\n",
       "      <th>phi</th>\n",
       "      <th>theta</th>\n",
       "      <th>color</th>\n",
       "    </tr>\n",
       "  </thead>\n",
       "  <tbody>\n",
       "    <tr>\n",
       "      <th>4</th>\n",
       "      <td>3</td>\n",
       "      <td>3312.941208</td>\n",
       "      <td>8478.681979</td>\n",
       "      <td>4061.106429</td>\n",
       "      <td>-117.548431</td>\n",
       "      <td>-14.063265</td>\n",
       "      <td>#EE204D</td>\n",
       "    </tr>\n",
       "    <tr>\n",
       "      <th>5</th>\n",
       "      <td>3</td>\n",
       "      <td>3881.572355</td>\n",
       "      <td>8585.832820</td>\n",
       "      <td>4414.571842</td>\n",
       "      <td>54.663791</td>\n",
       "      <td>-20.274174</td>\n",
       "      <td>#EE204D</td>\n",
       "    </tr>\n",
       "  </tbody>\n",
       "</table>\n",
       "</div>"
      ],
      "text/plain": [
       "   session           ml           ap           dv         phi      theta  \\\n",
       "4        3  3312.941208  8478.681979  4061.106429 -117.548431 -14.063265   \n",
       "5        3  3881.572355  8585.832820  4414.571842   54.663791 -20.274174   \n",
       "\n",
       "     color  \n",
       "4  #EE204D  \n",
       "5  #EE204D  "
      ]
     },
     "execution_count": 24,
     "metadata": {},
     "output_type": "execute_result"
    }
   ],
   "source": [
    "probe_data.head()"
   ]
  },
  {
   "cell_type": "code",
   "execution_count": 25,
   "metadata": {},
   "outputs": [],
   "source": [
    "#Creating probes\n",
    "probes = []\n",
    "for i in range(len(probe_data)):\n",
    "    probes.append(str(probe_data.index[i]))\n",
    "urchin.probes.create(probes)\n",
    "#Setting probe colors\n",
    "probe_colors = {}\n",
    "for probe in probes:\n",
    "  probe_colors[probe] = probe_data.loc[int(probe),\"color\"]\n",
    "urchin.probes.set_color(probe_colors)\n",
    "#Setting probe positions\n",
    "probe_positions = {}\n",
    "for probe in probes:\n",
    "    probe_positions[probe] = [probe_data.loc[int(probe), \"ml\"], probe_data.loc[int(probe), \"ap\"], probe_data.loc[int(probe), \"dv\"]]\n",
    "urchin.probes.set_position(probe_positions)\n",
    "#Setting probe angles\n",
    "probe_angles = {}\n",
    "for probe in probes:\n",
    "    probe_angles[probe] = [probe_data.loc[int(probe), \"phi\"], probe_data.loc[int(probe), \"theta\"], 0]\n",
    "urchin.probes.set_angle(probe_angles)\n"
   ]
  },
  {
   "cell_type": "code",
   "execution_count": null,
   "metadata": {},
   "outputs": [],
   "source": []
  }
 ],
 "metadata": {
  "kernelspec": {
   "display_name": "urchin-venv",
   "language": "python",
   "name": "python3"
  },
  "language_info": {
   "codemirror_mode": {
    "name": "ipython",
    "version": 3
   },
   "file_extension": ".py",
   "mimetype": "text/x-python",
   "name": "python",
   "nbconvert_exporter": "python",
   "pygments_lexer": "ipython3",
   "version": "3.9.7"
  },
  "orig_nbformat": 4
 },
 "nbformat": 4,
 "nbformat_minor": 2
}
