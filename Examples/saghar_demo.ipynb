{
 "cells": [
  {
   "attachments": {},
   "cell_type": "markdown",
   "metadata": {},
   "source": [
    "Basic Urchin Setup:"
   ]
  },
  {
   "cell_type": "code",
   "execution_count": null,
   "metadata": {},
   "outputs": [],
   "source": [
    "#If using urchin for the first time:\n",
    "pip install oursin"
   ]
  },
  {
   "cell_type": "code",
   "execution_count": 1,
   "metadata": {},
   "outputs": [
    {
     "name": "stdout",
     "output_type": "stream",
     "text": [
      "(URN) connected to server\n",
      "Login sent with ID: root\n"
     ]
    }
   ],
   "source": [
    "import oursin as urchin\n",
    "urchin.setup()\n",
    "import numpy as np\n",
    "import pandas as pd\n",
    "import math\n",
    "#path = 'INSERT PATH OF FILE HERE'\n",
    "path = '/Users/jasmineschoch/Documents/UW/VBL/Urchin/Examples/data/jasmine/'"
   ]
  },
  {
   "cell_type": "code",
   "execution_count": 8,
   "metadata": {},
   "outputs": [],
   "source": [
    "urchin.clear()"
   ]
  },
  {
   "attachments": {},
   "cell_type": "markdown",
   "metadata": {},
   "source": [
    "Loading Brain Regions:"
   ]
  },
  {
   "cell_type": "code",
   "execution_count": 2,
   "metadata": {},
   "outputs": [],
   "source": [
    "#Generating overall brain image:\n",
    "regions = pd.read_csv(path + 'region_colors.csv')\n",
    "regions.head()\n",
    "areas = regions.loc[:,\"Areas\"]\n",
    "colors = regions.loc[:,\"Color\"]\n",
    "urchin.ccf.set_visibility({'grey':True})\n",
    "urchin.ccf.set_material({'grey':'transparent-unlit'})\n",
    "urchin.ccf.set_alpha({'grey':0.1})"
   ]
  },
  {
   "cell_type": "code",
   "execution_count": 87,
   "metadata": {},
   "outputs": [],
   "source": [
    "#To set just one region to be visible:\n",
    "urchin.ccf.set_visibility({'VISpm':True})"
   ]
  },
  {
   "cell_type": "code",
   "execution_count": 9,
   "metadata": {},
   "outputs": [],
   "source": [
    "#Generating specific regions (from Nick's paper)\n",
    "#To pull apart regions, clear Urchin before running. (background must be blank)\n",
    "area_colors = {}\n",
    "area_vis = {}\n",
    "area_material = {}\n",
    "for i in range(len(areas)):\n",
    "  area = areas[i] + \"-lh\"\n",
    "  area_vis[area] = True\n",
    "  area_material = 'opaque-unlit'\n",
    "  area_colors[area] = (colors[i])\n",
    "  area = areas[i] + \"-rh\"\n",
    "  area_vis[area] = True\n",
    "  area_material = 'opaque-unlit'\n",
    "  area_colors[area] = (colors[i])\n",
    "urchin.ccf.set_visibility(area_vis)\n",
    "urchin.ccf.set_material(area_material) \n",
    "urchin.ccf.set_color(area_colors)"
   ]
  },
  {
   "cell_type": "code",
   "execution_count": 76,
   "metadata": {},
   "outputs": [],
   "source": [
    "urchin.camera.set_rotation(45,0,135)"
   ]
  },
  {
   "attachments": {},
   "cell_type": "markdown",
   "metadata": {},
   "source": [
    "Loading probes:"
   ]
  },
  {
   "cell_type": "code",
   "execution_count": 83,
   "metadata": {},
   "outputs": [
    {
     "data": {
      "text/html": [
       "<div>\n",
       "<style scoped>\n",
       "    .dataframe tbody tr th:only-of-type {\n",
       "        vertical-align: middle;\n",
       "    }\n",
       "\n",
       "    .dataframe tbody tr th {\n",
       "        vertical-align: top;\n",
       "    }\n",
       "\n",
       "    .dataframe thead th {\n",
       "        text-align: right;\n",
       "    }\n",
       "</style>\n",
       "<table border=\"1\" class=\"dataframe\">\n",
       "  <thead>\n",
       "    <tr style=\"text-align: right;\">\n",
       "      <th></th>\n",
       "      <th>entry_point_rl</th>\n",
       "      <th>entry_point_ap</th>\n",
       "      <th>vertical_angle</th>\n",
       "      <th>horizontal_angle</th>\n",
       "      <th>axial_angle</th>\n",
       "      <th>distance_advanced</th>\n",
       "      <th>color</th>\n",
       "      <th>session</th>\n",
       "    </tr>\n",
       "  </thead>\n",
       "  <tbody>\n",
       "    <tr>\n",
       "      <th>0</th>\n",
       "      <td>-640</td>\n",
       "      <td>1500</td>\n",
       "      <td>81.400131</td>\n",
       "      <td>172.959797</td>\n",
       "      <td>0</td>\n",
       "      <td>3800</td>\n",
       "      <td>red</td>\n",
       "      <td>1</td>\n",
       "    </tr>\n",
       "    <tr>\n",
       "      <th>1</th>\n",
       "      <td>-3180</td>\n",
       "      <td>-4180</td>\n",
       "      <td>74.096449</td>\n",
       "      <td>322.485452</td>\n",
       "      <td>0</td>\n",
       "      <td>3900</td>\n",
       "      <td>red</td>\n",
       "      <td>1</td>\n",
       "    </tr>\n",
       "    <tr>\n",
       "      <th>2</th>\n",
       "      <td>-3800</td>\n",
       "      <td>-3200</td>\n",
       "      <td>72.486409</td>\n",
       "      <td>324.053181</td>\n",
       "      <td>0</td>\n",
       "      <td>3750</td>\n",
       "      <td>red</td>\n",
       "      <td>2</td>\n",
       "    </tr>\n",
       "    <tr>\n",
       "      <th>3</th>\n",
       "      <td>-1800</td>\n",
       "      <td>-3500</td>\n",
       "      <td>81.772533</td>\n",
       "      <td>158.999745</td>\n",
       "      <td>0</td>\n",
       "      <td>3750</td>\n",
       "      <td>red</td>\n",
       "      <td>2</td>\n",
       "    </tr>\n",
       "    <tr>\n",
       "      <th>4</th>\n",
       "      <td>-1960</td>\n",
       "      <td>-2260</td>\n",
       "      <td>75.936735</td>\n",
       "      <td>152.451569</td>\n",
       "      <td>0</td>\n",
       "      <td>3800</td>\n",
       "      <td>red</td>\n",
       "      <td>3</td>\n",
       "    </tr>\n",
       "  </tbody>\n",
       "</table>\n",
       "</div>"
      ],
      "text/plain": [
       "   entry_point_rl  entry_point_ap  vertical_angle  horizontal_angle  \\\n",
       "0            -640            1500       81.400131        172.959797   \n",
       "1           -3180           -4180       74.096449        322.485452   \n",
       "2           -3800           -3200       72.486409        324.053181   \n",
       "3           -1800           -3500       81.772533        158.999745   \n",
       "4           -1960           -2260       75.936735        152.451569   \n",
       "\n",
       "   axial_angle  distance_advanced color  session  \n",
       "0            0               3800   red        1  \n",
       "1            0               3900   red        1  \n",
       "2            0               3750   red        2  \n",
       "3            0               3750   red        2  \n",
       "4            0               3800   red        3  "
      ]
     },
     "execution_count": 83,
     "metadata": {},
     "output_type": "execute_result"
    }
   ],
   "source": [
    "probe_data = pd.read_csv(path + 'all_probes.csv')\n",
    "probe_data.head()"
   ]
  },
  {
   "cell_type": "code",
   "execution_count": 84,
   "metadata": {},
   "outputs": [],
   "source": [
    "av = np.load(path + 'atlas.npy')\n",
    "probe_data[\"ccf_entry_ap\"]= -probe_data[\"entry_point_ap\"] +5400\n",
    "probe_data[\"ccf_entry_ml\"]= probe_data[\"entry_point_rl\"] +5700\n",
    "#probe_data[\"ccf_entry_dv\"]= probe_data[\"ccfDV\"]\n",
    "\n",
    "probe_data[\"ap_rounded\"] = round(probe_data[\"ccf_entry_ap\"] / 25)\n",
    "probe_data[\"ml_rounded\"] = round(probe_data[\"ccf_entry_ml\"] / 25) \n",
    "av = np.squeeze(av)\n",
    "for i in range(len(probe_data)):\n",
    "    ccfAP_rounded = int(probe_data.loc[i,\"ap_rounded\"])\n",
    "    ccfML_rounded = int(probe_data.loc[i,\"ml_rounded\"])\n",
    "    probe_data.loc[i,'ccf_entry_dv'] = np.where(av[ccfAP_rounded, ccfML_rounded, :] == 1)[0][0] * 25\n",
    "    \n",
    "def Rx(t):\n",
    "    return np.array([[1, 0, 0], [0, np.cos(np.deg2rad(t)), -np.sin(np.deg2rad(t))], [0, np.sin(np.deg2rad(t)), np.cos(np.deg2rad(t))]])\n",
    "\n",
    "def Ry(t):\n",
    "    return np.array([[np.cos(np.deg2rad(t)), 0, np.sin(np.deg2rad(t))], [0, 1, 0], [-np.sin(np.deg2rad(t)), 0, np.cos(np.deg2rad(t))]])\n",
    "\n",
    "def Rz(t):\n",
    "    return np.array([[np.cos(np.deg2rad(t)), -np.sin(np.deg2rad(t)), 0], [np.sin(np.deg2rad(t)), np.cos(np.deg2rad(t)), 0], [0, 0, 1]])\n",
    "for i in range(len(probe_data)):\n",
    "  color = probe_data.loc[i,\"color\"]\n",
    "  if color == \"red\":\n",
    "    probe_data.loc[i,\"color\"] = \"#EE204D\"\n",
    "  elif color == \"orange\":\n",
    "    probe_data.loc[i,\"color\"] = \"#FF7538\"\n",
    "  elif color == \"light green\":\n",
    "    probe_data.loc[i,\"color\"] = \"#9ACD32\"\n",
    "  elif color == \"dark green\":\n",
    "    probe_data.loc[i,\"color\"] = \"#006400\"  ##\n",
    "  elif color == \"medium green\":\n",
    "    probe_data.loc[i,\"color\"] = \"#32CD32\"  ##45CEA2\n",
    "  elif color == \"light blue\":\n",
    "    probe_data.loc[i,\"color\"] = \"#1FCECB\"  ##\n",
    "  elif color == \"dark blue\":\n",
    "    probe_data.loc[i,\"color\"] = \"#002AFF\"  ##\n",
    "  elif color == \"purple\":\n",
    "    probe_data.loc[i,\"color\"] = \"#926EAE\"  ##\n",
    "  elif color == \"pink\":\n",
    "    probe_data.loc[i,\"color\"] = \"#D6006E\" ##\n",
    "  elif color == \"violet\":\n",
    "    probe_data.loc[i,\"color\"] = \"#8F509D\" ##\n",
    "  else:\n",
    "    probe_data.loc[i,\"color\"] = \"#000000\"\n",
    "def tip(index):\n",
    "    horizAngle = probe_data.loc[index,\"horizontal_angle\"]\n",
    "    vertAngle = probe_data.loc[index,\"vertical_angle\"]\n",
    "\n",
    "    p = np.array([0, 1, 0])  # example value for p\n",
    "\n",
    "    pRot = np.dot(np.dot(Rz(horizAngle), Rx(-vertAngle)), p.T)  # use -vert because we want to go from +Y towards -Z\n",
    "    pCCF = np.array([-pRot[1], -pRot[2], pRot[0]])\n",
    "    ccfEntry = np.array(probe_data.loc[index,[\"ccf_entry_ap\",\"ccf_entry_dv\",\"ccf_entry_ml\"]])\n",
    "    tip_nick = ccfEntry + pCCF * probe_data.loc[index,\"distance_advanced\"]  # assuming ccfEntry and distAdvanced are defined\n",
    "    probe_data.loc[index,\"ml\"] = tip_nick[2]\n",
    "    probe_data.loc[index,\"ap\"] = tip_nick[0]\n",
    "    probe_data.loc[index,\"dv\"] = tip_nick[1]\n",
    "probe_data.index.map(tip)\n",
    "probe_data['theta'] = probe_data.loc[:,\"vertical_angle\"] - 90\n",
    "probe_data['phi'] = probe_data.loc[:,\"horizontal_angle\"] - 270"
   ]
  },
  {
   "cell_type": "code",
   "execution_count": 85,
   "metadata": {},
   "outputs": [],
   "source": [
    "#Creating probes\n",
    "probes = []\n",
    "for i in range(len(probe_data)):\n",
    "    probes.append(str(i))\n",
    "urchin.probes.create(probes)"
   ]
  },
  {
   "cell_type": "code",
   "execution_count": null,
   "metadata": {},
   "outputs": [
    {
     "name": "stderr",
     "output_type": "stream",
     "text": [
      "packet queue is empty, aborting\n"
     ]
    },
    {
     "name": "stdout",
     "output_type": "stream",
     "text": [
      "(URN) disconnected from server\n",
      "(URN) connected to server\n",
      "Login sent with ID: root\n"
     ]
    },
    {
     "name": "stderr",
     "output_type": "stream",
     "text": [
      "packet queue is empty, aborting\n"
     ]
    },
    {
     "name": "stdout",
     "output_type": "stream",
     "text": [
      "(URN) disconnected from server\n",
      "(URN) connected to server\n",
      "Login sent with ID: root\n"
     ]
    },
    {
     "name": "stderr",
     "output_type": "stream",
     "text": [
      "packet queue is empty, aborting\n"
     ]
    },
    {
     "name": "stdout",
     "output_type": "stream",
     "text": [
      "(URN) disconnected from server\n",
      "(URN) connected to server\n",
      "Login sent with ID: root\n",
      "(URN) disconnected from server\n",
      "(URN) connected to server\n",
      "Login sent with ID: root\n",
      "(URN) disconnected from server\n",
      "(URN) connected to server\n",
      "Login sent with ID: root\n"
     ]
    },
    {
     "name": "stderr",
     "output_type": "stream",
     "text": [
      "packet queue is empty, aborting\n"
     ]
    },
    {
     "name": "stdout",
     "output_type": "stream",
     "text": [
      "(URN) disconnected from server\n",
      "(URN) connected to server\n",
      "Login sent with ID: root\n",
      "(URN) disconnected from server\n",
      "(URN) connected to server\n",
      "Login sent with ID: root\n",
      "(URN) disconnected from server\n",
      "(URN) connected to server\n",
      "Login sent with ID: root\n",
      "(URN) disconnected from server\n",
      "(URN) connected to server\n",
      "Login sent with ID: root\n"
     ]
    },
    {
     "name": "stderr",
     "output_type": "stream",
     "text": [
      "packet queue is empty, aborting\n"
     ]
    },
    {
     "name": "stdout",
     "output_type": "stream",
     "text": [
      "(URN) disconnected from server\n",
      "(URN) connected to server\n",
      "Login sent with ID: root\n",
      "(URN) disconnected from server(URN) disconnected from server\n",
      "\n",
      "(URN) connected to server\n",
      "Login sent with ID: root\n",
      "(URN) disconnected from server(URN) disconnected from server\n",
      "\n",
      "(URN) connected to server\n",
      "Login sent with ID: root\n",
      "(URN) disconnected from server(URN) disconnected from server\n",
      "\n",
      "(URN) connected to server\n",
      "Login sent with ID: root\n"
     ]
    },
    {
     "name": "stderr",
     "output_type": "stream",
     "text": [
      "packet queue is empty, aborting\n",
      "packet queue is empty, aborting\n"
     ]
    },
    {
     "name": "stdout",
     "output_type": "stream",
     "text": [
      "(URN) disconnected from server\n",
      "(URN) connected to server\n",
      "Login sent with ID: root\n",
      "(URN) disconnected from server(URN) disconnected from server\n",
      "\n",
      "(URN) connected to server\n",
      "Login sent with ID: root\n"
     ]
    },
    {
     "name": "stderr",
     "output_type": "stream",
     "text": [
      "packet queue is empty, aborting\n"
     ]
    },
    {
     "name": "stdout",
     "output_type": "stream",
     "text": [
      "(URN) disconnected from server\n",
      "(URN) connected to server\n",
      "Login sent with ID: root\n",
      "(URN) disconnected from server\n",
      "(URN) connected to server\n",
      "Login sent with ID: root\n"
     ]
    },
    {
     "name": "stderr",
     "output_type": "stream",
     "text": [
      "packet queue is empty, aborting\n"
     ]
    },
    {
     "name": "stdout",
     "output_type": "stream",
     "text": [
      "(URN) disconnected from server\n",
      "(URN) connected to server\n",
      "Login sent with ID: root\n",
      "(URN) disconnected from server\n",
      "(URN) connected to server\n",
      "Login sent with ID: root\n",
      "(URN) disconnected from server\n",
      "(URN) connected to server\n",
      "Login sent with ID: root\n"
     ]
    },
    {
     "name": "stderr",
     "output_type": "stream",
     "text": [
      "packet queue is empty, aborting\n"
     ]
    },
    {
     "name": "stdout",
     "output_type": "stream",
     "text": [
      "(URN) disconnected from server\n",
      "(URN) connected to server\n",
      "Login sent with ID: root\n",
      "(URN) disconnected from server\n",
      "(URN) connected to server\n",
      "Login sent with ID: root\n",
      "(URN) disconnected from server\n",
      "(URN) connected to server\n",
      "Login sent with ID: root\n",
      "(URN) disconnected from server\n",
      "(URN) connected to server\n",
      "Login sent with ID: root\n",
      "(URN) disconnected from server(URN) disconnected from server\n",
      "\n",
      "(URN) connected to server\n",
      "Login sent with ID: root\n",
      "(URN) disconnected from server\n",
      "(URN) connected to server\n",
      "Login sent with ID: root\n"
     ]
    },
    {
     "name": "stderr",
     "output_type": "stream",
     "text": [
      "packet queue is empty, aborting\n"
     ]
    },
    {
     "name": "stdout",
     "output_type": "stream",
     "text": [
      "(URN) disconnected from server\n",
      "(URN) connected to server\n",
      "Login sent with ID: root\n"
     ]
    },
    {
     "name": "stderr",
     "output_type": "stream",
     "text": [
      "packet queue is empty, aborting\n"
     ]
    },
    {
     "name": "stdout",
     "output_type": "stream",
     "text": [
      "(URN) disconnected from server\n",
      "(URN) connected to server\n",
      "Login sent with ID: root\n"
     ]
    },
    {
     "name": "stderr",
     "output_type": "stream",
     "text": [
      "packet queue is empty, aborting\n"
     ]
    },
    {
     "name": "stdout",
     "output_type": "stream",
     "text": [
      "(URN) disconnected from server\n",
      "(URN) connected to server\n",
      "Login sent with ID: root\n",
      "(URN) disconnected from server\n",
      "(URN) connected to server\n",
      "Login sent with ID: root\n",
      "(URN) disconnected from server\n",
      "(URN) connected to server\n",
      "Login sent with ID: root\n",
      "(URN) disconnected from server\n",
      "(URN) connected to server\n",
      "Login sent with ID: root\n",
      "(URN) disconnected from server\n",
      "(URN) connected to server\n",
      "Login sent with ID: root\n",
      "(URN) disconnected from server\n",
      "(URN) connected to server\n",
      "Login sent with ID: root\n",
      "(URN) disconnected from server\n",
      "(URN) connected to server\n",
      "Login sent with ID: root\n",
      "(URN) disconnected from server\n",
      "(URN) connected to server\n",
      "Login sent with ID: root\n"
     ]
    },
    {
     "name": "stderr",
     "output_type": "stream",
     "text": [
      "packet queue is empty, aborting\n"
     ]
    },
    {
     "name": "stdout",
     "output_type": "stream",
     "text": [
      "(URN) disconnected from server\n",
      "(URN) connected to server\n",
      "Login sent with ID: root\n",
      "(URN) disconnected from server(URN) disconnected from server\n",
      "\n",
      "(URN) connected to server\n",
      "Login sent with ID: root\n",
      "(URN) disconnected from server\n",
      "(URN) connected to server\n",
      "Login sent with ID: root\n",
      "(URN) disconnected from server\n",
      "(URN) connected to server\n",
      "Login sent with ID: root\n",
      "(URN) disconnected from server\n",
      "(URN) connected to server\n",
      "Login sent with ID: root\n",
      "(URN) disconnected from server\n",
      "(URN) connected to server\n",
      "Login sent with ID: root\n",
      "(URN) disconnected from server\n",
      "(URN) connected to server\n",
      "Login sent with ID: root\n",
      "(URN) disconnected from server\n",
      "(URN) connected to server\n",
      "Login sent with ID: root\n"
     ]
    },
    {
     "name": "stderr",
     "output_type": "stream",
     "text": [
      "packet queue is empty, aborting\n"
     ]
    },
    {
     "name": "stdout",
     "output_type": "stream",
     "text": [
      "(URN) disconnected from server\n",
      "(URN) connected to server\n",
      "Login sent with ID: root\n"
     ]
    },
    {
     "name": "stderr",
     "output_type": "stream",
     "text": [
      "packet queue is empty, aborting\n"
     ]
    },
    {
     "name": "stdout",
     "output_type": "stream",
     "text": [
      "(URN) disconnected from server\n",
      "(URN) connected to server\n",
      "Login sent with ID: root\n",
      "(URN) disconnected from server\n",
      "(URN) connected to server\n",
      "Login sent with ID: root\n",
      "(URN) disconnected from server\n",
      "(URN) connected to server\n",
      "Login sent with ID: root\n",
      "(URN) disconnected from server\n",
      "(URN) connected to server\n",
      "Login sent with ID: root\n",
      "(URN) disconnected from server\n",
      "(URN) connected to server\n",
      "Login sent with ID: root\n",
      "(URN) disconnected from server\n",
      "(URN) connected to server\n",
      "Login sent with ID: root\n",
      "(URN) disconnected from server\n",
      "(URN) connected to server\n",
      "Login sent with ID: root\n",
      "(URN) disconnected from server\n",
      "(URN) connected to server\n",
      "Login sent with ID: root\n",
      "(URN) disconnected from server\n",
      "(URN) connected to server\n",
      "Login sent with ID: root\n"
     ]
    },
    {
     "name": "stderr",
     "output_type": "stream",
     "text": [
      "packet queue is empty, aborting\n"
     ]
    },
    {
     "name": "stdout",
     "output_type": "stream",
     "text": [
      "(URN) disconnected from server\n",
      "(URN) connected to server\n",
      "Login sent with ID: root\n",
      "(URN) disconnected from server\n",
      "(URN) connected to server\n",
      "Login sent with ID: root\n",
      "(URN) disconnected from server\n",
      "(URN) connected to server\n",
      "Login sent with ID: root\n",
      "(URN) disconnected from server\n",
      "(URN) connected to server\n",
      "Login sent with ID: root\n",
      "(URN) disconnected from server\n",
      "(URN) connected to server\n",
      "Login sent with ID: root\n",
      "(URN) disconnected from server\n",
      "(URN) connected to server\n",
      "Login sent with ID: root\n",
      "(URN) disconnected from server\n",
      "(URN) connected to server\n",
      "Login sent with ID: root\n"
     ]
    },
    {
     "name": "stderr",
     "output_type": "stream",
     "text": [
      "packet queue is empty, aborting\n"
     ]
    },
    {
     "name": "stdout",
     "output_type": "stream",
     "text": [
      "(URN) disconnected from server\n",
      "(URN) connected to server\n",
      "Login sent with ID: root\n",
      "(URN) disconnected from server\n",
      "(URN) connected to server\n",
      "Login sent with ID: root\n"
     ]
    },
    {
     "name": "stderr",
     "output_type": "stream",
     "text": [
      "packet queue is empty, aborting\n"
     ]
    },
    {
     "name": "stdout",
     "output_type": "stream",
     "text": [
      "(URN) disconnected from server\n",
      "(URN) connected to server\n",
      "Login sent with ID: root\n",
      "(URN) disconnected from server\n",
      "(URN) connected to server\n",
      "Login sent with ID: root\n",
      "(URN) disconnected from server(URN) disconnected from server\n",
      "\n",
      "(URN) connected to server\n",
      "Login sent with ID: root\n"
     ]
    },
    {
     "name": "stderr",
     "output_type": "stream",
     "text": [
      "packet queue is empty, aborting\n"
     ]
    },
    {
     "name": "stdout",
     "output_type": "stream",
     "text": [
      "(URN) disconnected from server\n",
      "(URN) connected to server\n",
      "Login sent with ID: root\n",
      "(URN) disconnected from server(URN) disconnected from server\n",
      "\n",
      "(URN) connected to server\n",
      "Login sent with ID: root\n"
     ]
    },
    {
     "name": "stderr",
     "output_type": "stream",
     "text": [
      "packet queue is empty, aborting\n",
      "packet queue is empty, aborting\n"
     ]
    },
    {
     "name": "stdout",
     "output_type": "stream",
     "text": [
      "(URN) disconnected from server\n",
      "(URN) connected to server\n",
      "Login sent with ID: root\n",
      "(URN) disconnected from server(URN) disconnected from server\n",
      "\n",
      "(URN) connected to server\n",
      "Login sent with ID: root\n",
      "(URN) disconnected from server\n",
      "(URN) connected to server\n",
      "Login sent with ID: root\n",
      "(URN) disconnected from server\n",
      "(URN) connected to server\n",
      "Login sent with ID: root\n",
      "(URN) disconnected from server\n",
      "(URN) connected to server\n",
      "Login sent with ID: root\n"
     ]
    }
   ],
   "source": [
    "#Setting probe colors\n",
    "probe_colors = {}\n",
    "for probe in probes:\n",
    "  probe_colors[probe] = probe_data.loc[int(probe),\"color\"]\n",
    "urchin.probes.set_color(probe_colors)\n",
    "#Setting probe positions\n",
    "probe_positions = {}\n",
    "for probe in probes:\n",
    "    probe_positions[probe] = [probe_data.loc[int(probe), \"ml\"], probe_data.loc[int(probe), \"ap\"], probe_data.loc[int(probe), \"dv\"]]\n",
    "urchin.probes.set_position(probe_positions)\n",
    "#Setting probe angles\n",
    "probe_angles = {}\n",
    "for probe in probes:\n",
    "    probe_angles[probe] = [probe_data.loc[int(probe), \"phi\"], probe_data.loc[int(probe), \"theta\"], 0]\n",
    "urchin.probes.set_angle(probe_angles)\n"
   ]
  }
 ],
 "metadata": {
  "kernelspec": {
   "display_name": "urchin-venv",
   "language": "python",
   "name": "python3"
  },
  "language_info": {
   "codemirror_mode": {
    "name": "ipython",
    "version": 3
   },
   "file_extension": ".py",
   "mimetype": "text/x-python",
   "name": "python",
   "nbconvert_exporter": "python",
   "pygments_lexer": "ipython3",
   "version": "3.9.7"
  },
  "orig_nbformat": 4
 },
 "nbformat": 4,
 "nbformat_minor": 2
}
