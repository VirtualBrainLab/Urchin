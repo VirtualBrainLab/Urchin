{
 "cells": [
  {
   "attachments": {},
   "cell_type": "markdown",
   "metadata": {},
   "source": [
    "Basic Urchin Setup:"
   ]
  },
  {
   "cell_type": "code",
   "execution_count": null,
   "metadata": {},
   "outputs": [],
   "source": [
    "import oursin as urchin\n",
    "urchin.setup()"
   ]
  },
  {
   "attachments": {},
   "cell_type": "markdown",
   "metadata": {},
   "source": [
    "THIS IS JUST A PLACEHOLDER"
   ]
  },
  {
   "attachments": {},
   "cell_type": "markdown",
   "metadata": {},
   "source": [
    "Loading Brain Regions:"
   ]
  },
  {
   "attachments": {},
   "cell_type": "markdown",
   "metadata": {},
   "source": [
    "Loading Probes:"
   ]
  },
  {
   "cell_type": "code",
   "execution_count": null,
   "metadata": {},
   "outputs": [],
   "source": [
    "probes = urchin.probes.create(26)"
   ]
  },
  {
   "attachments": {},
   "cell_type": "markdown",
   "metadata": {},
   "source": [
    "Loading Neurons:"
   ]
  },
  {
   "cell_type": "code",
   "execution_count": null,
   "metadata": {},
   "outputs": [],
   "source": []
  },
  {
   "cell_type": "code",
   "execution_count": null,
   "metadata": {},
   "outputs": [],
   "source": [
    "neurons = urchin.neurons.create()\n",
    "urchin.neurons.set_size(neurons, [0.01,0.02,0.03])\n"
   ]
  },
  {
   "attachments": {},
   "cell_type": "markdown",
   "metadata": {},
   "source": [
    "Actual code below:"
   ]
  },
  {
   "cell_type": "code",
   "execution_count": 19,
   "metadata": {},
   "outputs": [
    {
     "name": "stdout",
     "output_type": "stream",
     "text": [
      "(urchin) Client is already connected\n"
     ]
    }
   ],
   "source": [
    "import numpy as np\n",
    "import pandas as pd\n",
    "import math\n",
    "import oursin as urchin\n",
    "urchin.setup()\n",
    "path = 'C:/Users/jasmineschoch/Documents/proj/Urchin/Examples/data/jasmine/'"
   ]
  },
  {
   "cell_type": "code",
   "execution_count": 2,
   "metadata": {},
   "outputs": [],
   "source": [
    "regions = pd.read_csv(path + 'region_colors.csv')"
   ]
  },
  {
   "cell_type": "code",
   "execution_count": 3,
   "metadata": {},
   "outputs": [],
   "source": [
    "areas = regions.loc[:,\"Areas\"]\n",
    "colors = regions.loc[:,\"Color\"]"
   ]
  },
  {
   "cell_type": "code",
   "execution_count": 8,
   "metadata": {},
   "outputs": [
    {
     "name": "stdout",
     "output_type": "stream",
     "text": [
      "0      VISp\n",
      "1      VISl\n",
      "2     VISpm\n",
      "3     VISam\n",
      "4     VISrl\n",
      "5      VISa\n",
      "6       RSP\n",
      "7       ACA\n",
      "8       MOs\n",
      "9        PL\n",
      "10      ILA\n",
      "11      ORB\n",
      "12      MOp\n",
      "13      SSp\n",
      "14       DG\n",
      "15      CA3\n",
      "16      CA1\n",
      "17     POST\n",
      "18      SUB\n",
      "19      OLF\n",
      "20      BLA\n",
      "21       CP\n",
      "22      GPe\n",
      "23      SNr\n",
      "24      ACB\n",
      "25       LS\n",
      "26      LGd\n",
      "27       LP\n",
      "28       LD\n",
      "29      POL\n",
      "30       MD\n",
      "31      VPL\n",
      "32       PO\n",
      "33      VPM\n",
      "34       RT\n",
      "35       MG\n",
      "36      SCs\n",
      "37      SCm\n",
      "38      MRN\n",
      "39      APN\n",
      "40      PAG\n",
      "41       ZI\n",
      "Name: Areas, dtype: object\n"
     ]
    }
   ],
   "source": [
    "print(areas)"
   ]
  },
  {
   "cell_type": "code",
   "execution_count": 6,
   "metadata": {},
   "outputs": [],
   "source": [
    "#Generating overall brain image\n",
    "urchin.ccf.set_visibility({'grey':True})\n",
    "urchin.ccf.set_material({'grey':'transparent-unlit'})\n",
    "urchin.ccf.set_alpha({'grey':0.1})"
   ]
  },
  {
   "cell_type": "code",
   "execution_count": 7,
   "metadata": {},
   "outputs": [],
   "source": [
    "area_colors = {}\n",
    "area_vis = {}\n",
    "area_material = {}\n",
    "for i in range(len(areas)):\n",
    "  area = areas[i] + \"-lh\"\n",
    "  area_vis[area] = True\n",
    "  area_material = 'opaque-unlit'\n",
    "  area_colors[area] = (colors[i])\n",
    "  area = areas[i] + \"-rh\"\n",
    "  area_vis[area] = True\n",
    "  area_material = 'opaque-unlit'\n",
    "  area_colors[area] = (colors[i])\n",
    "urchin.ccf.set_visibility(area_vis)\n",
    "urchin.ccf.set_material(area_material) \n",
    "urchin.ccf.set_color(area_colors)\n"
   ]
  },
  {
   "cell_type": "code",
   "execution_count": 11,
   "metadata": {},
   "outputs": [
    {
     "name": "stdout",
     "output_type": "stream",
     "text": [
      "{'VISp-lh': True, 'VISp-rh': True, 'VISl-lh': True, 'VISl-rh': True, 'VISpm-lh': True, 'VISpm-rh': True, 'VISam-lh': True, 'VISam-rh': True, 'VISrl-lh': True, 'VISrl-rh': True, 'VISa-lh': True, 'VISa-rh': True, 'RSP-lh': True, 'RSP-rh': True, 'ACA-lh': True, 'ACA-rh': True, 'MOs-lh': True, 'MOs-rh': True, 'PL-lh': True, 'PL-rh': True, 'ILA-lh': True, 'ILA-rh': True, 'ORB-lh': True, 'ORB-rh': True, 'MOp-lh': True, 'MOp-rh': True, 'SSp-lh': True, 'SSp-rh': True, 'DG-lh': True, 'DG-rh': True, 'CA3-lh': True, 'CA3-rh': True, 'CA1-lh': True, 'CA1-rh': True, 'POST-lh': True, 'POST-rh': True, 'SUB-lh': True, 'SUB-rh': True, 'OLF-lh': True, 'OLF-rh': True, 'BLA-lh': True, 'BLA-rh': True, 'CP-lh': True, 'CP-rh': True, 'GPe-lh': True, 'GPe-rh': True, 'SNr-lh': True, 'SNr-rh': True, 'ACB-lh': True, 'ACB-rh': True, 'LS-lh': True, 'LS-rh': True, 'LGd-lh': True, 'LGd-rh': True, 'LP-lh': True, 'LP-rh': True, 'LD-lh': True, 'LD-rh': True, 'POL-lh': True, 'POL-rh': True, 'MD-lh': True, 'MD-rh': True, 'VPL-lh': True, 'VPL-rh': True, 'PO-lh': True, 'PO-rh': True, 'VPM-lh': True, 'VPM-rh': True, 'RT-lh': True, 'RT-rh': True, 'MG-lh': True, 'MG-rh': True, 'SCs-lh': True, 'SCs-rh': True, 'SCm-lh': True, 'SCm-rh': True, 'MRN-lh': True, 'MRN-rh': True, 'APN-lh': True, 'APN-rh': True, 'PAG-lh': True, 'PAG-rh': True, 'ZI-lh': True, 'ZI-rh': True}\n"
     ]
    }
   ],
   "source": [
    "print(area_vis)"
   ]
  },
  {
   "cell_type": "code",
   "execution_count": 14,
   "metadata": {},
   "outputs": [
    {
     "data": {
      "text/html": [
       "<div>\n",
       "<style scoped>\n",
       "    .dataframe tbody tr th:only-of-type {\n",
       "        vertical-align: middle;\n",
       "    }\n",
       "\n",
       "    .dataframe tbody tr th {\n",
       "        vertical-align: top;\n",
       "    }\n",
       "\n",
       "    .dataframe thead th {\n",
       "        text-align: right;\n",
       "    }\n",
       "</style>\n",
       "<table border=\"1\" class=\"dataframe\">\n",
       "  <thead>\n",
       "    <tr style=\"text-align: right;\">\n",
       "      <th></th>\n",
       "      <th>entry_point_rl</th>\n",
       "      <th>entry_point_ap</th>\n",
       "      <th>vertical_angle</th>\n",
       "      <th>horizontal_angle</th>\n",
       "      <th>axial_angle</th>\n",
       "      <th>distance_advanced</th>\n",
       "      <th>color</th>\n",
       "      <th>session</th>\n",
       "    </tr>\n",
       "  </thead>\n",
       "  <tbody>\n",
       "    <tr>\n",
       "      <th>0</th>\n",
       "      <td>-640</td>\n",
       "      <td>1500</td>\n",
       "      <td>81.400131</td>\n",
       "      <td>172.959797</td>\n",
       "      <td>0</td>\n",
       "      <td>3800</td>\n",
       "      <td>red</td>\n",
       "      <td>1</td>\n",
       "    </tr>\n",
       "    <tr>\n",
       "      <th>1</th>\n",
       "      <td>-3180</td>\n",
       "      <td>-4180</td>\n",
       "      <td>74.096449</td>\n",
       "      <td>322.485452</td>\n",
       "      <td>0</td>\n",
       "      <td>3900</td>\n",
       "      <td>red</td>\n",
       "      <td>1</td>\n",
       "    </tr>\n",
       "    <tr>\n",
       "      <th>2</th>\n",
       "      <td>-3800</td>\n",
       "      <td>-3200</td>\n",
       "      <td>72.486409</td>\n",
       "      <td>324.053181</td>\n",
       "      <td>0</td>\n",
       "      <td>3750</td>\n",
       "      <td>red</td>\n",
       "      <td>2</td>\n",
       "    </tr>\n",
       "    <tr>\n",
       "      <th>3</th>\n",
       "      <td>-1800</td>\n",
       "      <td>-3500</td>\n",
       "      <td>81.772533</td>\n",
       "      <td>158.999745</td>\n",
       "      <td>0</td>\n",
       "      <td>3750</td>\n",
       "      <td>red</td>\n",
       "      <td>2</td>\n",
       "    </tr>\n",
       "    <tr>\n",
       "      <th>4</th>\n",
       "      <td>-1960</td>\n",
       "      <td>-2260</td>\n",
       "      <td>75.936735</td>\n",
       "      <td>152.451569</td>\n",
       "      <td>0</td>\n",
       "      <td>3800</td>\n",
       "      <td>red</td>\n",
       "      <td>3</td>\n",
       "    </tr>\n",
       "  </tbody>\n",
       "</table>\n",
       "</div>"
      ],
      "text/plain": [
       "   entry_point_rl  entry_point_ap  vertical_angle  horizontal_angle   \n",
       "0            -640            1500       81.400131        172.959797  \\\n",
       "1           -3180           -4180       74.096449        322.485452   \n",
       "2           -3800           -3200       72.486409        324.053181   \n",
       "3           -1800           -3500       81.772533        158.999745   \n",
       "4           -1960           -2260       75.936735        152.451569   \n",
       "\n",
       "   axial_angle  distance_advanced color  session  \n",
       "0            0               3800   red        1  \n",
       "1            0               3900   red        1  \n",
       "2            0               3750   red        2  \n",
       "3            0               3750   red        2  \n",
       "4            0               3800   red        3  "
      ]
     },
     "execution_count": 14,
     "metadata": {},
     "output_type": "execute_result"
    }
   ],
   "source": [
    "probe_data = pd.read_csv(path + 'probe_insertions.csv')\n",
    "probe_data.head()"
   ]
  },
  {
   "cell_type": "code",
   "execution_count": 41,
   "metadata": {},
   "outputs": [],
   "source": [
    "probe_data[\"ccf_entry_ap\"]= probe_data[\"entry_point_ap\"] +5400\n",
    "probe_data[\"ccf_entry_ml\"]= probe_data[\"entry_point_rl\"] +5700\n",
    "probe_data[\"ccf_entry_dv\"]= 330\n",
    "probe_data[\"theta\"]= np.deg2rad(90-probe_data['vertical_angle'])\n",
    "probe_data[\"dv\"] = 330 + (probe_data[\"distance_advanced\"] * np.cos(probe_data[\"theta\"]))\n",
    "probe_data[\"y\"] = probe_data[\"distance_advanced\"] * np.sin(probe_data[\"theta\"])\n",
    "probe_data[\"ap\"]"
   ]
  },
  {
   "cell_type": "code",
   "execution_count": 42,
   "metadata": {},
   "outputs": [
    {
     "data": {
      "text/html": [
       "<div>\n",
       "<style scoped>\n",
       "    .dataframe tbody tr th:only-of-type {\n",
       "        vertical-align: middle;\n",
       "    }\n",
       "\n",
       "    .dataframe tbody tr th {\n",
       "        vertical-align: top;\n",
       "    }\n",
       "\n",
       "    .dataframe thead th {\n",
       "        text-align: right;\n",
       "    }\n",
       "</style>\n",
       "<table border=\"1\" class=\"dataframe\">\n",
       "  <thead>\n",
       "    <tr style=\"text-align: right;\">\n",
       "      <th></th>\n",
       "      <th>entry_point_rl</th>\n",
       "      <th>entry_point_ap</th>\n",
       "      <th>vertical_angle</th>\n",
       "      <th>horizontal_angle</th>\n",
       "      <th>axial_angle</th>\n",
       "      <th>distance_advanced</th>\n",
       "      <th>color</th>\n",
       "      <th>session</th>\n",
       "      <th>ccf_entry_ap</th>\n",
       "      <th>ccf_entry_ml</th>\n",
       "      <th>ccf_entry_dv</th>\n",
       "      <th>dv</th>\n",
       "      <th>y</th>\n",
       "      <th>theta</th>\n",
       "    </tr>\n",
       "  </thead>\n",
       "  <tbody>\n",
       "    <tr>\n",
       "      <th>0</th>\n",
       "      <td>-640</td>\n",
       "      <td>1500</td>\n",
       "      <td>81.400131</td>\n",
       "      <td>172.959797</td>\n",
       "      <td>0</td>\n",
       "      <td>3800</td>\n",
       "      <td>red</td>\n",
       "      <td>1</td>\n",
       "      <td>6900</td>\n",
       "      <td>5060</td>\n",
       "      <td>330</td>\n",
       "      <td>4087.275550</td>\n",
       "      <td>568.225693</td>\n",
       "      <td>0.150096</td>\n",
       "    </tr>\n",
       "    <tr>\n",
       "      <th>1</th>\n",
       "      <td>-3180</td>\n",
       "      <td>-4180</td>\n",
       "      <td>74.096449</td>\n",
       "      <td>322.485452</td>\n",
       "      <td>0</td>\n",
       "      <td>3900</td>\n",
       "      <td>red</td>\n",
       "      <td>1</td>\n",
       "      <td>1220</td>\n",
       "      <td>2520</td>\n",
       "      <td>330</td>\n",
       "      <td>4080.724878</td>\n",
       "      <td>1068.673424</td>\n",
       "      <td>0.277569</td>\n",
       "    </tr>\n",
       "    <tr>\n",
       "      <th>2</th>\n",
       "      <td>-3800</td>\n",
       "      <td>-3200</td>\n",
       "      <td>72.486409</td>\n",
       "      <td>324.053181</td>\n",
       "      <td>0</td>\n",
       "      <td>3750</td>\n",
       "      <td>red</td>\n",
       "      <td>2</td>\n",
       "      <td>2200</td>\n",
       "      <td>1900</td>\n",
       "      <td>330</td>\n",
       "      <td>3906.170969</td>\n",
       "      <td>1128.495105</td>\n",
       "      <td>0.305670</td>\n",
       "    </tr>\n",
       "    <tr>\n",
       "      <th>3</th>\n",
       "      <td>-1800</td>\n",
       "      <td>-3500</td>\n",
       "      <td>81.772533</td>\n",
       "      <td>158.999745</td>\n",
       "      <td>0</td>\n",
       "      <td>3750</td>\n",
       "      <td>red</td>\n",
       "      <td>2</td>\n",
       "      <td>1900</td>\n",
       "      <td>3900</td>\n",
       "      <td>330</td>\n",
       "      <td>4041.404032</td>\n",
       "      <td>536.637782</td>\n",
       "      <td>0.143596</td>\n",
       "    </tr>\n",
       "    <tr>\n",
       "      <th>4</th>\n",
       "      <td>-1960</td>\n",
       "      <td>-2260</td>\n",
       "      <td>75.936735</td>\n",
       "      <td>152.451569</td>\n",
       "      <td>0</td>\n",
       "      <td>3800</td>\n",
       "      <td>red</td>\n",
       "      <td>3</td>\n",
       "      <td>3140</td>\n",
       "      <td>3740</td>\n",
       "      <td>330</td>\n",
       "      <td>4016.106429</td>\n",
       "      <td>923.373919</td>\n",
       "      <td>0.245450</td>\n",
       "    </tr>\n",
       "  </tbody>\n",
       "</table>\n",
       "</div>"
      ],
      "text/plain": [
       "   entry_point_rl  entry_point_ap  vertical_angle  horizontal_angle   \n",
       "0            -640            1500       81.400131        172.959797  \\\n",
       "1           -3180           -4180       74.096449        322.485452   \n",
       "2           -3800           -3200       72.486409        324.053181   \n",
       "3           -1800           -3500       81.772533        158.999745   \n",
       "4           -1960           -2260       75.936735        152.451569   \n",
       "\n",
       "   axial_angle  distance_advanced color  session  ccf_entry_ap  ccf_entry_ml   \n",
       "0            0               3800   red        1          6900          5060  \\\n",
       "1            0               3900   red        1          1220          2520   \n",
       "2            0               3750   red        2          2200          1900   \n",
       "3            0               3750   red        2          1900          3900   \n",
       "4            0               3800   red        3          3140          3740   \n",
       "\n",
       "   ccf_entry_dv           dv            y     theta  \n",
       "0           330  4087.275550   568.225693  0.150096  \n",
       "1           330  4080.724878  1068.673424  0.277569  \n",
       "2           330  3906.170969  1128.495105  0.305670  \n",
       "3           330  4041.404032   536.637782  0.143596  \n",
       "4           330  4016.106429   923.373919  0.245450  "
      ]
     },
     "execution_count": 42,
     "metadata": {},
     "output_type": "execute_result"
    }
   ],
   "source": [
    "probe_data.head()"
   ]
  },
  {
   "cell_type": "code",
   "execution_count": 39,
   "metadata": {},
   "outputs": [
    {
     "name": "stdout",
     "output_type": "stream",
     "text": [
      "Maximum dv: 81.77253283\n"
     ]
    }
   ],
   "source": [
    "max_dv = probe_data['vertical_angle'].max()\n",
    "print(\"Maximum dv:\", max_dv)"
   ]
  },
  {
   "cell_type": "code",
   "execution_count": null,
   "metadata": {},
   "outputs": [],
   "source": []
  }
 ],
 "metadata": {
  "kernelspec": {
   "display_name": "urchin-venv",
   "language": "python",
   "name": "python3"
  },
  "language_info": {
   "codemirror_mode": {
    "name": "ipython",
    "version": 3
   },
   "file_extension": ".py",
   "mimetype": "text/x-python",
   "name": "python",
   "nbconvert_exporter": "python",
   "pygments_lexer": "ipython3",
   "version": "3.8.10"
  },
  "orig_nbformat": 4
 },
 "nbformat": 4,
 "nbformat_minor": 2
}
