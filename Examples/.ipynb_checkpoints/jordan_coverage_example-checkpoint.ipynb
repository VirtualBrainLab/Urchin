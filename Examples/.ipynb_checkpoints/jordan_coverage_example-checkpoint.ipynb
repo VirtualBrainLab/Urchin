{
 "cells": [
  {
   "cell_type": "code",
   "execution_count": 1,
   "id": "b7ff1ce8-6642-4eb0-a829-92fbc2a83c6c",
   "metadata": {},
   "outputs": [],
   "source": [
    "import json\n",
    "import sys\n",
    "import os\n",
    "import unityneuro.render as urn\n",
    "\n",
    "CHANNEL_COVERAGE_SCALE = 0.100 # in um"
   ]
  },
  {
   "cell_type": "code",
   "execution_count": 2,
   "id": "674bcd8e-90ae-47ea-9e86-1dfdca428563",
   "metadata": {},
   "outputs": [
    {
     "name": "stdout",
     "output_type": "stream",
     "text": [
      "(URN) connected to server\n",
      "Login sent with ID: Dan\n"
     ]
    }
   ],
   "source": [
    "urn.setup()"
   ]
  },
  {
   "cell_type": "code",
   "execution_count": 3,
   "id": "94f6a8e8-372a-4399-bd39-1bf78e09eb4a",
   "metadata": {},
   "outputs": [],
   "source": [
    "files = os.listdir('./data/jordan/')"
   ]
  },
  {
   "cell_type": "code",
   "execution_count": 4,
   "id": "62c9402f-cf35-48f0-865c-9f9841c41f46",
   "metadata": {},
   "outputs": [],
   "source": [
    "def convertAPML2CCF(ml,ap,dv,iblBregma):\n",
    "    ml = iblBregma[0] + ml\n",
    "    ap = iblBregma[1] - ap \n",
    "    dv = iblBregma[2] - dv\n",
    "    return (ml,ap,dv)"
   ]
  },
  {
   "cell_type": "code",
   "execution_count": 5,
   "id": "b4cdf190-2dad-4e38-84d9-44d2195fd341",
   "metadata": {},
   "outputs": [],
   "source": [
    "def constructChannelDict(chanLocs,iblBregma,filePrefix):\n",
    "    outName = []\n",
    "    outPos = {}\n",
    "    outSize = {}\n",
    "    outShape = {}\n",
    "    for i, (k,v) in enumerate(chanLocs.items()):\n",
    "        if \"channel\" in k:\n",
    "            name = filePrefix + '_chan' + str(i)\n",
    "            outName.append(name)\n",
    "            (ml,ap,dv) = convertAPML2CCF(v['x'],v['y'],v['z'],iblBregma)\n",
    "            outPos[name] = [ml,ap,dv]\n",
    "            outShape[name] = 'sphere'\n",
    "            outSize[name] = CHANNEL_COVERAGE_SCALE\n",
    "    return (outName, outPos, outShape, outSize)"
   ]
  },
  {
   "cell_type": "code",
   "execution_count": 8,
   "id": "93bb8b0f-1e88-4016-b4dd-4174cd79c779",
   "metadata": {},
   "outputs": [],
   "source": [
    "urn.clear()\n",
    "mrn_areas = ['MRN','SCm', 'SCs', 'APN']\n",
    "for area in mrn_areas:\n",
    "    urn.set_area_visibility({area:True})\n",
    "    urn.set_area_material({area:'transparent-unlit'})\n",
    "    urn.set_area_alpha({area:0.5})\n",
    "    \n",
    "\n",
    "urn.set_area_visibility({8:True})\n",
    "urn.set_area_material({8:'transparent-unlit'})\n",
    "urn.set_area_alpha({8:0.15})\n",
    "\n",
    "urn.set_camera_target_area('MRN')\n",
    "urn.set_camera_rotation(45,0,0)"
   ]
  },
  {
   "cell_type": "code",
   "execution_count": 9,
   "id": "cfb1e3a2-b933-47a2-97fe-e3745641b8cd",
   "metadata": {},
   "outputs": [
    {
     "name": "stdout",
     "output_type": "stream",
     "text": [
      "JRS_00042021-06-16oldp1_shank0.json\n",
      "JRS_00042021-06-16oldp1_shank3.json\n",
      "JRS_00052021-07-21p0_g0_imec0_shank0.json\n",
      "JRS_00052021-07-21p0_g0_imec0_shank1.json\n",
      "JRS_00052021-07-21p0_g0_imec0_shank2.json\n",
      "JRS_00052021-07-21p0_g0_imec0_shank3.json\n",
      "JRS_00052021-07-21p0_g0_imec1_shank0.json\n",
      "JRS_00052021-07-21p0_g0_imec1_shank1.json\n",
      "JRS_00052021-07-21p0_g0_imec1_shank2.json\n",
      "JRS_00052021-07-21p0_g0_imec1_shank3.json\n",
      "JRS_00052021-08-16p0_g0_imec0_shank0.json\n",
      "JRS_00052021-08-16p0_g0_imec0_shank1.json\n",
      "JRS_00052021-08-16p0_g0_imec0_shank2.json\n",
      "JRS_00052021-08-16p0_g0_imec0_shank3.json\n",
      "JRS_00052021-08-16p0_g0_imec1_shank0.json\n",
      "JRS_00052021-08-16p0_g0_imec1_shank1.json\n",
      "JRS_00052021-08-16p0_g0_imec1_shank2.json\n",
      "JRS_00052021-08-16p0_g0_imec1_shank3.json\n",
      "JRS_00062022-01-13p0_g0_imec0_shank0.json\n",
      "JRS_00062022-01-13p0_g0_imec0_shank1.json\n",
      "JRS_00092021-11-08p0_g0_imec0_shank0.json\n",
      "JRS_00092021-11-08p0_g0_imec0_shank1.json\n",
      "JRS_00092021-11-08p0_g0_imec0_shank2.json\n",
      "JRS_00092021-11-08p0_g0_imec0_shank3.json\n",
      "JRS_00092021-11-08p0_g0_imec1_shank0.json\n",
      "JRS_00092021-11-08p0_g0_imec1_shank1.json\n",
      "JRS_00092021-11-08p0_g0_imec1_shank2.json\n",
      "JRS_00092021-11-08p0_g0_imec1_shank3.json\n",
      "JRS_00092021-11-17p0_g0_imec0_shank0.json\n",
      "JRS_00092021-11-17p0_g0_imec0_shank1.json\n",
      "JRS_00092021-11-17p0_g0_imec0_shank2.json\n",
      "JRS_00092021-11-17p0_g0_imec0_shank3.json\n"
     ]
    }
   ],
   "source": [
    "file_count = 0\n",
    "for file in files:\n",
    "    print(file)\n",
    "    with open('./data/jordan/'+file) as f:\n",
    "        data = json.load(f)\n",
    "        bregma = data['origin']['bregma']\n",
    "        (outName, outPos, outShape, outSize) = constructChannelDict(data,bregma,'f'+str(file_count))\n",
    "        file_count+=1\n",
    "        urn.create_neurons(outName)\n",
    "        urn.set_neuron_positions(outPos)\n",
    "        urn.set_neuron_shapes(outShape)\n",
    "        urn.set_neuron_sizes(outSize)"
   ]
  },
  {
   "cell_type": "code",
   "execution_count": null,
   "id": "8cd2cf22-420b-4f31-ba8e-87d1326106a9",
   "metadata": {},
   "outputs": [],
   "source": []
  }
 ],
 "metadata": {
  "kernelspec": {
   "display_name": "Python 3 (ipykernel)",
   "language": "python",
   "name": "python3"
  },
  "language_info": {
   "codemirror_mode": {
    "name": "ipython",
    "version": 3
   },
   "file_extension": ".py",
   "mimetype": "text/x-python",
   "name": "python",
   "nbconvert_exporter": "python",
   "pygments_lexer": "ipython3",
   "version": "3.9.0"
  }
 },
 "nbformat": 4,
 "nbformat_minor": 5
}
