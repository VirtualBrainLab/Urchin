{
 "cells": [
  {
   "cell_type": "markdown",
   "metadata": {},
   "source": [
    "# Memory mapping test (use with memmap scene)"
   ]
  },
  {
   "cell_type": "code",
   "execution_count": 9,
   "metadata": {},
   "outputs": [],
   "source": [
    "import mmap\n",
    "\n",
    "# Open a memory-mapped file for writing\n",
    "with open(\"mmap_example.bin\", \"wb\") as f:\n",
    "    f.write(b'\\x00' * 4096)  # Initialize with zeros\n",
    "    f.close()\n",
    "\n",
    "with open(\"mmap_example.bin\", \"r+b\") as f:\n",
    "    with mmap.mmap(f.fileno(), 0, access=mmap.ACCESS_WRITE) as mm:\n",
    "        mm.write(b\"Hello from Python!\")\n",
    "    f.close()"
   ]
  },
  {
   "cell_type": "code",
   "execution_count": null,
   "metadata": {},
   "outputs": [],
   "source": []
  }
 ],
 "metadata": {
  "kernelspec": {
   "display_name": "iblenv",
   "language": "python",
   "name": "python3"
  },
  "language_info": {
   "codemirror_mode": {
    "name": "ipython",
    "version": 3
   },
   "file_extension": ".py",
   "mimetype": "text/x-python",
   "name": "python",
   "nbconvert_exporter": "python",
   "pygments_lexer": "ipython3",
   "version": "3.9.0"
  },
  "orig_nbformat": 4
 },
 "nbformat": 4,
 "nbformat_minor": 2
}
