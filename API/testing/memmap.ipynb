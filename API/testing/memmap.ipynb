{
 "cells": [
  {
   "cell_type": "markdown",
   "metadata": {},
   "source": [
    "# Memory mapping test (use with memmap scene)"
   ]
  },
  {
   "cell_type": "code",
   "execution_count": 8,
   "metadata": {},
   "outputs": [
    {
     "name": "stdout",
     "output_type": "stream",
     "text": [
      "4\n"
     ]
    },
    {
     "ename": "PermissionError",
     "evalue": "[WinError 5] Access is denied",
     "output_type": "error",
     "traceback": [
      "\u001b[1;31m---------------------------------------------------------------------------\u001b[0m",
      "\u001b[1;31mPermissionError\u001b[0m                           Traceback (most recent call last)",
      "\u001b[1;32mc:\\proj\\VBL\\Urchin\\API\\testing\\memmap.ipynb Cell 2\u001b[0m in \u001b[0;36m<cell line: 10>\u001b[1;34m()\u001b[0m\n\u001b[0;32m      <a href='vscode-notebook-cell:/c%3A/proj/VBL/Urchin/API/testing/memmap.ipynb#W0sZmlsZQ%3D%3D?line=7'>8</a>\u001b[0m     f\u001b[39m.\u001b[39mclose()\n\u001b[0;32m     <a href='vscode-notebook-cell:/c%3A/proj/VBL/Urchin/API/testing/memmap.ipynb#W0sZmlsZQ%3D%3D?line=9'>10</a>\u001b[0m \u001b[39mwith\u001b[39;00m \u001b[39mopen\u001b[39m(\u001b[39m\"\u001b[39m\u001b[39mmmap_example.bin\u001b[39m\u001b[39m\"\u001b[39m, \u001b[39m\"\u001b[39m\u001b[39mrb\u001b[39m\u001b[39m\"\u001b[39m) \u001b[39mas\u001b[39;00m f:\n\u001b[1;32m---> <a href='vscode-notebook-cell:/c%3A/proj/VBL/Urchin/API/testing/memmap.ipynb#W0sZmlsZQ%3D%3D?line=10'>11</a>\u001b[0m     \u001b[39mwith\u001b[39;00m mmap\u001b[39m.\u001b[39;49mmmap(f\u001b[39m.\u001b[39;49mfileno(), \u001b[39m0\u001b[39;49m, access\u001b[39m=\u001b[39;49mmmap\u001b[39m.\u001b[39;49mACCESS_WRITE) \u001b[39mas\u001b[39;00m mm:\n\u001b[0;32m     <a href='vscode-notebook-cell:/c%3A/proj/VBL/Urchin/API/testing/memmap.ipynb#W0sZmlsZQ%3D%3D?line=11'>12</a>\u001b[0m         mm\u001b[39m.\u001b[39mwrite(\u001b[39mb\u001b[39m\u001b[39m\"\u001b[39m\u001b[39mHello from Python!\u001b[39m\u001b[39m\"\u001b[39m)\n",
      "\u001b[1;31mPermissionError\u001b[0m: [WinError 5] Access is denied"
     ]
    }
   ],
   "source": [
    "import mmap\n",
    "\n",
    "# Open a memory-mapped file for writing\n",
    "with open(\"mmap_example.bin\", \"wb\") as f:\n",
    "    f.write(b'\\x00' * 4096)  # Initialize with zeros\n",
    "    f.flush()\n",
    "    print(f.fileno())\n",
    "    f.close()\n",
    "\n",
    "with open(\"mmap_example.bin\", \"rb\") as f:\n",
    "    with mmap.mmap(f.fileno(), 0, access=mmap.ACCESS_WRITE) as mm:\n",
    "        mm.write(b\"Hello from Python!\")"
   ]
  },
  {
   "cell_type": "code",
   "execution_count": null,
   "metadata": {},
   "outputs": [],
   "source": []
  }
 ],
 "metadata": {
  "kernelspec": {
   "display_name": "iblenv",
   "language": "python",
   "name": "python3"
  },
  "language_info": {
   "codemirror_mode": {
    "name": "ipython",
    "version": 3
   },
   "file_extension": ".py",
   "mimetype": "text/x-python",
   "name": "python",
   "nbconvert_exporter": "python",
   "pygments_lexer": "ipython3",
   "version": "3.9.0"
  },
  "orig_nbformat": 4
 },
 "nbformat": 4,
 "nbformat_minor": 2
}
